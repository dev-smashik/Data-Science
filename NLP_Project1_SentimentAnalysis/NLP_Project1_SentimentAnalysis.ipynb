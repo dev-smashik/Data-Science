{
  "nbformat": 4,
  "nbformat_minor": 0,
  "metadata": {
    "colab": {
      "provenance": []
    },
    "kernelspec": {
      "name": "python3",
      "display_name": "Python 3"
    },
    "language_info": {
      "name": "python"
    }
  },
  "cells": [
    {
      "cell_type": "markdown",
      "source": [
        "**NLP Project 1. Sentiment Analysis on Customer Reviews**"
      ],
      "metadata": {
        "id": "DZPtpzwo6VR6"
      }
    },
    {
      "cell_type": "code",
      "execution_count": null,
      "metadata": {
        "id": "b8h7q7-g59E8"
      },
      "outputs": [],
      "source": [
        "import pandas as pd\n",
        "import matplotlib.pyplot as plt\n",
        "import seaborn as sns"
      ]
    },
    {
      "cell_type": "code",
      "source": [
        "import nltk\n",
        "from nltk.corpus import stopwords\n",
        "from nltk.stem import PorterStemmer, LancasterStemmer\n",
        "from nltk.tokenize import sent_tokenize, word_tokenize, RegexpTokenizer"
      ],
      "metadata": {
        "id": "ABBxH5Tn6aDT"
      },
      "execution_count": null,
      "outputs": []
    },
    {
      "cell_type": "code",
      "source": [
        "from collections import Counter"
      ],
      "metadata": {
        "id": "Qk0HMIVi6fy7"
      },
      "execution_count": null,
      "outputs": []
    },
    {
      "cell_type": "code",
      "source": [
        "from sklearn.metrics import accuracy_score\n",
        "from sklearn.linear_model import LogisticRegression\n",
        "from sklearn.model_selection import train_test_split\n",
        "from sklearn.feature_extraction.text import CountVectorizer, TfidfVectorizer\n",
        "%matplotlib inline"
      ],
      "metadata": {
        "id": "g3YqnAZA6j-D"
      },
      "execution_count": null,
      "outputs": []
    },
    {
      "cell_type": "code",
      "source": [
        "import pickle"
      ],
      "metadata": {
        "id": "heCRilWk6nDy"
      },
      "execution_count": null,
      "outputs": []
    },
    {
      "cell_type": "markdown",
      "source": [
        "**Section 1. part a. Load and Understanding the dataset**"
      ],
      "metadata": {
        "id": "XNVipPbH6pnU"
      }
    },
    {
      "cell_type": "code",
      "source": [
        "# load the data\n",
        "data = pd.read_excel(\"Canva_reviews.xlsx\")"
      ],
      "metadata": {
        "id": "zpfBWk0n6q1a"
      },
      "execution_count": null,
      "outputs": []
    },
    {
      "cell_type": "code",
      "source": [
        "# take a peak at data\n",
        "data.head(3)"
      ],
      "metadata": {
        "colab": {
          "base_uri": "https://localhost:8080/",
          "height": 476
        },
        "id": "6ScdJm846tvr",
        "outputId": "e304a970-49bb-4de1-85e5-c89d7cd9b826"
      },
      "execution_count": null,
      "outputs": [
        {
          "output_type": "execute_result",
          "data": {
            "text/plain": [
              "                                            reviewId            userName  \\\n",
              "0  gp:AOqpTOFxf3fttcT5DSvFIn9KPp5FErgH9yC533Fmoxv...      Donna Caritero   \n",
              "1  gp:AOqpTOEq6rNIWLnPV4KFTctWvm0mpGEQljtD6mvy1H-...  Soumi Mukhopadhyay   \n",
              "2  gp:AOqpTOE86hSyPRHZgYt28Uk5zGe4FZGb1hkmtFDiYJ2...   Theknown _unknown   \n",
              "\n",
              "                                           userImage  \\\n",
              "0  https://play-lh.googleusercontent.com/a-/AOh14...   \n",
              "1  https://play-lh.googleusercontent.com/a-/AOh14...   \n",
              "2  https://play-lh.googleusercontent.com/a-/AOh14...   \n",
              "\n",
              "                                              review  score  thumbsUpCount  \\\n",
              "0  Overall it's really an amazing app. I've been ...      4            528   \n",
              "1  Hey! Yes I gave a 5 star rating... coz I belie...      5            351   \n",
              "2  Canva used to be a good app! But recently I've...      1            160   \n",
              "\n",
              "  reviewCreatedVersion                  at  \\\n",
              "0              2.116.0 2021-06-17 07:18:54   \n",
              "1              2.116.0 2021-06-17 19:18:28   \n",
              "2              2.116.0 2021-06-23 19:13:28   \n",
              "\n",
              "                                        replyContent           repliedAt  \\\n",
              "0  Hi Donna. We are sorry that your text or desig... 2021-06-19 21:24:32   \n",
              "1                                                NaN                 NaT   \n",
              "2  Hi there. We're sorry to hear that you are hav... 2021-06-26 20:20:56   \n",
              "\n",
              "  Sentiment              Sub Category    Sub Category_test  \n",
              "0  Negative                       NaN  bug_picture_quality  \n",
              "1  Positive           extremely_happy                  NaN  \n",
              "2  Negative  saving_downloading_issue     bug_saving_files  "
            ],
            "text/html": [
              "\n",
              "  <div id=\"df-33d7287d-76ba-4b2f-8511-db9d1506df97\" class=\"colab-df-container\">\n",
              "    <div>\n",
              "<style scoped>\n",
              "    .dataframe tbody tr th:only-of-type {\n",
              "        vertical-align: middle;\n",
              "    }\n",
              "\n",
              "    .dataframe tbody tr th {\n",
              "        vertical-align: top;\n",
              "    }\n",
              "\n",
              "    .dataframe thead th {\n",
              "        text-align: right;\n",
              "    }\n",
              "</style>\n",
              "<table border=\"1\" class=\"dataframe\">\n",
              "  <thead>\n",
              "    <tr style=\"text-align: right;\">\n",
              "      <th></th>\n",
              "      <th>reviewId</th>\n",
              "      <th>userName</th>\n",
              "      <th>userImage</th>\n",
              "      <th>review</th>\n",
              "      <th>score</th>\n",
              "      <th>thumbsUpCount</th>\n",
              "      <th>reviewCreatedVersion</th>\n",
              "      <th>at</th>\n",
              "      <th>replyContent</th>\n",
              "      <th>repliedAt</th>\n",
              "      <th>Sentiment</th>\n",
              "      <th>Sub Category</th>\n",
              "      <th>Sub Category_test</th>\n",
              "    </tr>\n",
              "  </thead>\n",
              "  <tbody>\n",
              "    <tr>\n",
              "      <th>0</th>\n",
              "      <td>gp:AOqpTOFxf3fttcT5DSvFIn9KPp5FErgH9yC533Fmoxv...</td>\n",
              "      <td>Donna Caritero</td>\n",
              "      <td>https://play-lh.googleusercontent.com/a-/AOh14...</td>\n",
              "      <td>Overall it's really an amazing app. I've been ...</td>\n",
              "      <td>4</td>\n",
              "      <td>528</td>\n",
              "      <td>2.116.0</td>\n",
              "      <td>2021-06-17 07:18:54</td>\n",
              "      <td>Hi Donna. We are sorry that your text or desig...</td>\n",
              "      <td>2021-06-19 21:24:32</td>\n",
              "      <td>Negative</td>\n",
              "      <td>NaN</td>\n",
              "      <td>bug_picture_quality</td>\n",
              "    </tr>\n",
              "    <tr>\n",
              "      <th>1</th>\n",
              "      <td>gp:AOqpTOEq6rNIWLnPV4KFTctWvm0mpGEQljtD6mvy1H-...</td>\n",
              "      <td>Soumi Mukhopadhyay</td>\n",
              "      <td>https://play-lh.googleusercontent.com/a-/AOh14...</td>\n",
              "      <td>Hey! Yes I gave a 5 star rating... coz I belie...</td>\n",
              "      <td>5</td>\n",
              "      <td>351</td>\n",
              "      <td>2.116.0</td>\n",
              "      <td>2021-06-17 19:18:28</td>\n",
              "      <td>NaN</td>\n",
              "      <td>NaT</td>\n",
              "      <td>Positive</td>\n",
              "      <td>extremely_happy</td>\n",
              "      <td>NaN</td>\n",
              "    </tr>\n",
              "    <tr>\n",
              "      <th>2</th>\n",
              "      <td>gp:AOqpTOE86hSyPRHZgYt28Uk5zGe4FZGb1hkmtFDiYJ2...</td>\n",
              "      <td>Theknown _unknown</td>\n",
              "      <td>https://play-lh.googleusercontent.com/a-/AOh14...</td>\n",
              "      <td>Canva used to be a good app! But recently I've...</td>\n",
              "      <td>1</td>\n",
              "      <td>160</td>\n",
              "      <td>2.116.0</td>\n",
              "      <td>2021-06-23 19:13:28</td>\n",
              "      <td>Hi there. We're sorry to hear that you are hav...</td>\n",
              "      <td>2021-06-26 20:20:56</td>\n",
              "      <td>Negative</td>\n",
              "      <td>saving_downloading_issue</td>\n",
              "      <td>bug_saving_files</td>\n",
              "    </tr>\n",
              "  </tbody>\n",
              "</table>\n",
              "</div>\n",
              "    <div class=\"colab-df-buttons\">\n",
              "\n",
              "  <div class=\"colab-df-container\">\n",
              "    <button class=\"colab-df-convert\" onclick=\"convertToInteractive('df-33d7287d-76ba-4b2f-8511-db9d1506df97')\"\n",
              "            title=\"Convert this dataframe to an interactive table.\"\n",
              "            style=\"display:none;\">\n",
              "\n",
              "  <svg xmlns=\"http://www.w3.org/2000/svg\" height=\"24px\" viewBox=\"0 -960 960 960\">\n",
              "    <path d=\"M120-120v-720h720v720H120Zm60-500h600v-160H180v160Zm220 220h160v-160H400v160Zm0 220h160v-160H400v160ZM180-400h160v-160H180v160Zm440 0h160v-160H620v160ZM180-180h160v-160H180v160Zm440 0h160v-160H620v160Z\"/>\n",
              "  </svg>\n",
              "    </button>\n",
              "\n",
              "  <style>\n",
              "    .colab-df-container {\n",
              "      display:flex;\n",
              "      gap: 12px;\n",
              "    }\n",
              "\n",
              "    .colab-df-convert {\n",
              "      background-color: #E8F0FE;\n",
              "      border: none;\n",
              "      border-radius: 50%;\n",
              "      cursor: pointer;\n",
              "      display: none;\n",
              "      fill: #1967D2;\n",
              "      height: 32px;\n",
              "      padding: 0 0 0 0;\n",
              "      width: 32px;\n",
              "    }\n",
              "\n",
              "    .colab-df-convert:hover {\n",
              "      background-color: #E2EBFA;\n",
              "      box-shadow: 0px 1px 2px rgba(60, 64, 67, 0.3), 0px 1px 3px 1px rgba(60, 64, 67, 0.15);\n",
              "      fill: #174EA6;\n",
              "    }\n",
              "\n",
              "    .colab-df-buttons div {\n",
              "      margin-bottom: 4px;\n",
              "    }\n",
              "\n",
              "    [theme=dark] .colab-df-convert {\n",
              "      background-color: #3B4455;\n",
              "      fill: #D2E3FC;\n",
              "    }\n",
              "\n",
              "    [theme=dark] .colab-df-convert:hover {\n",
              "      background-color: #434B5C;\n",
              "      box-shadow: 0px 1px 3px 1px rgba(0, 0, 0, 0.15);\n",
              "      filter: drop-shadow(0px 1px 2px rgba(0, 0, 0, 0.3));\n",
              "      fill: #FFFFFF;\n",
              "    }\n",
              "  </style>\n",
              "\n",
              "    <script>\n",
              "      const buttonEl =\n",
              "        document.querySelector('#df-33d7287d-76ba-4b2f-8511-db9d1506df97 button.colab-df-convert');\n",
              "      buttonEl.style.display =\n",
              "        google.colab.kernel.accessAllowed ? 'block' : 'none';\n",
              "\n",
              "      async function convertToInteractive(key) {\n",
              "        const element = document.querySelector('#df-33d7287d-76ba-4b2f-8511-db9d1506df97');\n",
              "        const dataTable =\n",
              "          await google.colab.kernel.invokeFunction('convertToInteractive',\n",
              "                                                    [key], {});\n",
              "        if (!dataTable) return;\n",
              "\n",
              "        const docLinkHtml = 'Like what you see? Visit the ' +\n",
              "          '<a target=\"_blank\" href=https://colab.research.google.com/notebooks/data_table.ipynb>data table notebook</a>'\n",
              "          + ' to learn more about interactive tables.';\n",
              "        element.innerHTML = '';\n",
              "        dataTable['output_type'] = 'display_data';\n",
              "        await google.colab.output.renderOutput(dataTable, element);\n",
              "        const docLink = document.createElement('div');\n",
              "        docLink.innerHTML = docLinkHtml;\n",
              "        element.appendChild(docLink);\n",
              "      }\n",
              "    </script>\n",
              "  </div>\n",
              "\n",
              "\n",
              "<div id=\"df-b212c093-dcf3-4ab3-a11b-97fec0ccc416\">\n",
              "  <button class=\"colab-df-quickchart\" onclick=\"quickchart('df-b212c093-dcf3-4ab3-a11b-97fec0ccc416')\"\n",
              "            title=\"Suggest charts\"\n",
              "            style=\"display:none;\">\n",
              "\n",
              "<svg xmlns=\"http://www.w3.org/2000/svg\" height=\"24px\"viewBox=\"0 0 24 24\"\n",
              "     width=\"24px\">\n",
              "    <g>\n",
              "        <path d=\"M19 3H5c-1.1 0-2 .9-2 2v14c0 1.1.9 2 2 2h14c1.1 0 2-.9 2-2V5c0-1.1-.9-2-2-2zM9 17H7v-7h2v7zm4 0h-2V7h2v10zm4 0h-2v-4h2v4z\"/>\n",
              "    </g>\n",
              "</svg>\n",
              "  </button>\n",
              "\n",
              "<style>\n",
              "  .colab-df-quickchart {\n",
              "      --bg-color: #E8F0FE;\n",
              "      --fill-color: #1967D2;\n",
              "      --hover-bg-color: #E2EBFA;\n",
              "      --hover-fill-color: #174EA6;\n",
              "      --disabled-fill-color: #AAA;\n",
              "      --disabled-bg-color: #DDD;\n",
              "  }\n",
              "\n",
              "  [theme=dark] .colab-df-quickchart {\n",
              "      --bg-color: #3B4455;\n",
              "      --fill-color: #D2E3FC;\n",
              "      --hover-bg-color: #434B5C;\n",
              "      --hover-fill-color: #FFFFFF;\n",
              "      --disabled-bg-color: #3B4455;\n",
              "      --disabled-fill-color: #666;\n",
              "  }\n",
              "\n",
              "  .colab-df-quickchart {\n",
              "    background-color: var(--bg-color);\n",
              "    border: none;\n",
              "    border-radius: 50%;\n",
              "    cursor: pointer;\n",
              "    display: none;\n",
              "    fill: var(--fill-color);\n",
              "    height: 32px;\n",
              "    padding: 0;\n",
              "    width: 32px;\n",
              "  }\n",
              "\n",
              "  .colab-df-quickchart:hover {\n",
              "    background-color: var(--hover-bg-color);\n",
              "    box-shadow: 0 1px 2px rgba(60, 64, 67, 0.3), 0 1px 3px 1px rgba(60, 64, 67, 0.15);\n",
              "    fill: var(--button-hover-fill-color);\n",
              "  }\n",
              "\n",
              "  .colab-df-quickchart-complete:disabled,\n",
              "  .colab-df-quickchart-complete:disabled:hover {\n",
              "    background-color: var(--disabled-bg-color);\n",
              "    fill: var(--disabled-fill-color);\n",
              "    box-shadow: none;\n",
              "  }\n",
              "\n",
              "  .colab-df-spinner {\n",
              "    border: 2px solid var(--fill-color);\n",
              "    border-color: transparent;\n",
              "    border-bottom-color: var(--fill-color);\n",
              "    animation:\n",
              "      spin 1s steps(1) infinite;\n",
              "  }\n",
              "\n",
              "  @keyframes spin {\n",
              "    0% {\n",
              "      border-color: transparent;\n",
              "      border-bottom-color: var(--fill-color);\n",
              "      border-left-color: var(--fill-color);\n",
              "    }\n",
              "    20% {\n",
              "      border-color: transparent;\n",
              "      border-left-color: var(--fill-color);\n",
              "      border-top-color: var(--fill-color);\n",
              "    }\n",
              "    30% {\n",
              "      border-color: transparent;\n",
              "      border-left-color: var(--fill-color);\n",
              "      border-top-color: var(--fill-color);\n",
              "      border-right-color: var(--fill-color);\n",
              "    }\n",
              "    40% {\n",
              "      border-color: transparent;\n",
              "      border-right-color: var(--fill-color);\n",
              "      border-top-color: var(--fill-color);\n",
              "    }\n",
              "    60% {\n",
              "      border-color: transparent;\n",
              "      border-right-color: var(--fill-color);\n",
              "    }\n",
              "    80% {\n",
              "      border-color: transparent;\n",
              "      border-right-color: var(--fill-color);\n",
              "      border-bottom-color: var(--fill-color);\n",
              "    }\n",
              "    90% {\n",
              "      border-color: transparent;\n",
              "      border-bottom-color: var(--fill-color);\n",
              "    }\n",
              "  }\n",
              "</style>\n",
              "\n",
              "  <script>\n",
              "    async function quickchart(key) {\n",
              "      const quickchartButtonEl =\n",
              "        document.querySelector('#' + key + ' button');\n",
              "      quickchartButtonEl.disabled = true;  // To prevent multiple clicks.\n",
              "      quickchartButtonEl.classList.add('colab-df-spinner');\n",
              "      try {\n",
              "        const charts = await google.colab.kernel.invokeFunction(\n",
              "            'suggestCharts', [key], {});\n",
              "      } catch (error) {\n",
              "        console.error('Error during call to suggestCharts:', error);\n",
              "      }\n",
              "      quickchartButtonEl.classList.remove('colab-df-spinner');\n",
              "      quickchartButtonEl.classList.add('colab-df-quickchart-complete');\n",
              "    }\n",
              "    (() => {\n",
              "      let quickchartButtonEl =\n",
              "        document.querySelector('#df-b212c093-dcf3-4ab3-a11b-97fec0ccc416 button');\n",
              "      quickchartButtonEl.style.display =\n",
              "        google.colab.kernel.accessAllowed ? 'block' : 'none';\n",
              "    })();\n",
              "  </script>\n",
              "</div>\n",
              "\n",
              "    </div>\n",
              "  </div>\n"
            ],
            "application/vnd.google.colaboratory.intrinsic+json": {
              "type": "dataframe",
              "variable_name": "data",
              "summary": "{\n  \"name\": \"data\",\n  \"rows\": 1500,\n  \"fields\": [\n    {\n      \"column\": \"reviewId\",\n      \"properties\": {\n        \"dtype\": \"string\",\n        \"num_unique_values\": 1500,\n        \"samples\": [\n          \"gp:AOqpTOGCvl7EpTNT8Bpww2dwKH2FR7yQMBtUcMmCx3kRZzW7iGTvgAw9eqO-4d6OziisoJanCTqW_UAYTqWC4IU\",\n          \"gp:AOqpTOHHFDIwV9q33wBfRpebxVaY71-cNV2r2Lf941ZI4HGSZZ-eyCBvgn1z5bVTcDtwJyTZW1-LMCACM2jOUNE\",\n          \"gp:AOqpTOEcB2XOMGMSKEUAIZzKDYIg7WTVWAa-o2xQJKY_wlQvdNS0dgTa3mDE1llZhlo-mhuuCC2YFgmH-RfhPKY\"\n        ],\n        \"semantic_type\": \"\",\n        \"description\": \"\"\n      }\n    },\n    {\n      \"column\": \"userName\",\n      \"properties\": {\n        \"dtype\": \"string\",\n        \"num_unique_values\": 1500,\n        \"samples\": [\n          \"Smita Rai\",\n          \"Tammy Roy\",\n          \"Wentworth Derrick\"\n        ],\n        \"semantic_type\": \"\",\n        \"description\": \"\"\n      }\n    },\n    {\n      \"column\": \"userImage\",\n      \"properties\": {\n        \"dtype\": \"string\",\n        \"num_unique_values\": 1500,\n        \"samples\": [\n          \"https://play-lh.googleusercontent.com/a-/AOh14Gg-qrRJBHc-lE0sQFYut-dwN87LEWAUIKbv29hDhA\",\n          \"https://play-lh.googleusercontent.com/a-/AOh14GgwkSH0nuf5w3KBgb-cLyYorS65uAWesjOmxzOS\",\n          \"https://play-lh.googleusercontent.com/a-/AOh14Gj5cCVlkrpoKDw1Vv8wwQ-Ed_XazYoEioKGENQHRQ\"\n        ],\n        \"semantic_type\": \"\",\n        \"description\": \"\"\n      }\n    },\n    {\n      \"column\": \"review\",\n      \"properties\": {\n        \"dtype\": \"string\",\n        \"num_unique_values\": 1500,\n        \"samples\": [\n          \"Superb app lost of features just one problems is there that it is a bit expensive for students like us.\",\n          \"Loving how easy it is to get great ideas and turn them into something amazing! Thank you to the developers of this app!\",\n          \"Just what I've been looking for, very convenient for me.\"\n        ],\n        \"semantic_type\": \"\",\n        \"description\": \"\"\n      }\n    },\n    {\n      \"column\": \"score\",\n      \"properties\": {\n        \"dtype\": \"number\",\n        \"std\": 1,\n        \"min\": 1,\n        \"max\": 5,\n        \"num_unique_values\": 5,\n        \"samples\": [\n          5,\n          3,\n          1\n        ],\n        \"semantic_type\": \"\",\n        \"description\": \"\"\n      }\n    },\n    {\n      \"column\": \"thumbsUpCount\",\n      \"properties\": {\n        \"dtype\": \"number\",\n        \"std\": 18,\n        \"min\": 0,\n        \"max\": 528,\n        \"num_unique_values\": 26,\n        \"samples\": [\n          102,\n          10,\n          528\n        ],\n        \"semantic_type\": \"\",\n        \"description\": \"\"\n      }\n    },\n    {\n      \"column\": \"reviewCreatedVersion\",\n      \"properties\": {\n        \"dtype\": \"category\",\n        \"num_unique_values\": 23,\n        \"samples\": [\n          \"2.126.1\",\n          \"2.117.1\",\n          \"2.116.0\"\n        ],\n        \"semantic_type\": \"\",\n        \"description\": \"\"\n      }\n    },\n    {\n      \"column\": \"at\",\n      \"properties\": {\n        \"dtype\": \"date\",\n        \"min\": \"2021-06-16 15:54:36\",\n        \"max\": \"2021-09-13 21:43:15\",\n        \"num_unique_values\": 1500,\n        \"samples\": [\n          \"2021-07-21 10:37:38\",\n          \"2021-08-18 03:43:12\",\n          \"2021-07-05 14:44:08\"\n        ],\n        \"semantic_type\": \"\",\n        \"description\": \"\"\n      }\n    },\n    {\n      \"column\": \"replyContent\",\n      \"properties\": {\n        \"dtype\": \"category\",\n        \"num_unique_values\": 457,\n        \"samples\": [\n          \"Hi Gerald, we're sorry if your unable to download or share your designs. We want to make sure that you are properly assisted if you encountered any issues. Please provide us more details through here: canva.me/android. Don't forget to check for updates to get all the functionality of the app. - Lou\",\n          \"Hello Philemon, thank you for trying out Canva. We believe designing should be easy and fun. You can always visit support.canva.com and https://bit.ly/3ijoPpY for some quick guides through the app. Please make sure to update the app to get its full features. For concerns, reach us at canva.me/android. - Mary\\n\",\n          \"Hello Sujata, thank you for reaching out. We\\u2019re sorry to hear that you\\u2019re having trouble opening the application. Try to restart the device, clear the cache, and make sure you are connected to a good WiFi. We also suggest that you keep the app updated. If the problem persists, please contact us via canva.me/android. - Cynch\"\n        ],\n        \"semantic_type\": \"\",\n        \"description\": \"\"\n      }\n    },\n    {\n      \"column\": \"repliedAt\",\n      \"properties\": {\n        \"dtype\": \"date\",\n        \"min\": \"2018-12-16 22:19:40\",\n        \"max\": \"2021-09-16 09:28:04\",\n        \"num_unique_values\": 523,\n        \"samples\": [\n          \"2021-08-22 00:07:12\",\n          \"2021-08-04 00:18:43\",\n          \"2021-06-19 22:40:17\"\n        ],\n        \"semantic_type\": \"\",\n        \"description\": \"\"\n      }\n    },\n    {\n      \"column\": \"Sentiment\",\n      \"properties\": {\n        \"dtype\": \"category\",\n        \"num_unique_values\": 2,\n        \"samples\": [\n          \"Positive\",\n          \"Negative\"\n        ],\n        \"semantic_type\": \"\",\n        \"description\": \"\"\n      }\n    },\n    {\n      \"column\": \"Sub Category\",\n      \"properties\": {\n        \"dtype\": \"category\",\n        \"num_unique_values\": 5,\n        \"samples\": [\n          \"saving_downloading_issue\",\n          \"satisfied\"\n        ],\n        \"semantic_type\": \"\",\n        \"description\": \"\"\n      }\n    },\n    {\n      \"column\": \"Sub Category_test\",\n      \"properties\": {\n        \"dtype\": \"category\",\n        \"num_unique_values\": 4,\n        \"samples\": [\n          \"bug_saving_files\",\n          \"bug_other\"\n        ],\n        \"semantic_type\": \"\",\n        \"description\": \"\"\n      }\n    }\n  ]\n}"
            }
          },
          "metadata": {},
          "execution_count": 8
        }
      ]
    },
    {
      "cell_type": "code",
      "source": [
        "print(data.columns)"
      ],
      "metadata": {
        "colab": {
          "base_uri": "https://localhost:8080/"
        },
        "id": "2-iDEg7U6yQz",
        "outputId": "9dfafe7a-9e0a-45cd-afee-d87ce47c072d"
      },
      "execution_count": null,
      "outputs": [
        {
          "output_type": "stream",
          "name": "stdout",
          "text": [
            "Index(['reviewId', 'userName', 'userImage', 'review', 'score', 'thumbsUpCount',\n",
            "       'reviewCreatedVersion', 'at', 'replyContent', 'repliedAt', 'Sentiment',\n",
            "       'Sub Category', 'Sub Category_test'],\n",
            "      dtype='object')\n"
          ]
        }
      ]
    },
    {
      "cell_type": "code",
      "source": [
        "# dimension of the dataset\n",
        "data.shape"
      ],
      "metadata": {
        "colab": {
          "base_uri": "https://localhost:8080/"
        },
        "id": "fEm0OjI663Hq",
        "outputId": "3b3b99d0-553e-4402-a0f0-647cb3700e0d"
      },
      "execution_count": null,
      "outputs": [
        {
          "output_type": "execute_result",
          "data": {
            "text/plain": [
              "(1500, 13)"
            ]
          },
          "metadata": {},
          "execution_count": 10
        }
      ]
    },
    {
      "cell_type": "code",
      "source": [
        "# data types of columns / features\n",
        "data.dtypes"
      ],
      "metadata": {
        "colab": {
          "base_uri": "https://localhost:8080/",
          "height": 492
        },
        "id": "wZvDQPIF65Sr",
        "outputId": "41e8a3ec-c7ce-49d1-efd1-e36acf3bbb3d"
      },
      "execution_count": null,
      "outputs": [
        {
          "output_type": "execute_result",
          "data": {
            "text/plain": [
              "reviewId                        object\n",
              "userName                        object\n",
              "userImage                       object\n",
              "review                          object\n",
              "score                            int64\n",
              "thumbsUpCount                    int64\n",
              "reviewCreatedVersion            object\n",
              "at                      datetime64[ns]\n",
              "replyContent                    object\n",
              "repliedAt               datetime64[ns]\n",
              "Sentiment                       object\n",
              "Sub Category                    object\n",
              "Sub Category_test               object\n",
              "dtype: object"
            ],
            "text/html": [
              "<div>\n",
              "<style scoped>\n",
              "    .dataframe tbody tr th:only-of-type {\n",
              "        vertical-align: middle;\n",
              "    }\n",
              "\n",
              "    .dataframe tbody tr th {\n",
              "        vertical-align: top;\n",
              "    }\n",
              "\n",
              "    .dataframe thead th {\n",
              "        text-align: right;\n",
              "    }\n",
              "</style>\n",
              "<table border=\"1\" class=\"dataframe\">\n",
              "  <thead>\n",
              "    <tr style=\"text-align: right;\">\n",
              "      <th></th>\n",
              "      <th>0</th>\n",
              "    </tr>\n",
              "  </thead>\n",
              "  <tbody>\n",
              "    <tr>\n",
              "      <th>reviewId</th>\n",
              "      <td>object</td>\n",
              "    </tr>\n",
              "    <tr>\n",
              "      <th>userName</th>\n",
              "      <td>object</td>\n",
              "    </tr>\n",
              "    <tr>\n",
              "      <th>userImage</th>\n",
              "      <td>object</td>\n",
              "    </tr>\n",
              "    <tr>\n",
              "      <th>review</th>\n",
              "      <td>object</td>\n",
              "    </tr>\n",
              "    <tr>\n",
              "      <th>score</th>\n",
              "      <td>int64</td>\n",
              "    </tr>\n",
              "    <tr>\n",
              "      <th>thumbsUpCount</th>\n",
              "      <td>int64</td>\n",
              "    </tr>\n",
              "    <tr>\n",
              "      <th>reviewCreatedVersion</th>\n",
              "      <td>object</td>\n",
              "    </tr>\n",
              "    <tr>\n",
              "      <th>at</th>\n",
              "      <td>datetime64[ns]</td>\n",
              "    </tr>\n",
              "    <tr>\n",
              "      <th>replyContent</th>\n",
              "      <td>object</td>\n",
              "    </tr>\n",
              "    <tr>\n",
              "      <th>repliedAt</th>\n",
              "      <td>datetime64[ns]</td>\n",
              "    </tr>\n",
              "    <tr>\n",
              "      <th>Sentiment</th>\n",
              "      <td>object</td>\n",
              "    </tr>\n",
              "    <tr>\n",
              "      <th>Sub Category</th>\n",
              "      <td>object</td>\n",
              "    </tr>\n",
              "    <tr>\n",
              "      <th>Sub Category_test</th>\n",
              "      <td>object</td>\n",
              "    </tr>\n",
              "  </tbody>\n",
              "</table>\n",
              "</div><br><label><b>dtype:</b> object</label>"
            ]
          },
          "metadata": {},
          "execution_count": 11
        }
      ]
    },
    {
      "cell_type": "markdown",
      "source": [
        "**Checking Null Values**"
      ],
      "metadata": {
        "id": "T3A-VHfs6-FL"
      }
    },
    {
      "cell_type": "code",
      "source": [
        "# total null values in each column\n",
        "data.isnull().sum()"
      ],
      "metadata": {
        "colab": {
          "base_uri": "https://localhost:8080/",
          "height": 492
        },
        "id": "JAjn4oEN6_XS",
        "outputId": "8a637ed4-d2c5-4c9d-e940-e77aa1bace9f"
      },
      "execution_count": null,
      "outputs": [
        {
          "output_type": "execute_result",
          "data": {
            "text/plain": [
              "reviewId                   0\n",
              "userName                   0\n",
              "userImage                  0\n",
              "review                     0\n",
              "score                      0\n",
              "thumbsUpCount              0\n",
              "reviewCreatedVersion       0\n",
              "at                         0\n",
              "replyContent             977\n",
              "repliedAt                977\n",
              "Sentiment                  0\n",
              "Sub Category               1\n",
              "Sub Category_test       1477\n",
              "dtype: int64"
            ],
            "text/html": [
              "<div>\n",
              "<style scoped>\n",
              "    .dataframe tbody tr th:only-of-type {\n",
              "        vertical-align: middle;\n",
              "    }\n",
              "\n",
              "    .dataframe tbody tr th {\n",
              "        vertical-align: top;\n",
              "    }\n",
              "\n",
              "    .dataframe thead th {\n",
              "        text-align: right;\n",
              "    }\n",
              "</style>\n",
              "<table border=\"1\" class=\"dataframe\">\n",
              "  <thead>\n",
              "    <tr style=\"text-align: right;\">\n",
              "      <th></th>\n",
              "      <th>0</th>\n",
              "    </tr>\n",
              "  </thead>\n",
              "  <tbody>\n",
              "    <tr>\n",
              "      <th>reviewId</th>\n",
              "      <td>0</td>\n",
              "    </tr>\n",
              "    <tr>\n",
              "      <th>userName</th>\n",
              "      <td>0</td>\n",
              "    </tr>\n",
              "    <tr>\n",
              "      <th>userImage</th>\n",
              "      <td>0</td>\n",
              "    </tr>\n",
              "    <tr>\n",
              "      <th>review</th>\n",
              "      <td>0</td>\n",
              "    </tr>\n",
              "    <tr>\n",
              "      <th>score</th>\n",
              "      <td>0</td>\n",
              "    </tr>\n",
              "    <tr>\n",
              "      <th>thumbsUpCount</th>\n",
              "      <td>0</td>\n",
              "    </tr>\n",
              "    <tr>\n",
              "      <th>reviewCreatedVersion</th>\n",
              "      <td>0</td>\n",
              "    </tr>\n",
              "    <tr>\n",
              "      <th>at</th>\n",
              "      <td>0</td>\n",
              "    </tr>\n",
              "    <tr>\n",
              "      <th>replyContent</th>\n",
              "      <td>977</td>\n",
              "    </tr>\n",
              "    <tr>\n",
              "      <th>repliedAt</th>\n",
              "      <td>977</td>\n",
              "    </tr>\n",
              "    <tr>\n",
              "      <th>Sentiment</th>\n",
              "      <td>0</td>\n",
              "    </tr>\n",
              "    <tr>\n",
              "      <th>Sub Category</th>\n",
              "      <td>1</td>\n",
              "    </tr>\n",
              "    <tr>\n",
              "      <th>Sub Category_test</th>\n",
              "      <td>1477</td>\n",
              "    </tr>\n",
              "  </tbody>\n",
              "</table>\n",
              "</div><br><label><b>dtype:</b> int64</label>"
            ]
          },
          "metadata": {},
          "execution_count": 12
        }
      ]
    },
    {
      "cell_type": "markdown",
      "source": [
        "**Checking one particular row**"
      ],
      "metadata": {
        "id": "_3NPHFtM7GBj"
      }
    },
    {
      "cell_type": "code",
      "source": [
        "data.loc[13, \"review\"]"
      ],
      "metadata": {
        "colab": {
          "base_uri": "https://localhost:8080/",
          "height": 36
        },
        "id": "T0v-1mx27FBC",
        "outputId": "fe56cc2a-d72e-421a-f934-26f22d3cb3a1"
      },
      "execution_count": null,
      "outputs": [
        {
          "output_type": "execute_result",
          "data": {
            "text/plain": [
              "'Unable to save my work. Nothing works :('"
            ],
            "application/vnd.google.colaboratory.intrinsic+json": {
              "type": "string"
            }
          },
          "metadata": {},
          "execution_count": 13
        }
      ]
    },
    {
      "cell_type": "code",
      "source": [
        "data.loc[13, \"Sentiment\"]"
      ],
      "metadata": {
        "colab": {
          "base_uri": "https://localhost:8080/",
          "height": 36
        },
        "id": "_f6hAVMg7Lfz",
        "outputId": "514ebc42-6ed1-4281-c7b0-3e294a5613c5"
      },
      "execution_count": null,
      "outputs": [
        {
          "output_type": "execute_result",
          "data": {
            "text/plain": [
              "'Negative'"
            ],
            "application/vnd.google.colaboratory.intrinsic+json": {
              "type": "string"
            }
          },
          "metadata": {},
          "execution_count": 14
        }
      ]
    },
    {
      "cell_type": "code",
      "source": [
        "print(data.iloc[[1495]])"
      ],
      "metadata": {
        "colab": {
          "base_uri": "https://localhost:8080/"
        },
        "id": "vG_VJd-B7QIi",
        "outputId": "77b8c579-5ba5-4c29-9190-c83841b42a53"
      },
      "execution_count": null,
      "outputs": [
        {
          "output_type": "stream",
          "name": "stdout",
          "text": [
            "                                               reviewId  userName  \\\n",
            "1495  gp:AOqpTOHhnXMpylU3f-1V1KbR2hwWArOilxPlKI6K4xY...  Reen Ali   \n",
            "\n",
            "                                              userImage  \\\n",
            "1495  https://play-lh.googleusercontent.com/a-/AOh14...   \n",
            "\n",
            "                                                review  score  thumbsUpCount  \\\n",
            "1495  Absolutely amazing and a lifesaver for teachers.      5              0   \n",
            "\n",
            "     reviewCreatedVersion                  at replyContent repliedAt  \\\n",
            "1495              2.127.0 2021-09-07 02:45:51          NaN       NaT   \n",
            "\n",
            "     Sentiment     Sub Category Sub Category_test  \n",
            "1495  Positive  extremely_happy               NaN  \n"
          ]
        }
      ]
    },
    {
      "cell_type": "markdown",
      "source": [
        "**Section 1 - part b. EDA**"
      ],
      "metadata": {
        "id": "T0HSZ9d-7SVb"
      }
    },
    {
      "cell_type": "markdown",
      "source": [
        "**Count and percentage of Target variable**"
      ],
      "metadata": {
        "id": "Cd4_4LMl7Uv0"
      }
    },
    {
      "cell_type": "code",
      "source": [
        "data[\"Sentiment\"].describe()"
      ],
      "metadata": {
        "colab": {
          "base_uri": "https://localhost:8080/",
          "height": 209
        },
        "id": "3A4EzTMZ7TWL",
        "outputId": "85807d9b-52a3-4c99-e01b-2b497616792e"
      },
      "execution_count": null,
      "outputs": [
        {
          "output_type": "execute_result",
          "data": {
            "text/plain": [
              "count         1500\n",
              "unique           2\n",
              "top       Positive\n",
              "freq          1032\n",
              "Name: Sentiment, dtype: object"
            ],
            "text/html": [
              "<div>\n",
              "<style scoped>\n",
              "    .dataframe tbody tr th:only-of-type {\n",
              "        vertical-align: middle;\n",
              "    }\n",
              "\n",
              "    .dataframe tbody tr th {\n",
              "        vertical-align: top;\n",
              "    }\n",
              "\n",
              "    .dataframe thead th {\n",
              "        text-align: right;\n",
              "    }\n",
              "</style>\n",
              "<table border=\"1\" class=\"dataframe\">\n",
              "  <thead>\n",
              "    <tr style=\"text-align: right;\">\n",
              "      <th></th>\n",
              "      <th>Sentiment</th>\n",
              "    </tr>\n",
              "  </thead>\n",
              "  <tbody>\n",
              "    <tr>\n",
              "      <th>count</th>\n",
              "      <td>1500</td>\n",
              "    </tr>\n",
              "    <tr>\n",
              "      <th>unique</th>\n",
              "      <td>2</td>\n",
              "    </tr>\n",
              "    <tr>\n",
              "      <th>top</th>\n",
              "      <td>Positive</td>\n",
              "    </tr>\n",
              "    <tr>\n",
              "      <th>freq</th>\n",
              "      <td>1032</td>\n",
              "    </tr>\n",
              "  </tbody>\n",
              "</table>\n",
              "</div><br><label><b>dtype:</b> object</label>"
            ]
          },
          "metadata": {},
          "execution_count": 16
        }
      ]
    },
    {
      "cell_type": "code",
      "source": [
        "sns.countplot(x=\"Sentiment\", data=data)\n",
        "plt.show()"
      ],
      "metadata": {
        "colab": {
          "base_uri": "https://localhost:8080/",
          "height": 449
        },
        "id": "RalGpLih7X7q",
        "outputId": "7ce8f844-6111-463b-e7bc-4d568ca4b93d"
      },
      "execution_count": null,
      "outputs": [
        {
          "output_type": "display_data",
          "data": {
            "text/plain": [
              "<Figure size 640x480 with 1 Axes>"
            ],
            "image/png": "[encoded data removed]"
          },
          "metadata": {}
        }
      ]
    },
    {
      "cell_type": "code",
      "source": [
        "data[\"Sentiment\"].value_counts()"
      ],
      "metadata": {
        "colab": {
          "base_uri": "https://localhost:8080/",
          "height": 178
        },
        "id": "WU9MRytS7aZi",
        "outputId": "f429a538-d8c3-473b-ed69-3277d4db7c8e"
      },
      "execution_count": null,
      "outputs": [
        {
          "output_type": "execute_result",
          "data": {
            "text/plain": [
              "Sentiment\n",
              "Positive    1032\n",
              "Negative     468\n",
              "Name: count, dtype: int64"
            ],
            "text/html": [
              "<div>\n",
              "<style scoped>\n",
              "    .dataframe tbody tr th:only-of-type {\n",
              "        vertical-align: middle;\n",
              "    }\n",
              "\n",
              "    .dataframe tbody tr th {\n",
              "        vertical-align: top;\n",
              "    }\n",
              "\n",
              "    .dataframe thead th {\n",
              "        text-align: right;\n",
              "    }\n",
              "</style>\n",
              "<table border=\"1\" class=\"dataframe\">\n",
              "  <thead>\n",
              "    <tr style=\"text-align: right;\">\n",
              "      <th></th>\n",
              "      <th>count</th>\n",
              "    </tr>\n",
              "    <tr>\n",
              "      <th>Sentiment</th>\n",
              "      <th></th>\n",
              "    </tr>\n",
              "  </thead>\n",
              "  <tbody>\n",
              "    <tr>\n",
              "      <th>Positive</th>\n",
              "      <td>1032</td>\n",
              "    </tr>\n",
              "    <tr>\n",
              "      <th>Negative</th>\n",
              "      <td>468</td>\n",
              "    </tr>\n",
              "  </tbody>\n",
              "</table>\n",
              "</div><br><label><b>dtype:</b> int64</label>"
            ]
          },
          "metadata": {},
          "execution_count": 18
        }
      ]
    },
    {
      "cell_type": "code",
      "source": [
        "468/(1032+468)"
      ],
      "metadata": {
        "colab": {
          "base_uri": "https://localhost:8080/"
        },
        "id": "WRkY676H7ls6",
        "outputId": "178e0270-e85c-4c3a-c822-291fb42fad24"
      },
      "execution_count": null,
      "outputs": [
        {
          "output_type": "execute_result",
          "data": {
            "text/plain": [
              "0.312"
            ]
          },
          "metadata": {},
          "execution_count": 19
        }
      ]
    },
    {
      "cell_type": "markdown",
      "source": [
        "**Some more EDA**"
      ],
      "metadata": {
        "id": "vvt6tFjv7xfK"
      }
    },
    {
      "cell_type": "code",
      "source": [
        "# How is the feature 'score' distributed?\n",
        "sns.countplot(x=\"score\", data=data)\n",
        "plt.show()"
      ],
      "metadata": {
        "colab": {
          "base_uri": "https://localhost:8080/",
          "height": 449
        },
        "id": "FMDmP3YS7ruy",
        "outputId": "bf5e0677-2570-4e19-fb62-fae6ee15640f"
      },
      "execution_count": null,
      "outputs": [
        {
          "output_type": "display_data",
          "data": {
            "text/plain": [
              "<Figure size 640x480 with 1 Axes>"
            ],
            "image/png": "[encoded data removed]"
          },
          "metadata": {}
        }
      ]
    },
    {
      "cell_type": "code",
      "source": [
        "# Is score related to sentiment?\n",
        "\n",
        "sns.countplot(x=\"score\", data=data, hue=\"Sentiment\")\n",
        "plt.show()"
      ],
      "metadata": {
        "colab": {
          "base_uri": "https://localhost:8080/",
          "height": 449
        },
        "id": "QNBxnjEo7z-i",
        "outputId": "8adacea3-3d59-470b-8e8a-f53c03add822"
      },
      "execution_count": null,
      "outputs": [
        {
          "output_type": "display_data",
          "data": {
            "text/plain": [
              "<Figure size 640x480 with 1 Axes>"
            ],
            "image/png": "[encoded data removed]"
          },
          "metadata": {}
        }
      ]
    },
    {
      "cell_type": "code",
      "source": [
        "# Same plot, but showing the counts per score\n",
        "sns.set(style=\"whitegrid\")\n",
        "# Create the countplot\n",
        "ax = sns.countplot(x=\"score\", data=data, hue=\"Sentiment\")\n",
        "# Add data labels\n",
        "for p in ax.patches:\n",
        "    height = p.get_height()\n",
        "    ax.annotate(f'{height}', (p.get_x() + p.get_width() / 2., height),\n",
        "                ha='center', va='center', xytext=(0, 5), textcoords='offset points')\n",
        "# Show the plot\n",
        "plt.show()"
      ],
      "metadata": {
        "colab": {
          "base_uri": "https://localhost:8080/",
          "height": 458
        },
        "id": "cf8NTW9B74iq",
        "outputId": "eae00b52-69b8-4a87-c495-bed5e59b4ec5"
      },
      "execution_count": null,
      "outputs": [
        {
          "output_type": "display_data",
          "data": {
            "text/plain": [
              "<Figure size 640x480 with 1 Axes>"
            ],
            "image/png": "[encoded data removed]"
          },
          "metadata": {}
        }
      ]
    },
    {
      "cell_type": "code",
      "source": [
        "# is review length related to sentiment?\n",
        "# create a new column 'len' in the dataframe data\n",
        "data[\"len\"] = data[\"review\"].apply(len)"
      ],
      "metadata": {
        "id": "S6GyPCdb8T7i"
      },
      "execution_count": null,
      "outputs": []
    },
    {
      "cell_type": "code",
      "source": [
        "data[\"len\"].describe()"
      ],
      "metadata": {
        "colab": {
          "base_uri": "https://localhost:8080/",
          "height": 335
        },
        "id": "T2EWDZ2i8kLz",
        "outputId": "052c5795-eb5c-45cb-e24f-9a4d42499fdc"
      },
      "execution_count": null,
      "outputs": [
        {
          "output_type": "execute_result",
          "data": {
            "text/plain": [
              "count    1500.000000\n",
              "mean       86.468667\n",
              "std        55.681355\n",
              "min        20.000000\n",
              "25%        54.000000\n",
              "50%        75.000000\n",
              "75%       102.000000\n",
              "max       498.000000\n",
              "Name: len, dtype: float64"
            ],
            "text/html": [
              "<div>\n",
              "<style scoped>\n",
              "    .dataframe tbody tr th:only-of-type {\n",
              "        vertical-align: middle;\n",
              "    }\n",
              "\n",
              "    .dataframe tbody tr th {\n",
              "        vertical-align: top;\n",
              "    }\n",
              "\n",
              "    .dataframe thead th {\n",
              "        text-align: right;\n",
              "    }\n",
              "</style>\n",
              "<table border=\"1\" class=\"dataframe\">\n",
              "  <thead>\n",
              "    <tr style=\"text-align: right;\">\n",
              "      <th></th>\n",
              "      <th>len</th>\n",
              "    </tr>\n",
              "  </thead>\n",
              "  <tbody>\n",
              "    <tr>\n",
              "      <th>count</th>\n",
              "      <td>1500.000000</td>\n",
              "    </tr>\n",
              "    <tr>\n",
              "      <th>mean</th>\n",
              "      <td>86.468667</td>\n",
              "    </tr>\n",
              "    <tr>\n",
              "      <th>std</th>\n",
              "      <td>55.681355</td>\n",
              "    </tr>\n",
              "    <tr>\n",
              "      <th>min</th>\n",
              "      <td>20.000000</td>\n",
              "    </tr>\n",
              "    <tr>\n",
              "      <th>25%</th>\n",
              "      <td>54.000000</td>\n",
              "    </tr>\n",
              "    <tr>\n",
              "      <th>50%</th>\n",
              "      <td>75.000000</td>\n",
              "    </tr>\n",
              "    <tr>\n",
              "      <th>75%</th>\n",
              "      <td>102.000000</td>\n",
              "    </tr>\n",
              "    <tr>\n",
              "      <th>max</th>\n",
              "      <td>498.000000</td>\n",
              "    </tr>\n",
              "  </tbody>\n",
              "</table>\n",
              "</div><br><label><b>dtype:</b> float64</label>"
            ]
          },
          "metadata": {},
          "execution_count": 25
        }
      ]
    },
    {
      "cell_type": "code",
      "source": [
        "sns.displot(data[\"len\"])\n",
        "plt.show()"
      ],
      "metadata": {
        "colab": {
          "base_uri": "https://localhost:8080/",
          "height": 501
        },
        "id": "hSvyIxXk8mpi",
        "outputId": "a3294f70-3e4a-49e1-f39f-cd81efdbc29f"
      },
      "execution_count": null,
      "outputs": [
        {
          "output_type": "display_data",
          "data": {
            "text/plain": [
              "<Figure size 500x500 with 1 Axes>"
            ],
            "image/png": "[encoded data removed]"
          },
          "metadata": {}
        }
      ]
    },
    {
      "cell_type": "code",
      "source": [
        "sns.displot(data=data, x=\"len\", hue=\"Sentiment\", kind=\"kde\", fill=True)\n",
        "plt.show()\n"
      ],
      "metadata": {
        "colab": {
          "base_uri": "https://localhost:8080/",
          "height": 501
        },
        "id": "4-ZcEtoK8o9C",
        "outputId": "a0c57052-f6f1-4e40-8c10-62bfb2086e7d"
      },
      "execution_count": null,
      "outputs": [
        {
          "output_type": "display_data",
          "data": {
            "text/plain": [
              "<Figure size 623.75x500 with 1 Axes>"
            ],
            "image/png": "[encoded data removed]"
          },
          "metadata": {}
        }
      ]
    },
    {
      "cell_type": "code",
      "source": [
        "data = data[[\"review\", \"Sentiment\"]]"
      ],
      "metadata": {
        "id": "emDMsI4s8rU6"
      },
      "execution_count": null,
      "outputs": []
    },
    {
      "cell_type": "markdown",
      "source": [
        "**Section 2. Data Preprocessing**\n",
        "\n",
        "**1. Tokenization**\n",
        "\n",
        "This is where our actual task begins. Since we only deal with review and Sentiment columns, we can get\n",
        "rid of other variables.\n"
      ],
      "metadata": {
        "id": "PZBqmaq28wxq"
      }
    },
    {
      "cell_type": "code",
      "source": [
        "import nltk\n",
        "nltk.download()\n"
      ],
      "metadata": {
        "colab": {
          "base_uri": "https://localhost:8080/"
        },
        "id": "mJ2X0Vcw8t6T",
        "outputId": "47690c42-a6dc-4bc4-8865-fe6f04aff7a0"
      },
      "execution_count": null,
      "outputs": [
        {
          "name": "stdout",
          "output_type": "stream",
          "text": [
            "NLTK Downloader\n",
            "---------------------------------------------------------------------------\n",
            "    d) Download   l) List    u) Update   c) Config   h) Help   q) Quit\n",
            "---------------------------------------------------------------------------\n",
            "Downloader> d\n",
            "\n",
            "Download which package (l=list; x=cancel)?\n",
            "  Identifier> all\n"
          ]
        },
        {
          "output_type": "stream",
          "name": "stderr",
          "text": [
            "    Downloading collection 'all'\n",
            "       | \n",
            "       | Downloading package abc to /root/nltk_data...\n",
            "       |   Unzipping corpora/abc.zip.\n",
            "       | Downloading package alpino to /root/nltk_data...\n",
            "       |   Unzipping corpora/alpino.zip.\n",
            "       | Downloading package averaged_perceptron_tagger to\n",
            "       |     /root/nltk_data...\n",
            "       |   Unzipping taggers/averaged_perceptron_tagger.zip.\n",
            "       | Downloading package averaged_perceptron_tagger_eng to\n",
            "       |     /root/nltk_data...\n",
            "       |   Unzipping taggers/averaged_perceptron_tagger_eng.zip.\n",
            "       | Downloading package averaged_perceptron_tagger_ru to\n",
            "       |     /root/nltk_data...\n",
            "       |   Unzipping taggers/averaged_perceptron_tagger_ru.zip.\n",
            "       | Downloading package averaged_perceptron_tagger_rus to\n",
            "       |     /root/nltk_data...\n",
            "       |   Unzipping taggers/averaged_perceptron_tagger_rus.zip.\n",
            "       | Downloading package basque_grammars to /root/nltk_data...\n",
            "       |   Unzipping grammars/basque_grammars.zip.\n",
            "       | Downloading package bcp47 to /root/nltk_data...\n",
            "       | Downloading package biocreative_ppi to /root/nltk_data...\n",
            "       |   Unzipping corpora/biocreative_ppi.zip.\n",
            "       | Downloading package bllip_wsj_no_aux to /root/nltk_data...\n",
            "       |   Unzipping models/bllip_wsj_no_aux.zip.\n",
            "       | Downloading package book_grammars to /root/nltk_data...\n",
            "       |   Unzipping grammars/book_grammars.zip.\n",
            "       | Downloading package brown to /root/nltk_data...\n",
            "       |   Unzipping corpora/brown.zip.\n",
            "       | Downloading package brown_tei to /root/nltk_data...\n",
            "       |   Unzipping corpora/brown_tei.zip.\n",
            "       | Downloading package cess_cat to /root/nltk_data...\n",
            "       |   Unzipping corpora/cess_cat.zip.\n",
            "       | Downloading package cess_esp to /root/nltk_data...\n",
            "       |   Unzipping corpora/cess_esp.zip.\n",
            "       | Downloading package chat80 to /root/nltk_data...\n",
            "       |   Unzipping corpora/chat80.zip.\n",
            "       | Downloading package city_database to /root/nltk_data...\n",
            "       |   Unzipping corpora/city_database.zip.\n",
            "       | Downloading package cmudict to /root/nltk_data...\n",
            "       |   Unzipping corpora/cmudict.zip.\n",
            "       | Downloading package comparative_sentences to\n",
            "       |     /root/nltk_data...\n",
            "       |   Unzipping corpora/comparative_sentences.zip.\n",
            "       | Downloading package comtrans to /root/nltk_data...\n",
            "       | Downloading package conll2000 to /root/nltk_data...\n",
            "       |   Unzipping corpora/conll2000.zip.\n",
            "       | Downloading package conll2002 to /root/nltk_data...\n",
            "       |   Unzipping corpora/conll2002.zip.\n",
            "       | Downloading package conll2007 to /root/nltk_data...\n",
            "       | Downloading package crubadan to /root/nltk_data...\n",
            "       |   Unzipping corpora/crubadan.zip.\n",
            "       | Downloading package dependency_treebank to /root/nltk_data...\n",
            "       |   Unzipping corpora/dependency_treebank.zip.\n",
            "       | Downloading package dolch to /root/nltk_data...\n",
            "       |   Unzipping corpora/dolch.zip.\n",
            "       | Downloading package europarl_raw to /root/nltk_data...\n",
            "       |   Unzipping corpora/europarl_raw.zip.\n",
            "       | Downloading package extended_omw to /root/nltk_data...\n",
            "       | Downloading package floresta to /root/nltk_data...\n",
            "       |   Unzipping corpora/floresta.zip.\n",
            "       | Downloading package framenet_v15 to /root/nltk_data...\n",
            "       |   Unzipping corpora/framenet_v15.zip.\n",
            "       | Downloading package framenet_v17 to /root/nltk_data...\n",
            "       |   Unzipping corpora/framenet_v17.zip.\n",
            "       | Downloading package gazetteers to /root/nltk_data...\n",
            "       |   Unzipping corpora/gazetteers.zip.\n",
            "       | Downloading package genesis to /root/nltk_data...\n",
            "       |   Unzipping corpora/genesis.zip.\n",
            "       | Downloading package gutenberg to /root/nltk_data...\n",
            "       |   Unzipping corpora/gutenberg.zip.\n",
            "       | Downloading package ieer to /root/nltk_data...\n",
            "       |   Unzipping corpora/ieer.zip.\n",
            "       | Downloading package inaugural to /root/nltk_data...\n",
            "       |   Unzipping corpora/inaugural.zip.\n",
            "       | Downloading package indian to /root/nltk_data...\n",
            "       |   Unzipping corpora/indian.zip.\n",
            "       | Downloading package jeita to /root/nltk_data...\n",
            "       | Downloading package kimmo to /root/nltk_data...\n",
            "       |   Unzipping corpora/kimmo.zip.\n",
            "       | Downloading package knbc to /root/nltk_data...\n",
            "       | Downloading package large_grammars to /root/nltk_data...\n",
            "       |   Unzipping grammars/large_grammars.zip.\n",
            "       | Downloading package lin_thesaurus to /root/nltk_data...\n",
            "       |   Unzipping corpora/lin_thesaurus.zip.\n",
            "       | Downloading package mac_morpho to /root/nltk_data...\n",
            "       |   Unzipping corpora/mac_morpho.zip.\n",
            "       | Downloading package machado to /root/nltk_data...\n",
            "       | Downloading package masc_tagged to /root/nltk_data...\n",
            "       | Downloading package maxent_ne_chunker to /root/nltk_data...\n",
            "       |   Unzipping chunkers/maxent_ne_chunker.zip.\n",
            "       | Downloading package maxent_ne_chunker_tab to\n",
            "       |     /root/nltk_data...\n",
            "       |   Unzipping chunkers/maxent_ne_chunker_tab.zip.\n",
            "       | Downloading package maxent_treebank_pos_tagger to\n",
            "       |     /root/nltk_data...\n",
            "       |   Unzipping taggers/maxent_treebank_pos_tagger.zip.\n",
            "       | Downloading package maxent_treebank_pos_tagger_tab to\n",
            "       |     /root/nltk_data...\n",
            "       |   Unzipping taggers/maxent_treebank_pos_tagger_tab.zip.\n",
            "       | Downloading package moses_sample to /root/nltk_data...\n",
            "       |   Unzipping models/moses_sample.zip.\n",
            "       | Downloading package movie_reviews to /root/nltk_data...\n",
            "       |   Unzipping corpora/movie_reviews.zip.\n",
            "       | Downloading package mte_teip5 to /root/nltk_data...\n",
            "       |   Unzipping corpora/mte_teip5.zip.\n",
            "       | Downloading package mwa_ppdb to /root/nltk_data...\n",
            "       |   Unzipping misc/mwa_ppdb.zip.\n",
            "       | Downloading package names to /root/nltk_data...\n",
            "       |   Unzipping corpora/names.zip.\n",
            "       | Downloading package nombank.1.0 to /root/nltk_data...\n",
            "       | Downloading package nonbreaking_prefixes to\n",
            "       |     /root/nltk_data...\n",
            "       |   Unzipping corpora/nonbreaking_prefixes.zip.\n",
            "       | Downloading package nps_chat to /root/nltk_data...\n",
            "       |   Unzipping corpora/nps_chat.zip.\n",
            "       | Downloading package omw to /root/nltk_data...\n",
            "       | Downloading package omw-1.4 to /root/nltk_data...\n",
            "       | Downloading package opinion_lexicon to /root/nltk_data...\n",
            "       |   Unzipping corpora/opinion_lexicon.zip.\n",
            "       | Downloading package panlex_swadesh to /root/nltk_data...\n",
            "       | Downloading package paradigms to /root/nltk_data...\n",
            "       |   Unzipping corpora/paradigms.zip.\n",
            "       | Downloading package pe08 to /root/nltk_data...\n",
            "       |   Unzipping corpora/pe08.zip.\n",
            "       | Downloading package perluniprops to /root/nltk_data...\n",
            "       |   Unzipping misc/perluniprops.zip.\n",
            "       | Downloading package pil to /root/nltk_data...\n",
            "       |   Unzipping corpora/pil.zip.\n",
            "       | Downloading package pl196x to /root/nltk_data...\n",
            "       |   Unzipping corpora/pl196x.zip.\n",
            "       | Downloading package porter_test to /root/nltk_data...\n",
            "       |   Unzipping stemmers/porter_test.zip.\n",
            "       | Downloading package ppattach to /root/nltk_data...\n",
            "       |   Unzipping corpora/ppattach.zip.\n",
            "       | Downloading package problem_reports to /root/nltk_data...\n",
            "       |   Unzipping corpora/problem_reports.zip.\n",
            "       | Downloading package product_reviews_1 to /root/nltk_data...\n",
            "       |   Unzipping corpora/product_reviews_1.zip.\n",
            "       | Downloading package product_reviews_2 to /root/nltk_data...\n",
            "       |   Unzipping corpora/product_reviews_2.zip.\n",
            "       | Downloading package propbank to /root/nltk_data...\n",
            "       | Downloading package pros_cons to /root/nltk_data...\n",
            "       |   Unzipping corpora/pros_cons.zip.\n",
            "       | Downloading package ptb to /root/nltk_data...\n",
            "       |   Unzipping corpora/ptb.zip.\n",
            "       | Downloading package punkt to /root/nltk_data...\n",
            "       |   Unzipping tokenizers/punkt.zip.\n",
            "       | Downloading package punkt_tab to /root/nltk_data...\n",
            "       |   Unzipping tokenizers/punkt_tab.zip.\n",
            "       | Downloading package qc to /root/nltk_data...\n",
            "       |   Unzipping corpora/qc.zip.\n",
            "       | Downloading package reuters to /root/nltk_data...\n",
            "       | Downloading package rslp to /root/nltk_data...\n",
            "       |   Unzipping stemmers/rslp.zip.\n",
            "       | Downloading package rte to /root/nltk_data...\n",
            "       |   Unzipping corpora/rte.zip.\n",
            "       | Downloading package sample_grammars to /root/nltk_data...\n",
            "       |   Unzipping grammars/sample_grammars.zip.\n",
            "       | Downloading package semcor to /root/nltk_data...\n",
            "       | Downloading package senseval to /root/nltk_data...\n",
            "       |   Unzipping corpora/senseval.zip.\n",
            "       | Downloading package sentence_polarity to /root/nltk_data...\n",
            "       |   Unzipping corpora/sentence_polarity.zip.\n",
            "       | Downloading package sentiwordnet to /root/nltk_data...\n",
            "       |   Unzipping corpora/sentiwordnet.zip.\n",
            "       | Downloading package shakespeare to /root/nltk_data...\n",
            "       |   Unzipping corpora/shakespeare.zip.\n",
            "       | Downloading package sinica_treebank to /root/nltk_data...\n",
            "       |   Unzipping corpora/sinica_treebank.zip.\n",
            "       | Downloading package smultron to /root/nltk_data...\n",
            "       |   Unzipping corpora/smultron.zip.\n",
            "       | Downloading package snowball_data to /root/nltk_data...\n",
            "       | Downloading package spanish_grammars to /root/nltk_data...\n",
            "       |   Unzipping grammars/spanish_grammars.zip.\n",
            "       | Downloading package state_union to /root/nltk_data...\n",
            "       |   Unzipping corpora/state_union.zip.\n",
            "       | Downloading package stopwords to /root/nltk_data...\n",
            "       |   Unzipping corpora/stopwords.zip.\n",
            "       | Downloading package subjectivity to /root/nltk_data...\n",
            "       |   Unzipping corpora/subjectivity.zip.\n",
            "       | Downloading package swadesh to /root/nltk_data...\n",
            "       |   Unzipping corpora/swadesh.zip.\n",
            "       | Downloading package switchboard to /root/nltk_data...\n",
            "       |   Unzipping corpora/switchboard.zip.\n",
            "       | Downloading package tagsets to /root/nltk_data...\n",
            "       |   Unzipping help/tagsets.zip.\n",
            "       | Downloading package tagsets_json to /root/nltk_data...\n",
            "       |   Unzipping help/tagsets_json.zip.\n",
            "       | Downloading package timit to /root/nltk_data...\n",
            "       |   Unzipping corpora/timit.zip.\n",
            "       | Downloading package toolbox to /root/nltk_data...\n",
            "       |   Unzipping corpora/toolbox.zip.\n",
            "       | Downloading package treebank to /root/nltk_data...\n",
            "       |   Unzipping corpora/treebank.zip.\n",
            "       | Downloading package twitter_samples to /root/nltk_data...\n",
            "       |   Unzipping corpora/twitter_samples.zip.\n",
            "       | Downloading package udhr to /root/nltk_data...\n",
            "       |   Unzipping corpora/udhr.zip.\n",
            "       | Downloading package udhr2 to /root/nltk_data...\n",
            "       |   Unzipping corpora/udhr2.zip.\n",
            "       | Downloading package unicode_samples to /root/nltk_data...\n",
            "       |   Unzipping corpora/unicode_samples.zip.\n",
            "       | Downloading package universal_tagset to /root/nltk_data...\n",
            "       |   Unzipping taggers/universal_tagset.zip.\n",
            "       | Downloading package universal_treebanks_v20 to\n",
            "       |     /root/nltk_data...\n",
            "       | Downloading package vader_lexicon to /root/nltk_data...\n",
            "       | Downloading package verbnet to /root/nltk_data...\n",
            "       |   Unzipping corpora/verbnet.zip.\n",
            "       | Downloading package verbnet3 to /root/nltk_data...\n",
            "       |   Unzipping corpora/verbnet3.zip.\n",
            "       | Downloading package webtext to /root/nltk_data...\n",
            "       |   Unzipping corpora/webtext.zip.\n",
            "       | Downloading package wmt15_eval to /root/nltk_data...\n",
            "       |   Unzipping models/wmt15_eval.zip.\n",
            "       | Downloading package word2vec_sample to /root/nltk_data...\n",
            "       |   Unzipping models/word2vec_sample.zip.\n",
            "       | Downloading package wordnet to /root/nltk_data...\n",
            "       | Downloading package wordnet2021 to /root/nltk_data...\n",
            "       | Downloading package wordnet2022 to /root/nltk_data...\n",
            "       |   Unzipping corpora/wordnet2022.zip.\n",
            "       | Downloading package wordnet31 to /root/nltk_data...\n",
            "       | Downloading package wordnet_ic to /root/nltk_data...\n",
            "       |   Unzipping corpora/wordnet_ic.zip.\n",
            "       | Downloading package words to /root/nltk_data...\n",
            "       |   Unzipping corpora/words.zip.\n",
            "       | Downloading package ycoe to /root/nltk_data...\n",
            "       |   Unzipping corpora/ycoe.zip.\n",
            "       | \n",
            "     Done downloading collection all\n"
          ]
        },
        {
          "name": "stdout",
          "output_type": "stream",
          "text": [
            "\n",
            "---------------------------------------------------------------------------\n",
            "    d) Download   l) List    u) Update   c) Config   h) Help   q) Quit\n",
            "---------------------------------------------------------------------------\n",
            "Downloader> q\n"
          ]
        },
        {
          "output_type": "execute_result",
          "data": {
            "text/plain": [
              "True"
            ]
          },
          "metadata": {},
          "execution_count": 30
        }
      ]
    },
    {
      "cell_type": "code",
      "source": [
        "# go to add the required libraries from nltk now"
      ],
      "metadata": {
        "id": "X0if8VDW86bC"
      },
      "execution_count": null,
      "outputs": []
    },
    {
      "cell_type": "code",
      "source": [
        "data.loc[13, \"review\"]\n"
      ],
      "metadata": {
        "colab": {
          "base_uri": "https://localhost:8080/",
          "height": 36
        },
        "id": "a167pd5M-lIp",
        "outputId": "d311f3ba-58c2-4a9d-ef8f-391c606d31e3"
      },
      "execution_count": null,
      "outputs": [
        {
          "output_type": "execute_result",
          "data": {
            "text/plain": [
              "'Unable to save my work. Nothing works :('"
            ],
            "application/vnd.google.colaboratory.intrinsic+json": {
              "type": "string"
            }
          },
          "metadata": {},
          "execution_count": 32
        }
      ]
    },
    {
      "cell_type": "code",
      "source": [
        "sent_tokenize(data.loc[13,\"review\"])"
      ],
      "metadata": {
        "colab": {
          "base_uri": "https://localhost:8080/"
        },
        "id": "P4LCzpGM-owJ",
        "outputId": "f3dff93f-2df4-4426-92cc-b2384555c2f2"
      },
      "execution_count": null,
      "outputs": [
        {
          "output_type": "execute_result",
          "data": {
            "text/plain": [
              "['Unable to save my work.', 'Nothing works :(']"
            ]
          },
          "metadata": {},
          "execution_count": 33
        }
      ]
    },
    {
      "cell_type": "code",
      "source": [
        "word_tokenize(data.loc[13, \"review\"])"
      ],
      "metadata": {
        "colab": {
          "base_uri": "https://localhost:8080/"
        },
        "id": "4nz3uZhn-5lz",
        "outputId": "89630419-5a71-4787-e325-0616165ea1e9"
      },
      "execution_count": null,
      "outputs": [
        {
          "output_type": "execute_result",
          "data": {
            "text/plain": [
              "['Unable', 'to', 'save', 'my', 'work', '.', 'Nothing', 'works', ':', '(']"
            ]
          },
          "metadata": {},
          "execution_count": 34
        }
      ]
    },
    {
      "cell_type": "code",
      "source": [
        "data.loc[1495, \"review\"]"
      ],
      "metadata": {
        "colab": {
          "base_uri": "https://localhost:8080/",
          "height": 36
        },
        "id": "o6TVgdwh-7xK",
        "outputId": "0dd0101a-705d-4c21-d1e5-bbba84872562"
      },
      "execution_count": null,
      "outputs": [
        {
          "output_type": "execute_result",
          "data": {
            "text/plain": [
              "'Absolutely amazing and a lifesaver for teachers.'"
            ],
            "application/vnd.google.colaboratory.intrinsic+json": {
              "type": "string"
            }
          },
          "metadata": {},
          "execution_count": 35
        }
      ]
    },
    {
      "cell_type": "markdown",
      "source": [
        "**2. Convert text to lower case**"
      ],
      "metadata": {
        "id": "GxV9Lfun_ApR"
      }
    },
    {
      "cell_type": "code",
      "source": [
        "# copying the review column from the dataframe data in which we have only 2 columns\n",
        "reviews = list(data[\"review\"])"
      ],
      "metadata": {
        "id": "3aakqF5N--VZ"
      },
      "execution_count": null,
      "outputs": []
    },
    {
      "cell_type": "code",
      "source": [
        "#number of entries in the list review\n",
        "len(reviews)\n"
      ],
      "metadata": {
        "colab": {
          "base_uri": "https://localhost:8080/"
        },
        "id": "iXt5cz8p_EfJ",
        "outputId": "301910dc-64ae-44f1-be5a-ae48eeba568c"
      },
      "execution_count": null,
      "outputs": [
        {
          "output_type": "execute_result",
          "data": {
            "text/plain": [
              "1500"
            ]
          },
          "metadata": {},
          "execution_count": 37
        }
      ]
    },
    {
      "cell_type": "code",
      "source": [
        "reviews[13]"
      ],
      "metadata": {
        "colab": {
          "base_uri": "https://localhost:8080/",
          "height": 36
        },
        "id": "7E-iXUEZ_GWJ",
        "outputId": "c4b7cb10-4ec5-4543-f121-efa2d8942b92"
      },
      "execution_count": null,
      "outputs": [
        {
          "output_type": "execute_result",
          "data": {
            "text/plain": [
              "'Unable to save my work. Nothing works :('"
            ],
            "application/vnd.google.colaboratory.intrinsic+json": {
              "type": "string"
            }
          },
          "metadata": {},
          "execution_count": 38
        }
      ]
    },
    {
      "cell_type": "code",
      "source": [
        "reviews[1495]\n"
      ],
      "metadata": {
        "colab": {
          "base_uri": "https://localhost:8080/",
          "height": 36
        },
        "id": "XNuUzzMI_JZB",
        "outputId": "475169be-7cba-4d03-b03f-09eb6d05d20d"
      },
      "execution_count": null,
      "outputs": [
        {
          "output_type": "execute_result",
          "data": {
            "text/plain": [
              "'Absolutely amazing and a lifesaver for teachers.'"
            ],
            "application/vnd.google.colaboratory.intrinsic+json": {
              "type": "string"
            }
          },
          "metadata": {},
          "execution_count": 39
        }
      ]
    },
    {
      "cell_type": "code",
      "source": [
        "reviews[1495].lower()"
      ],
      "metadata": {
        "colab": {
          "base_uri": "https://localhost:8080/",
          "height": 36
        },
        "id": "-jIo8hCO_Lg4",
        "outputId": "9079309b-24f2-4b35-fad3-366b0980dc58"
      },
      "execution_count": null,
      "outputs": [
        {
          "output_type": "execute_result",
          "data": {
            "text/plain": [
              "'absolutely amazing and a lifesaver for teachers.'"
            ],
            "application/vnd.google.colaboratory.intrinsic+json": {
              "type": "string"
            }
          },
          "metadata": {},
          "execution_count": 40
        }
      ]
    },
    {
      "cell_type": "code",
      "source": [
        "reviews_lower = [r.lower() for r in reviews]"
      ],
      "metadata": {
        "id": "UQpdXF7M_NjN"
      },
      "execution_count": null,
      "outputs": []
    },
    {
      "cell_type": "code",
      "source": [
        "reviews_lower[13]"
      ],
      "metadata": {
        "colab": {
          "base_uri": "https://localhost:8080/",
          "height": 36
        },
        "id": "1wZFlchn_QDx",
        "outputId": "c3031056-2454-432e-ac6c-e656d863b90a"
      },
      "execution_count": null,
      "outputs": [
        {
          "output_type": "execute_result",
          "data": {
            "text/plain": [
              "'unable to save my work. nothing works :('"
            ],
            "application/vnd.google.colaboratory.intrinsic+json": {
              "type": "string"
            }
          },
          "metadata": {},
          "execution_count": 42
        }
      ]
    },
    {
      "cell_type": "code",
      "source": [
        "reviews_lower = []\n",
        "for r in reviews:\n",
        " reviews_lower.append(r.lower())"
      ],
      "metadata": {
        "id": "29XMzeSe_R4J"
      },
      "execution_count": null,
      "outputs": []
    },
    {
      "cell_type": "code",
      "source": [
        "# now we create another list of lists from revws\n",
        "tokens = [word_tokenize(r) for r in reviews_lower]\n"
      ],
      "metadata": {
        "id": "zVR5eERO_Ula"
      },
      "execution_count": null,
      "outputs": []
    },
    {
      "cell_type": "code",
      "source": [
        "tokens[13]"
      ],
      "metadata": {
        "colab": {
          "base_uri": "https://localhost:8080/"
        },
        "id": "NcoPHRB0_W_5",
        "outputId": "3bfe2814-83c3-4c19-fb04-92bce7e567e0"
      },
      "execution_count": null,
      "outputs": [
        {
          "output_type": "execute_result",
          "data": {
            "text/plain": [
              "['unable', 'to', 'save', 'my', 'work', '.', 'nothing', 'works', ':', '(']"
            ]
          },
          "metadata": {},
          "execution_count": 45
        }
      ]
    },
    {
      "cell_type": "code",
      "source": [
        "tokens[1495]"
      ],
      "metadata": {
        "colab": {
          "base_uri": "https://localhost:8080/"
        },
        "id": "EDYqQRt5_ZSJ",
        "outputId": "9de3b7ae-1352-4f08-e0f5-7adc02e9f2c2"
      },
      "execution_count": null,
      "outputs": [
        {
          "output_type": "execute_result",
          "data": {
            "text/plain": [
              "['absolutely', 'amazing', 'and', 'a', 'lifesaver', 'for', 'teachers', '.']"
            ]
          },
          "metadata": {},
          "execution_count": 46
        }
      ]
    },
    {
      "cell_type": "code",
      "source": [
        "len(tokens)"
      ],
      "metadata": {
        "colab": {
          "base_uri": "https://localhost:8080/"
        },
        "id": "1YreB4_-_bJR",
        "outputId": "39656cc0-0504-4b8e-e43b-a7245c052f73"
      },
      "execution_count": null,
      "outputs": [
        {
          "output_type": "execute_result",
          "data": {
            "text/plain": [
              "1500"
            ]
          },
          "metadata": {},
          "execution_count": 47
        }
      ]
    },
    {
      "cell_type": "markdown",
      "source": [
        "So, we started with dataframe data. We copied its 'review' column in a list named 'review'. We created\n",
        "another list 'review_lower' by lowering the case of all individual reviews. Lastly, we created another list in\n",
        "which we word-tokenized each review. So, every entry of the list tokens is a list of tokenized words."
      ],
      "metadata": {
        "id": "XBnSEISd_i1p"
      }
    },
    {
      "cell_type": "markdown",
      "source": [
        "**3. Stopwords removal**"
      ],
      "metadata": {
        "id": "jg665Z_J_ktx"
      }
    },
    {
      "cell_type": "code",
      "source": [
        "sw = stopwords.words('english')"
      ],
      "metadata": {
        "id": "MXRtA-89_d5h"
      },
      "execution_count": null,
      "outputs": []
    },
    {
      "cell_type": "code",
      "source": [
        "sw[:10]"
      ],
      "metadata": {
        "colab": {
          "base_uri": "https://localhost:8080/"
        },
        "id": "CUG9EcpN_ne8",
        "outputId": "d5f8a037-1472-4e58-d696-57007e3ef028"
      },
      "execution_count": null,
      "outputs": [
        {
          "output_type": "execute_result",
          "data": {
            "text/plain": [
              "['i', 'me', 'my', 'myself', 'we', 'our', 'ours', 'ourselves', 'you', \"you're\"]"
            ]
          },
          "metadata": {},
          "execution_count": 49
        }
      ]
    },
    {
      "cell_type": "code",
      "source": [
        "tokens[13]"
      ],
      "metadata": {
        "colab": {
          "base_uri": "https://localhost:8080/"
        },
        "id": "lNIVrp0b_pqZ",
        "outputId": "356f9cf3-f990-4aaf-8bf4-123b9d209376"
      },
      "execution_count": null,
      "outputs": [
        {
          "output_type": "execute_result",
          "data": {
            "text/plain": [
              "['unable', 'to', 'save', 'my', 'work', '.', 'nothing', 'works', ':', '(']"
            ]
          },
          "metadata": {},
          "execution_count": 51
        }
      ]
    },
    {
      "cell_type": "code",
      "source": [
        "tokens = [[word for word in t if word not in sw] for t in tokens]"
      ],
      "metadata": {
        "id": "WjTTZvwf_sk4"
      },
      "execution_count": null,
      "outputs": []
    },
    {
      "cell_type": "code",
      "source": [
        "tokens[13]"
      ],
      "metadata": {
        "colab": {
          "base_uri": "https://localhost:8080/"
        },
        "id": "oOybj3pH_wAB",
        "outputId": "1169fabd-afd1-4222-a452-4f40feacd504"
      },
      "execution_count": null,
      "outputs": [
        {
          "output_type": "execute_result",
          "data": {
            "text/plain": [
              "['unable', 'save', 'work', '.', 'nothing', 'works', ':', '(']"
            ]
          },
          "metadata": {},
          "execution_count": 53
        }
      ]
    },
    {
      "cell_type": "markdown",
      "source": [
        "**4. Punctuation removal**\n"
      ],
      "metadata": {
        "id": "CK3fgXrv_1mZ"
      }
    },
    {
      "cell_type": "code",
      "source": [
        "# regular expression r'\\w+' removes any punctuation marks\n",
        "tokenizer = RegexpTokenizer(r'\\w+')"
      ],
      "metadata": {
        "id": "prqdunbq_ygY"
      },
      "execution_count": null,
      "outputs": []
    },
    {
      "cell_type": "code",
      "source": [
        "# let's check how it works\n",
        "tokenizer.tokenize(\"isn't\")"
      ],
      "metadata": {
        "colab": {
          "base_uri": "https://localhost:8080/"
        },
        "id": "B7bV3tGCAZ7A",
        "outputId": "856bfedc-339f-4ee1-b5ec-458345a2a0d3"
      },
      "execution_count": null,
      "outputs": [
        {
          "output_type": "execute_result",
          "data": {
            "text/plain": [
              "['isn', 't']"
            ]
          },
          "metadata": {},
          "execution_count": 55
        }
      ]
    },
    {
      "cell_type": "code",
      "source": [
        "# tokenize() function in tokenizer module returns a list. This is a problem given\n",
        "# a list of lists (tokens). So, each list items of lists into another list will be\n",
        "# So, we will join the tokens if they are separated due to punctuation.\n",
        "t = tokenizer.tokenize(\"won't\")\n",
        "\"\".join(t)"
      ],
      "metadata": {
        "colab": {
          "base_uri": "https://localhost:8080/",
          "height": 36
        },
        "id": "wPkDWfG5Ab7A",
        "outputId": "9dc4c589-8cd3-4853-b72b-f84b270d5f04"
      },
      "execution_count": null,
      "outputs": [
        {
          "output_type": "execute_result",
          "data": {
            "text/plain": [
              "'wont'"
            ],
            "application/vnd.google.colaboratory.intrinsic+json": {
              "type": "string"
            }
          },
          "metadata": {},
          "execution_count": 56
        }
      ]
    },
    {
      "cell_type": "code",
      "source": [
        "tokenizer.tokenize(\":\")"
      ],
      "metadata": {
        "colab": {
          "base_uri": "https://localhost:8080/"
        },
        "id": "w5tLkIN5Aglq",
        "outputId": "34f90162-b204-4248-f16c-af1f8d6596e1"
      },
      "execution_count": null,
      "outputs": [
        {
          "output_type": "execute_result",
          "data": {
            "text/plain": [
              "[]"
            ]
          },
          "metadata": {},
          "execution_count": 57
        }
      ]
    },
    {
      "cell_type": "code",
      "source": [
        "# the main work\n",
        "tokens = [[\"\".join(tokenizer.tokenize(word)) for word in t\n",
        " if len(tokenizer.tokenize(word))>0] for t in tokens]\n"
      ],
      "metadata": {
        "id": "XMuc-hQ2AjHh"
      },
      "execution_count": null,
      "outputs": []
    },
    {
      "cell_type": "code",
      "source": [
        "reviews[248]"
      ],
      "metadata": {
        "colab": {
          "base_uri": "https://localhost:8080/",
          "height": 36
        },
        "id": "elVfKKdjAmHJ",
        "outputId": "a579938d-4ac7-4bc1-f078-f348a96a1629"
      },
      "execution_count": null,
      "outputs": [
        {
          "output_type": "execute_result",
          "data": {
            "text/plain": [
              "\"It won't download at all for me to send it to others via text, email, etc\""
            ],
            "application/vnd.google.colaboratory.intrinsic+json": {
              "type": "string"
            }
          },
          "metadata": {},
          "execution_count": 59
        }
      ]
    },
    {
      "cell_type": "code",
      "source": [
        "tokens[248]"
      ],
      "metadata": {
        "colab": {
          "base_uri": "https://localhost:8080/"
        },
        "id": "luvX8vFzAo2o",
        "outputId": "7af2ab8e-b73c-47bc-fbb3-8bfb04d98c43"
      },
      "execution_count": null,
      "outputs": [
        {
          "output_type": "execute_result",
          "data": {
            "text/plain": [
              "['wo', 'nt', 'download', 'send', 'others', 'via', 'text', 'email', 'etc']"
            ]
          },
          "metadata": {},
          "execution_count": 61
        }
      ]
    },
    {
      "cell_type": "code",
      "source": [
        "# problem: won't did not join !! check !!"
      ],
      "metadata": {
        "id": "Vramx7iUArJh"
      },
      "execution_count": null,
      "outputs": []
    },
    {
      "cell_type": "markdown",
      "source": [
        "**5. Stemming**"
      ],
      "metadata": {
        "id": "37jwnJBUAxFw"
      }
    },
    {
      "cell_type": "code",
      "source": [
        "porter = PorterStemmer()\n",
        "lancaster = LancasterStemmer()"
      ],
      "metadata": {
        "id": "kOGChJNeAvEg"
      },
      "execution_count": null,
      "outputs": []
    },
    {
      "cell_type": "code",
      "source": [
        "print(porter.stem(\"teachers\"))\n",
        "print(lancaster.stem(\"teachers\"))"
      ],
      "metadata": {
        "colab": {
          "base_uri": "https://localhost:8080/"
        },
        "id": "twBwDHXcAzqJ",
        "outputId": "7a85eead-6666-4b4c-9458-8e5f834e1b82"
      },
      "execution_count": null,
      "outputs": [
        {
          "output_type": "stream",
          "name": "stdout",
          "text": [
            "teacher\n",
            "teach\n"
          ]
        }
      ]
    },
    {
      "cell_type": "code",
      "source": [
        "print(porter.stem(\"students\"))\n",
        "print(lancaster.stem(\"students\"))\n"
      ],
      "metadata": {
        "colab": {
          "base_uri": "https://localhost:8080/"
        },
        "id": "8gojI1nvA1wI",
        "outputId": "ff7945c2-c227-4f74-b1ad-fb8029f20ff9"
      },
      "execution_count": null,
      "outputs": [
        {
          "output_type": "stream",
          "name": "stdout",
          "text": [
            "student\n",
            "stud\n"
          ]
        }
      ]
    },
    {
      "cell_type": "code",
      "source": [
        "print(porter.stem(\"absolutely\"))\n",
        "print(lancaster.stem(\"absolutely\"))"
      ],
      "metadata": {
        "colab": {
          "base_uri": "https://localhost:8080/"
        },
        "id": "bncObay7A4Gh",
        "outputId": "a7814e76-5ccf-44a9-a9b1-39463695ad23"
      },
      "execution_count": null,
      "outputs": [
        {
          "output_type": "stream",
          "name": "stdout",
          "text": [
            "absolut\n",
            "absolv\n"
          ]
        }
      ]
    },
    {
      "cell_type": "code",
      "source": [
        "tokens = [[porter.stem(word) for word in t] for t in tokens]\n"
      ],
      "metadata": {
        "id": "eIqgjilpA6so"
      },
      "execution_count": null,
      "outputs": []
    },
    {
      "cell_type": "code",
      "source": [
        "print(reviews[13])\n",
        "print(tokens[13])\n"
      ],
      "metadata": {
        "colab": {
          "base_uri": "https://localhost:8080/"
        },
        "id": "ULgZC-J2A8nY",
        "outputId": "ddb58ba6-611f-43f0-b56b-a151bf3c68fe"
      },
      "execution_count": null,
      "outputs": [
        {
          "output_type": "stream",
          "name": "stdout",
          "text": [
            "Unable to save my work. Nothing works :(\n",
            "['unabl', 'save', 'work', 'noth', 'work']\n"
          ]
        }
      ]
    },
    {
      "cell_type": "code",
      "source": [
        "print(reviews[1495])\n",
        "print(tokens[1495])"
      ],
      "metadata": {
        "colab": {
          "base_uri": "https://localhost:8080/"
        },
        "id": "iQvmN8IoA_I9",
        "outputId": "0453b3ba-316d-4b26-de32-28f54c458d67"
      },
      "execution_count": null,
      "outputs": [
        {
          "output_type": "stream",
          "name": "stdout",
          "text": [
            "Absolutely amazing and a lifesaver for teachers.\n",
            "['absolut', 'amaz', 'lifesav', 'teacher']\n"
          ]
        }
      ]
    },
    {
      "cell_type": "markdown",
      "source": [
        "**Section 3. Word Count Districution**"
      ],
      "metadata": {
        "id": "14uOU_gcBDep"
      }
    },
    {
      "cell_type": "code",
      "source": [
        "tokens[0:10]\n"
      ],
      "metadata": {
        "colab": {
          "base_uri": "https://localhost:8080/"
        },
        "id": "2cWsbAGoBBwg",
        "outputId": "fb01a98a-49bc-4ed1-f4e4-a939c02bac22"
      },
      "execution_count": null,
      "outputs": [
        {
          "output_type": "execute_result",
          "data": {
            "text/plain": [
              "[['overal',\n",
              "  's',\n",
              "  'realli',\n",
              "  'amaz',\n",
              "  'app',\n",
              "  've',\n",
              "  'use',\n",
              "  'past',\n",
              "  '5',\n",
              "  'year',\n",
              "  'howev',\n",
              "  'one',\n",
              "  'issu',\n",
              "  'though',\n",
              "  'want',\n",
              "  'get',\n",
              "  'address',\n",
              "  'sinc',\n",
              "  'think',\n",
              "  'issu',\n",
              "  'last',\n",
              "  'mani',\n",
              "  'year',\n",
              "  'text',\n",
              "  'blur',\n",
              "  'zoom',\n",
              "  's',\n",
              "  'pixel',\n",
              "  'thought',\n",
              "  'issu',\n",
              "  'occur',\n",
              "  'mobil',\n",
              "  'app',\n",
              "  'howev',\n",
              "  'also',\n",
              "  'present',\n",
              "  'websit',\n",
              "  'pleas',\n",
              "  'fix',\n",
              "  'still',\n",
              "  'rememb',\n",
              "  'time',\n",
              "  'export',\n",
              "  'high',\n",
              "  'definit',\n",
              "  'text',\n",
              "  'love',\n",
              "  'experi',\n",
              "  'thank'],\n",
              " ['hey',\n",
              "  'ye',\n",
              "  'gave',\n",
              "  '5',\n",
              "  'star',\n",
              "  'rate',\n",
              "  'coz',\n",
              "  'believ',\n",
              "  'deserv',\n",
              "  'mostli',\n",
              "  'use',\n",
              "  'desktop',\n",
              "  'version',\n",
              "  'serious',\n",
              "  'satisfi',\n",
              "  'app',\n",
              "  'android',\n",
              "  'desktop',\n",
              "  'version',\n",
              "  'came',\n",
              "  'thank',\n",
              "  'develop',\n",
              "  'beauti',\n",
              "  'app',\n",
              "  'facil',\n",
              "  'liter',\n",
              "  'find',\n",
              "  'almost',\n",
              "  'everyth',\n",
              "  'need',\n",
              "  'best',\n",
              "  'part',\n",
              "  'even',\n",
              "  'without',\n",
              "  'premium',\n",
              "  'featur',\n",
              "  'provid',\n",
              "  'us',\n",
              "  'lot',\n",
              "  'mani',\n",
              "  'facil',\n",
              "  'love',\n",
              "  'thank'],\n",
              " ['canva',\n",
              "  'use',\n",
              "  'good',\n",
              "  'app',\n",
              "  'recent',\n",
              "  've',\n",
              "  'face',\n",
              "  'issu',\n",
              "  'save',\n",
              "  'file',\n",
              "  'want',\n",
              "  'file',\n",
              "  'save',\n",
              "  'png',\n",
              "  'format',\n",
              "  'get',\n",
              "  'save',\n",
              "  'jpg',\n",
              "  'format',\n",
              "  'moreov',\n",
              "  'want',\n",
              "  'file',\n",
              "  'save',\n",
              "  'get',\n",
              "  'stuck',\n",
              "  'download',\n",
              "  'screen',\n",
              "  'call',\n",
              "  'magic',\n",
              "  'happen',\n",
              "  'll',\n",
              "  'get',\n",
              "  '1',\n",
              "  'star',\n",
              "  'hope',\n",
              "  'fix',\n",
              "  'app',\n",
              "  'soon',\n",
              "  'thank'],\n",
              " ['s',\n",
              "  'brilliant',\n",
              "  'app',\n",
              "  'one',\n",
              "  'problem',\n",
              "  'm',\n",
              "  'edit',\n",
              "  'post',\n",
              "  'doubl',\n",
              "  'tap',\n",
              "  'photo',\n",
              "  'reposit',\n",
              "  'start',\n",
              "  'zoom',\n",
              "  'photo',\n",
              "  '8',\n",
              "  'time',\n",
              "  '10',\n",
              "  'app',\n",
              "  'crash',\n",
              "  'restart',\n",
              "  'lg',\n",
              "  'g5',\n",
              "  'se',\n",
              "  'sometim',\n",
              "  've',\n",
              "  'go',\n",
              "  'desktop',\n",
              "  'version',\n",
              "  'pc',\n",
              "  'reposit',\n",
              "  'zoom',\n",
              "  'photo',\n",
              "  'want',\n",
              "  'resum',\n",
              "  'edit',\n",
              "  'back',\n",
              "  'mobil'],\n",
              " ['great',\n",
              "  'app',\n",
              "  'use',\n",
              "  'make',\n",
              "  'bt',\n",
              "  'meme',\n",
              "  'recent',\n",
              "  'updat',\n",
              "  'm',\n",
              "  'abl',\n",
              "  'chang',\n",
              "  'font',\n",
              "  'style',\n",
              "  'edit',\n",
              "  'option',\n",
              "  'font',\n",
              "  'miss',\n",
              "  'tri',\n",
              "  'uninstal',\n",
              "  'instal',\n",
              "  'app',\n",
              "  'still',\n",
              "  's',\n",
              "  'nt',\n",
              "  'work',\n",
              "  'edit',\n",
              "  'option',\n",
              "  'font',\n",
              "  'appear',\n",
              "  'rare',\n",
              "  'previou',\n",
              "  'version',\n",
              "  'far',\n",
              "  'better',\n",
              "  'canva',\n",
              "  'could',\n",
              "  'pleas',\n",
              "  'work'],\n",
              " ['app',\n",
              "  'realli',\n",
              "  'great',\n",
              "  'given',\n",
              "  'fact',\n",
              "  'first',\n",
              "  'time',\n",
              "  'give',\n",
              "  'review',\n",
              "  'app',\n",
              "  's',\n",
              "  'great',\n",
              "  'creat',\n",
              "  'logo',\n",
              "  'flier',\n",
              "  'small',\n",
              "  'compani',\n",
              "  'busi',\n",
              "  'although',\n",
              "  'gave',\n",
              "  '4',\n",
              "  'star',\n",
              "  'need',\n",
              "  'data',\n",
              "  'oper',\n",
              "  'll',\n",
              "  'love',\n",
              "  'see',\n",
              "  'newer',\n",
              "  'version',\n",
              "  'nt',\n",
              "  'use',\n",
              "  'data',\n",
              "  'use',\n",
              "  'app',\n",
              "  'great',\n",
              "  'job'],\n",
              " ['canva',\n",
              "  'great',\n",
              "  'app',\n",
              "  'basic',\n",
              "  'design',\n",
              "  'job',\n",
              "  'well',\n",
              "  'm',\n",
              "  'rate',\n",
              "  '2',\n",
              "  'star',\n",
              "  'keep',\n",
              "  'take',\n",
              "  'featur',\n",
              "  'away',\n",
              "  'free',\n",
              "  'version',\n",
              "  'put',\n",
              "  'behind',\n",
              "  'subscript',\n",
              "  'wall',\n",
              "  'rather',\n",
              "  'creat',\n",
              "  'new',\n",
              "  'featur',\n",
              "  'ad',\n",
              "  'new',\n",
              "  'font',\n",
              "  'graphic',\n",
              "  'premium',\n",
              "  'also',\n",
              "  'feel',\n",
              "  'subscript',\n",
              "  'price',\n",
              "  '1299mo',\n",
              "  'pretti',\n",
              "  'steep',\n",
              "  'someon',\n",
              "  'nt',\n",
              "  'use',\n",
              "  'busi',\n",
              "  'everi',\n",
              "  'singl',\n",
              "  'day',\n",
              "  'want',\n",
              "  'hand',\n",
              "  'font'],\n",
              " ['use',\n",
              "  'app',\n",
              "  'last',\n",
              "  '2',\n",
              "  'month',\n",
              "  'use',\n",
              "  'make',\n",
              "  'thumbnail',\n",
              "  'banner',\n",
              "  'video',\n",
              "  'watermark',\n",
              "  'thumbnail',\n",
              "  'look',\n",
              "  'much',\n",
              "  'attract',\n",
              "  'app',\n",
              "  's',\n",
              "  'mani',\n",
              "  'peopl',\n",
              "  'attract',\n",
              "  'come',\n",
              "  'video',\n",
              "  'give',\n",
              "  '5',\n",
              "  'star',\n",
              "  'mani',\n",
              "  'ad',\n",
              "  'still',\n",
              "  'love',\n",
              "  'app',\n",
              "  'thank',\n",
              "  'make',\n",
              "  'wonder',\n",
              "  'app',\n",
              "  'thank'],\n",
              " ['superb',\n",
              "  'user',\n",
              "  'interfac',\n",
              "  'finish',\n",
              "  'edit',\n",
              "  'first',\n",
              "  'video',\n",
              "  'wonder',\n",
              "  'awesom',\n",
              "  'paid',\n",
              "  'version',\n",
              "  'hope',\n",
              "  'app',\n",
              "  'make',\n",
              "  'product',\n",
              "  'label',\n",
              "  'put',\n",
              "  'label',\n",
              "  'mock',\n",
              "  'bottl',\n",
              "  'exampl',\n",
              "  'like',\n",
              "  'full',\n",
              "  'function',\n",
              "  'adob',\n",
              "  'kind',\n",
              "  'need',\n",
              "  'skill',\n",
              "  'set',\n",
              "  'prefer',\n",
              "  'easi',\n",
              "  'edit',\n",
              "  'like',\n",
              "  'app',\n",
              "  'thank',\n",
              "  'canva'],\n",
              " ['start',\n",
              "  'trial',\n",
              "  'everyth',\n",
              "  'work',\n",
              "  'pretti',\n",
              "  'well',\n",
              "  'decid',\n",
              "  'purchas',\n",
              "  'everi',\n",
              "  'month',\n",
              "  'guess',\n",
              "  'everi',\n",
              "  'video',\n",
              "  'edit',\n",
              "  'save',\n",
              "  'never',\n",
              "  'save',\n",
              "  'even',\n",
              "  'mani',\n",
              "  'time',\n",
              "  'tri',\n",
              "  'said',\n",
              "  'save',\n",
              "  'check',\n",
              "  'file',\n",
              "  'never',\n",
              "  'seen',\n",
              "  'pictur',\n",
              "  'caption',\n",
              "  'blur',\n",
              "  'need',\n",
              "  'screenshoot',\n",
              "  'crop',\n",
              "  'use',\n",
              "  'edit',\n",
              "  'design',\n",
              "  'happen',\n",
              "  'canva',\n",
              "  'wast',\n",
              "  'moneyyyi',\n",
              "  'hope',\n",
              "  'solv',\n",
              "  'problem',\n",
              "  'pleas']]"
            ]
          },
          "metadata": {},
          "execution_count": 70
        }
      ]
    },
    {
      "cell_type": "code",
      "source": [
        "# We need to find uniques tokens in all the 1500 list of tokens for which we need\n",
        "# It will create 1 list of tokens, instead of list of lists of tokens\n",
        "flat_tokens = [word for t in tokens for word in t]\n"
      ],
      "metadata": {
        "id": "JwNHOoyrBGXo"
      },
      "execution_count": null,
      "outputs": []
    },
    {
      "cell_type": "code",
      "source": [
        "flat_tokens[0:200]\n"
      ],
      "metadata": {
        "colab": {
          "base_uri": "https://localhost:8080/"
        },
        "id": "g1StiwR8BJGY",
        "outputId": "09510618-6402-4bc4-fa31-f83daf477894"
      },
      "execution_count": null,
      "outputs": [
        {
          "output_type": "execute_result",
          "data": {
            "text/plain": [
              "['overal',\n",
              " 's',\n",
              " 'realli',\n",
              " 'amaz',\n",
              " 'app',\n",
              " 've',\n",
              " 'use',\n",
              " 'past',\n",
              " '5',\n",
              " 'year',\n",
              " 'howev',\n",
              " 'one',\n",
              " 'issu',\n",
              " 'though',\n",
              " 'want',\n",
              " 'get',\n",
              " 'address',\n",
              " 'sinc',\n",
              " 'think',\n",
              " 'issu',\n",
              " 'last',\n",
              " 'mani',\n",
              " 'year',\n",
              " 'text',\n",
              " 'blur',\n",
              " 'zoom',\n",
              " 's',\n",
              " 'pixel',\n",
              " 'thought',\n",
              " 'issu',\n",
              " 'occur',\n",
              " 'mobil',\n",
              " 'app',\n",
              " 'howev',\n",
              " 'also',\n",
              " 'present',\n",
              " 'websit',\n",
              " 'pleas',\n",
              " 'fix',\n",
              " 'still',\n",
              " 'rememb',\n",
              " 'time',\n",
              " 'export',\n",
              " 'high',\n",
              " 'definit',\n",
              " 'text',\n",
              " 'love',\n",
              " 'experi',\n",
              " 'thank',\n",
              " 'hey',\n",
              " 'ye',\n",
              " 'gave',\n",
              " '5',\n",
              " 'star',\n",
              " 'rate',\n",
              " 'coz',\n",
              " 'believ',\n",
              " 'deserv',\n",
              " 'mostli',\n",
              " 'use',\n",
              " 'desktop',\n",
              " 'version',\n",
              " 'serious',\n",
              " 'satisfi',\n",
              " 'app',\n",
              " 'android',\n",
              " 'desktop',\n",
              " 'version',\n",
              " 'came',\n",
              " 'thank',\n",
              " 'develop',\n",
              " 'beauti',\n",
              " 'app',\n",
              " 'facil',\n",
              " 'liter',\n",
              " 'find',\n",
              " 'almost',\n",
              " 'everyth',\n",
              " 'need',\n",
              " 'best',\n",
              " 'part',\n",
              " 'even',\n",
              " 'without',\n",
              " 'premium',\n",
              " 'featur',\n",
              " 'provid',\n",
              " 'us',\n",
              " 'lot',\n",
              " 'mani',\n",
              " 'facil',\n",
              " 'love',\n",
              " 'thank',\n",
              " 'canva',\n",
              " 'use',\n",
              " 'good',\n",
              " 'app',\n",
              " 'recent',\n",
              " 've',\n",
              " 'face',\n",
              " 'issu',\n",
              " 'save',\n",
              " 'file',\n",
              " 'want',\n",
              " 'file',\n",
              " 'save',\n",
              " 'png',\n",
              " 'format',\n",
              " 'get',\n",
              " 'save',\n",
              " 'jpg',\n",
              " 'format',\n",
              " 'moreov',\n",
              " 'want',\n",
              " 'file',\n",
              " 'save',\n",
              " 'get',\n",
              " 'stuck',\n",
              " 'download',\n",
              " 'screen',\n",
              " 'call',\n",
              " 'magic',\n",
              " 'happen',\n",
              " 'll',\n",
              " 'get',\n",
              " '1',\n",
              " 'star',\n",
              " 'hope',\n",
              " 'fix',\n",
              " 'app',\n",
              " 'soon',\n",
              " 'thank',\n",
              " 's',\n",
              " 'brilliant',\n",
              " 'app',\n",
              " 'one',\n",
              " 'problem',\n",
              " 'm',\n",
              " 'edit',\n",
              " 'post',\n",
              " 'doubl',\n",
              " 'tap',\n",
              " 'photo',\n",
              " 'reposit',\n",
              " 'start',\n",
              " 'zoom',\n",
              " 'photo',\n",
              " '8',\n",
              " 'time',\n",
              " '10',\n",
              " 'app',\n",
              " 'crash',\n",
              " 'restart',\n",
              " 'lg',\n",
              " 'g5',\n",
              " 'se',\n",
              " 'sometim',\n",
              " 've',\n",
              " 'go',\n",
              " 'desktop',\n",
              " 'version',\n",
              " 'pc',\n",
              " 'reposit',\n",
              " 'zoom',\n",
              " 'photo',\n",
              " 'want',\n",
              " 'resum',\n",
              " 'edit',\n",
              " 'back',\n",
              " 'mobil',\n",
              " 'great',\n",
              " 'app',\n",
              " 'use',\n",
              " 'make',\n",
              " 'bt',\n",
              " 'meme',\n",
              " 'recent',\n",
              " 'updat',\n",
              " 'm',\n",
              " 'abl',\n",
              " 'chang',\n",
              " 'font',\n",
              " 'style',\n",
              " 'edit',\n",
              " 'option',\n",
              " 'font',\n",
              " 'miss',\n",
              " 'tri',\n",
              " 'uninstal',\n",
              " 'instal',\n",
              " 'app',\n",
              " 'still',\n",
              " 's',\n",
              " 'nt',\n",
              " 'work',\n",
              " 'edit',\n",
              " 'option',\n",
              " 'font',\n",
              " 'appear',\n",
              " 'rare',\n",
              " 'previou']"
            ]
          },
          "metadata": {},
          "execution_count": 72
        }
      ]
    },
    {
      "cell_type": "code",
      "source": [
        "# number of flattened tokens\n",
        "len(flat_tokens)\n"
      ],
      "metadata": {
        "colab": {
          "base_uri": "https://localhost:8080/"
        },
        "id": "jK9CqL-KBLNR",
        "outputId": "df55cc48-c349-4d98-96a1-4d6a561e0f90"
      },
      "execution_count": null,
      "outputs": [
        {
          "output_type": "execute_result",
          "data": {
            "text/plain": [
              "13782"
            ]
          },
          "metadata": {},
          "execution_count": 73
        }
      ]
    },
    {
      "cell_type": "code",
      "source": [
        "# import a counter on the top section\n",
        "counts = Counter(flat_tokens)"
      ],
      "metadata": {
        "id": "grs8ulgBBOGg"
      },
      "execution_count": null,
      "outputs": []
    },
    {
      "cell_type": "code",
      "source": [
        "type(counts)\n"
      ],
      "metadata": {
        "colab": {
          "base_uri": "https://localhost:8080/",
          "height": 187
        },
        "id": "VORkBN6MBP0I",
        "outputId": "99500fbc-0ab4-4a4e-a6d7-ccccf1c80d8b"
      },
      "execution_count": null,
      "outputs": [
        {
          "output_type": "execute_result",
          "data": {
            "text/plain": [
              "collections.Counter"
            ],
            "text/html": [
              "<div style=\"max-width:800px; border: 1px solid var(--colab-border-color);\"><style>\n",
              "      pre.function-repr-contents {\n",
              "        overflow-x: auto;\n",
              "        padding: 8px 12px;\n",
              "        max-height: 500px;\n",
              "      }\n",
              "\n",
              "      pre.function-repr-contents.function-repr-contents-collapsed {\n",
              "        cursor: pointer;\n",
              "        max-height: 100px;\n",
              "      }\n",
              "    </style>\n",
              "    <pre style=\"white-space: initial; background:\n",
              "         var(--colab-secondary-surface-color); padding: 8px 12px;\n",
              "         border-bottom: 1px solid var(--colab-border-color);\"><b>collections.Counter</b><br/>def __init__(self, iterable=None, /, **kwds)</pre><pre class=\"function-repr-contents function-repr-contents-collapsed\" style=\"\"><a class=\"filepath\" style=\"display:none\" href=\"#\">/usr/lib/python3.11/collections/__init__.py</a>Dict subclass for counting hashable items.  Sometimes called a bag\n",
              "or multiset.  Elements are stored as dictionary keys and their counts\n",
              "are stored as dictionary values.\n",
              "\n",
              "&gt;&gt;&gt; c = Counter(&#x27;abcdeabcdabcaba&#x27;)  # count elements from a string\n",
              "\n",
              "&gt;&gt;&gt; c.most_common(3)                # three most common elements\n",
              "[(&#x27;a&#x27;, 5), (&#x27;b&#x27;, 4), (&#x27;c&#x27;, 3)]\n",
              "&gt;&gt;&gt; sorted(c)                       # list all unique elements\n",
              "[&#x27;a&#x27;, &#x27;b&#x27;, &#x27;c&#x27;, &#x27;d&#x27;, &#x27;e&#x27;]\n",
              "&gt;&gt;&gt; &#x27;&#x27;.join(sorted(c.elements()))   # list elements with repetitions\n",
              "&#x27;aaaaabbbbcccdde&#x27;\n",
              "&gt;&gt;&gt; sum(c.values())                 # total of all counts\n",
              "15\n",
              "\n",
              "&gt;&gt;&gt; c[&#x27;a&#x27;]                          # count of letter &#x27;a&#x27;\n",
              "5\n",
              "&gt;&gt;&gt; for elem in &#x27;shazam&#x27;:           # update counts from an iterable\n",
              "...     c[elem] += 1                # by adding 1 to each element&#x27;s count\n",
              "&gt;&gt;&gt; c[&#x27;a&#x27;]                          # now there are seven &#x27;a&#x27;\n",
              "7\n",
              "&gt;&gt;&gt; del c[&#x27;b&#x27;]                      # remove all &#x27;b&#x27;\n",
              "&gt;&gt;&gt; c[&#x27;b&#x27;]                          # now there are zero &#x27;b&#x27;\n",
              "0\n",
              "\n",
              "&gt;&gt;&gt; d = Counter(&#x27;simsalabim&#x27;)       # make another counter\n",
              "&gt;&gt;&gt; c.update(d)                     # add in the second counter\n",
              "&gt;&gt;&gt; c[&#x27;a&#x27;]                          # now there are nine &#x27;a&#x27;\n",
              "9\n",
              "\n",
              "&gt;&gt;&gt; c.clear()                       # empty the counter\n",
              "&gt;&gt;&gt; c\n",
              "Counter()\n",
              "\n",
              "Note:  If a count is set to zero or reduced to zero, it will remain\n",
              "in the counter until the entry is deleted or the counter is cleared:\n",
              "\n",
              "&gt;&gt;&gt; c = Counter(&#x27;aaabbc&#x27;)\n",
              "&gt;&gt;&gt; c[&#x27;b&#x27;] -= 2                     # reduce the count of &#x27;b&#x27; by two\n",
              "&gt;&gt;&gt; c.most_common()                 # &#x27;b&#x27; is still in, but its count is zero\n",
              "[(&#x27;a&#x27;, 3), (&#x27;c&#x27;, 1), (&#x27;b&#x27;, 0)]</pre>\n",
              "      <script>\n",
              "      if (google.colab.kernel.accessAllowed && google.colab.files && google.colab.files.view) {\n",
              "        for (const element of document.querySelectorAll('.filepath')) {\n",
              "          element.style.display = 'block'\n",
              "          element.onclick = (event) => {\n",
              "            event.preventDefault();\n",
              "            event.stopPropagation();\n",
              "            google.colab.files.view(element.textContent, 536);\n",
              "          };\n",
              "        }\n",
              "      }\n",
              "      for (const element of document.querySelectorAll('.function-repr-contents')) {\n",
              "        element.onclick = (event) => {\n",
              "          event.preventDefault();\n",
              "          event.stopPropagation();\n",
              "          element.classList.toggle('function-repr-contents-collapsed');\n",
              "        };\n",
              "      }\n",
              "      </script>\n",
              "      </div>"
            ]
          },
          "metadata": {},
          "execution_count": 75
        }
      ]
    },
    {
      "cell_type": "code",
      "source": [
        "len(counts) # number of unique tokens"
      ],
      "metadata": {
        "colab": {
          "base_uri": "https://localhost:8080/"
        },
        "id": "NHFPXRyYBRqo",
        "outputId": "461b779b-77d7-4bc8-e260-847fdeaa5cdc"
      },
      "execution_count": null,
      "outputs": [
        {
          "output_type": "execute_result",
          "data": {
            "text/plain": [
              "1720"
            ]
          },
          "metadata": {},
          "execution_count": 76
        }
      ]
    },
    {
      "cell_type": "code",
      "source": [
        "counts.most_common(10)"
      ],
      "metadata": {
        "colab": {
          "base_uri": "https://localhost:8080/"
        },
        "id": "McpvJXIqBWA4",
        "outputId": "841196ee-3b44-4d94-c0d1-870a771d8fbc"
      },
      "execution_count": null,
      "outputs": [
        {
          "output_type": "execute_result",
          "data": {
            "text/plain": [
              "[('app', 932),\n",
              " ('use', 474),\n",
              " ('design', 349),\n",
              " ('easi', 293),\n",
              " ('s', 240),\n",
              " ('love', 220),\n",
              " ('good', 219),\n",
              " ('edit', 191),\n",
              " ('make', 190),\n",
              " ('great', 184)]"
            ]
          },
          "metadata": {},
          "execution_count": 77
        }
      ]
    },
    {
      "cell_type": "code",
      "source": [
        "# if we didn't do stemming etc., this number 1720 would be higher\n",
        "# next, we need to convert these tokens into numbers"
      ],
      "metadata": {
        "id": "KWlxJ9MtBYgI"
      },
      "execution_count": null,
      "outputs": []
    },
    {
      "cell_type": "markdown",
      "source": [
        "**Section 4. Binary Bag of Words**"
      ],
      "metadata": {
        "id": "kUHaoXhuBdDR"
      }
    },
    {
      "cell_type": "code",
      "source": [
        "tokens[13]"
      ],
      "metadata": {
        "colab": {
          "base_uri": "https://localhost:8080/"
        },
        "id": "BBmhI1u7Baow",
        "outputId": "c4bc4dfb-9270-4388-9a89-04c2e990f4ac"
      },
      "execution_count": null,
      "outputs": [
        {
          "output_type": "execute_result",
          "data": {
            "text/plain": [
              "['unabl', 'save', 'work', 'noth', 'work']"
            ]
          },
          "metadata": {},
          "execution_count": 79
        }
      ]
    },
    {
      "cell_type": "code",
      "source": [
        "\" \".join(tokens[13])"
      ],
      "metadata": {
        "colab": {
          "base_uri": "https://localhost:8080/",
          "height": 36
        },
        "id": "7DmMbh4ABfkg",
        "outputId": "2d9476ce-ab74-4784-dc65-be1fe98edb3d"
      },
      "execution_count": null,
      "outputs": [
        {
          "output_type": "execute_result",
          "data": {
            "text/plain": [
              "'unabl save work noth work'"
            ],
            "application/vnd.google.colaboratory.intrinsic+json": {
              "type": "string"
            }
          },
          "metadata": {},
          "execution_count": 80
        }
      ]
    },
    {
      "cell_type": "code",
      "source": [
        "clean_reviews = [\" \".join(t) for t in tokens]"
      ],
      "metadata": {
        "id": "AZ3bSYR0BiOg"
      },
      "execution_count": null,
      "outputs": []
    },
    {
      "cell_type": "code",
      "source": [
        "clean_reviews[13]"
      ],
      "metadata": {
        "colab": {
          "base_uri": "https://localhost:8080/",
          "height": 36
        },
        "id": "gd8EEPYkBmHA",
        "outputId": "c1e3055b-a397-4088-c194-fba9866226d8"
      },
      "execution_count": null,
      "outputs": [
        {
          "output_type": "execute_result",
          "data": {
            "text/plain": [
              "'unabl save work noth work'"
            ],
            "application/vnd.google.colaboratory.intrinsic+json": {
              "type": "string"
            }
          },
          "metadata": {},
          "execution_count": 82
        }
      ]
    },
    {
      "cell_type": "code",
      "source": [
        "clean_reviews[1495]"
      ],
      "metadata": {
        "colab": {
          "base_uri": "https://localhost:8080/",
          "height": 36
        },
        "id": "akQ8NJ5rBp21",
        "outputId": "fe263ca3-f801-4ba4-b9db-7e54fc50b203"
      },
      "execution_count": null,
      "outputs": [
        {
          "output_type": "execute_result",
          "data": {
            "text/plain": [
              "'absolut amaz lifesav teacher'"
            ],
            "application/vnd.google.colaboratory.intrinsic+json": {
              "type": "string"
            }
          },
          "metadata": {},
          "execution_count": 83
        }
      ]
    },
    {
      "cell_type": "code",
      "source": [
        "# binary bag of words with a minimum of 1 token in 5 lines/times\n",
        "vect = CountVectorizer(binary=True, min_df=5)\n"
      ],
      "metadata": {
        "id": "uOQ5YSWHBsMQ"
      },
      "execution_count": null,
      "outputs": []
    },
    {
      "cell_type": "code",
      "source": [
        "X = vect.fit_transform(clean_reviews)"
      ],
      "metadata": {
        "id": "1yuqWAvVBuLQ"
      },
      "execution_count": null,
      "outputs": []
    },
    {
      "cell_type": "code",
      "source": [
        "X.shape"
      ],
      "metadata": {
        "colab": {
          "base_uri": "https://localhost:8080/"
        },
        "id": "PckIKG4yBw-4",
        "outputId": "c0aef22d-dade-4fa1-8255-36499bd5982d"
      },
      "execution_count": null,
      "outputs": [
        {
          "output_type": "execute_result",
          "data": {
            "text/plain": [
              "(1500, 413)"
            ]
          },
          "metadata": {},
          "execution_count": 86
        }
      ]
    },
    {
      "cell_type": "code",
      "source": [
        "# so out of 1720, only 413 tokens are avaible in 5 or more docs"
      ],
      "metadata": {
        "id": "F7nO9NThBz9I"
      },
      "execution_count": null,
      "outputs": []
    },
    {
      "cell_type": "code",
      "source": [
        "# to see all vocabulary\n",
        "vect.vocabulary_\n"
      ],
      "metadata": {
        "colab": {
          "base_uri": "https://localhost:8080/"
        },
        "id": "vt4WMHLVB2Ho",
        "outputId": "93ebabf5-bf37-4652-c613-1fcfa83a85fa"
      },
      "execution_count": null,
      "outputs": [
        {
          "output_type": "execute_result",
          "data": {
            "text/plain": [
              "{'overal': 243,\n",
              " 'realli': 289,\n",
              " 'amaz': 17,\n",
              " 'app': 24,\n",
              " 've': 381,\n",
              " 'use': 377,\n",
              " 'past': 246,\n",
              " 'year': 409,\n",
              " 'howev': 167,\n",
              " 'one': 237,\n",
              " 'issu': 182,\n",
              " 'though': 358,\n",
              " 'want': 385,\n",
              " 'get': 148,\n",
              " 'sinc': 315,\n",
              " 'think': 357,\n",
              " 'last': 192,\n",
              " 'mani': 214,\n",
              " 'text': 354,\n",
              " 'zoom': 412,\n",
              " 'thought': 359,\n",
              " 'mobil': 221,\n",
              " 'also': 15,\n",
              " 'present': 270,\n",
              " 'websit': 390,\n",
              " 'pleas': 262,\n",
              " 'fix': 132,\n",
              " 'still': 333,\n",
              " 'time': 361,\n",
              " 'export': 119,\n",
              " 'high': 164,\n",
              " 'definit': 82,\n",
              " 'love': 209,\n",
              " 'experi': 117,\n",
              " 'thank': 355,\n",
              " 'gave': 147,\n",
              " 'star': 331,\n",
              " 'rate': 286,\n",
              " 'deserv': 83,\n",
              " 'desktop': 85,\n",
              " 'version': 382,\n",
              " 'satisfi': 301,\n",
              " 'android': 18,\n",
              " 'develop': 86,\n",
              " 'beauti': 40,\n",
              " 'liter': 200,\n",
              " 'find': 128,\n",
              " 'almost': 12,\n",
              " 'everyth': 113,\n",
              " 'need': 228,\n",
              " 'best': 43,\n",
              " 'even': 109,\n",
              " 'without': 397,\n",
              " 'premium': 268,\n",
              " 'featur': 125,\n",
              " 'provid': 280,\n",
              " 'us': 376,\n",
              " 'lot': 208,\n",
              " 'canva': 55,\n",
              " 'good': 152,\n",
              " 'recent': 290,\n",
              " 'face': 120,\n",
              " 'save': 302,\n",
              " 'file': 127,\n",
              " 'stuck': 336,\n",
              " 'download': 94,\n",
              " 'call': 52,\n",
              " 'magic': 212,\n",
              " 'happen': 159,\n",
              " 'll': 202,\n",
              " 'hope': 166,\n",
              " 'soon': 329,\n",
              " 'brilliant': 47,\n",
              " 'problem': 275,\n",
              " 'edit': 99,\n",
              " 'post': 266,\n",
              " 'photo': 254,\n",
              " 'start': 332,\n",
              " '10': 0,\n",
              " 'crash': 74,\n",
              " 'restart': 294,\n",
              " 'sometim': 327,\n",
              " 'go': 151,\n",
              " 'resum': 296,\n",
              " 'back': 35,\n",
              " 'great': 156,\n",
              " 'make': 213,\n",
              " 'updat': 373,\n",
              " 'abl': 2,\n",
              " 'chang': 57,\n",
              " 'font': 134,\n",
              " 'style': 340,\n",
              " 'option': 240,\n",
              " 'miss': 220,\n",
              " 'tri': 367,\n",
              " 'uninstal': 372,\n",
              " 'instal': 176,\n",
              " 'nt': 234,\n",
              " 'work': 401,\n",
              " 'far': 123,\n",
              " 'better': 44,\n",
              " 'could': 72,\n",
              " 'first': 131,\n",
              " 'give': 149,\n",
              " 'review': 297,\n",
              " 'creat': 75,\n",
              " 'logo': 205,\n",
              " 'small': 320,\n",
              " 'compani': 66,\n",
              " 'busi': 49,\n",
              " 'data': 80,\n",
              " 'see': 305,\n",
              " 'job': 184,\n",
              " 'basic': 39,\n",
              " 'design': 84,\n",
              " 'well': 391,\n",
              " 'keep': 185,\n",
              " 'take': 349,\n",
              " 'away': 33,\n",
              " 'free': 137,\n",
              " 'put': 282,\n",
              " 'subscript': 342,\n",
              " 'new': 231,\n",
              " 'ad': 7,\n",
              " 'graphic': 155,\n",
              " 'feel': 126,\n",
              " 'price': 272,\n",
              " 'pretti': 271,\n",
              " 'everi': 111,\n",
              " 'day': 81,\n",
              " 'month': 224,\n",
              " 'thumbnail': 360,\n",
              " 'banner': 38,\n",
              " 'video': 383,\n",
              " 'watermark': 387,\n",
              " 'look': 207,\n",
              " 'much': 225,\n",
              " 'attract': 29,\n",
              " 'peopl': 249,\n",
              " 'come': 65,\n",
              " 'wonder': 399,\n",
              " 'superb': 346,\n",
              " 'user': 379,\n",
              " 'interfac': 178,\n",
              " 'finish': 130,\n",
              " 'awesom': 34,\n",
              " 'paid': 245,\n",
              " 'product': 276,\n",
              " 'like': 197,\n",
              " 'full': 141,\n",
              " 'function': 143,\n",
              " 'kind': 186,\n",
              " 'skill': 317,\n",
              " 'easi': 96,\n",
              " 'purchas': 281,\n",
              " 'never': 230,\n",
              " 'said': 300,\n",
              " 'check': 60,\n",
              " 'seen': 307,\n",
              " 'pictur': 257,\n",
              " 'wast': 386,\n",
              " 'solv': 325,\n",
              " 'easier': 97,\n",
              " 'tool': 364,\n",
              " 'etc': 108,\n",
              " 'slow': 319,\n",
              " 'load': 203,\n",
              " 'especi': 107,\n",
              " 'stress': 335,\n",
              " 'got': 154,\n",
              " 'wait': 384,\n",
              " 'stuff': 338,\n",
              " 'page': 244,\n",
              " 'went': 392,\n",
              " 'improv': 172,\n",
              " 'disappoint': 90,\n",
              " 'wish': 396,\n",
              " 'close': 63,\n",
              " 'unabl': 370,\n",
              " 'noth': 233,\n",
              " 'help': 163,\n",
              " 'turn': 368,\n",
              " 'art': 27,\n",
              " 'money': 223,\n",
              " 'readi': 288,\n",
              " 'templat': 353,\n",
              " 'friendli': 139,\n",
              " 'poster': 267,\n",
              " 'conveni': 70,\n",
              " 'slide': 318,\n",
              " 'select': 308,\n",
              " 'frustrat': 140,\n",
              " 'automat': 31,\n",
              " 'anoth': 21,\n",
              " 'ca': 51,\n",
              " 'may': 216,\n",
              " 'show': 311,\n",
              " 'imag': 170,\n",
              " 'done': 91,\n",
              " 'hate': 162,\n",
              " 'complet': 67,\n",
              " 'background': 36,\n",
              " 'bad': 37,\n",
              " 'open': 239,\n",
              " 'let': 195,\n",
              " 'project': 278,\n",
              " 'social': 323,\n",
              " 'media': 217,\n",
              " 'site': 316,\n",
              " 'ever': 110,\n",
              " 'anyth': 23,\n",
              " 'glitch': 150,\n",
              " 'it': 183,\n",
              " 'nice': 232,\n",
              " 'add': 8,\n",
              " 'thing': 356,\n",
              " 'remov': 292,\n",
              " 'long': 206,\n",
              " 'connect': 68,\n",
              " 'worst': 403,\n",
              " 'lag': 189,\n",
              " 'becom': 41,\n",
              " 'auto': 30,\n",
              " 'team': 350,\n",
              " 'enough': 105,\n",
              " 'say': 303,\n",
              " 'pro': 274,\n",
              " 'alot': 13,\n",
              " 'low': 210,\n",
              " 'fantast': 122,\n",
              " 'applic': 25,\n",
              " 'happi': 160,\n",
              " 'youtub': 411,\n",
              " 'someth': 326,\n",
              " 'perfect': 250,\n",
              " 'beginn': 42,\n",
              " 're': 287,\n",
              " 'right': 298,\n",
              " 'cool': 71,\n",
              " 'annoy': 20,\n",
              " 'share': 310,\n",
              " 'mode': 222,\n",
              " 'galleri': 145,\n",
              " 'log': 204,\n",
              " 'alway': 16,\n",
              " 'card': 56,\n",
              " 'advertis': 9,\n",
              " 'interest': 177,\n",
              " 'differ': 88,\n",
              " 'creator': 77,\n",
              " 'recommend': 291,\n",
              " 'everyon': 112,\n",
              " 'total': 366,\n",
              " 'would': 405,\n",
              " 'plz': 263,\n",
              " 'place': 259,\n",
              " 'creativ': 76,\n",
              " 'play': 261,\n",
              " 'life': 196,\n",
              " 'profession': 277,\n",
              " 'properli': 279,\n",
              " 'servic': 309,\n",
              " 'qualiti': 283,\n",
              " 'offer': 235,\n",
              " 'custom': 78,\n",
              " 'incred': 173,\n",
              " 'phone': 253,\n",
              " 'impress': 171,\n",
              " 'easili': 98,\n",
              " 'intuit': 180,\n",
              " 'afford': 10,\n",
              " 'absolut': 3,\n",
              " 'choos': 61,\n",
              " 'person': 252,\n",
              " 'yet': 410,\n",
              " 'made': 211,\n",
              " 'know': 188,\n",
              " 'other': 241,\n",
              " 'write': 407,\n",
              " 'tell': 352,\n",
              " 'wrong': 408,\n",
              " 'less': 194,\n",
              " 'idea': 168,\n",
              " 'varieti': 380,\n",
              " 'im': 169,\n",
              " 'requir': 293,\n",
              " 'payment': 248,\n",
              " 'simpl': 313,\n",
              " 'laptop': 191,\n",
              " 'fun': 142,\n",
              " 'perfectli': 251,\n",
              " 'pl': 258,\n",
              " 'platform': 260,\n",
              " 'way': 388,\n",
              " 'super': 345,\n",
              " 'cover': 73,\n",
              " 'end': 103,\n",
              " 'result': 295,\n",
              " 'sure': 347,\n",
              " 'anyon': 22,\n",
              " 'content': 69,\n",
              " 'anim': 19,\n",
              " 'error': 106,\n",
              " 'technic': 351,\n",
              " 'instagram': 175,\n",
              " 'softwar': 324,\n",
              " 'subscrib': 341,\n",
              " 'fast': 124,\n",
              " 'internet': 179,\n",
              " 'pay': 247,\n",
              " 'allow': 11,\n",
              " 'editor': 100,\n",
              " 'stori': 334,\n",
              " 'must': 226,\n",
              " 'world': 402,\n",
              " 'hang': 158,\n",
              " 'channel': 58,\n",
              " 'birthday': 45,\n",
              " 'facebook': 121,\n",
              " 'flyer': 133,\n",
              " 'suck': 343,\n",
              " 'charg': 59,\n",
              " 'student': 337,\n",
              " 'learn': 193,\n",
              " 'seem': 306,\n",
              " 'school': 304,\n",
              " 'bit': 46,\n",
              " 'otherwis': 242,\n",
              " 'excel': 115,\n",
              " 'smoothli': 322,\n",
              " 'top': 365,\n",
              " 'click': 62,\n",
              " 'bug': 48,\n",
              " 'cant': 54,\n",
              " 'access': 4,\n",
              " 'onlin': 238,\n",
              " 'quick': 284,\n",
              " 'difficult': 89,\n",
              " 'ton': 362,\n",
              " 'smooth': 321,\n",
              " 'friend': 138,\n",
              " 'market': 215,\n",
              " 'network': 229,\n",
              " 'cancel': 53,\n",
              " 'avail': 32,\n",
              " 'game': 146,\n",
              " 'offlin': 236,\n",
              " 'fine': 129,\n",
              " 'experienc': 118,\n",
              " 'photoshop': 255,\n",
              " 'wo': 398,\n",
              " 'googl': 153,\n",
              " 'account': 5,\n",
              " 'special': 330,\n",
              " 'aap': 1,\n",
              " 'print': 273,\n",
              " 'navig': 227,\n",
              " 'invit': 181,\n",
              " 'enjoy': 104,\n",
              " 'suggest': 344,\n",
              " 'understand': 371,\n",
              " 'useless': 378,\n",
              " 'insta': 174,\n",
              " 'line': 199,\n",
              " 'type': 369,\n",
              " 'due': 95,\n",
              " 'whatev': 393,\n",
              " 'highli': 165,\n",
              " 'collag': 64,\n",
              " 'found': 136,\n",
              " 'doubt': 93,\n",
              " 'effect': 101,\n",
              " 'email': 102,\n",
              " 'quit': 285,\n",
              " 'hard': 161,\n",
              " 'wow': 406,\n",
              " 'wifi': 395,\n",
              " 'ask': 28,\n",
              " 'daili': 79,\n",
              " 'run': 299,\n",
              " 'limit': 198,\n",
              " 'guy': 157,\n",
              " 'soo': 328,\n",
              " 'everytim': 114,\n",
              " 'forev': 135,\n",
              " 'simpli': 314,\n",
              " 'word': 400,\n",
              " 'worth': 404,\n",
              " 'took': 363,\n",
              " 'prepar': 269,\n",
              " 'minut': 219,\n",
              " 'except': 116,\n",
              " 'actual': 6,\n",
              " 'mind': 218,\n",
              " 'upgrad': 374,\n",
              " 'kindli': 187,\n",
              " 'stun': 339,\n",
              " 'pic': 256,\n",
              " 'futur': 144,\n",
              " 'appreci': 26,\n",
              " 'sign': 312,\n",
              " 'alreadi': 14,\n",
              " 'laggi': 190,\n",
              " 'buy': 50,\n",
              " 'upload': 375,\n",
              " 'dont': 92,\n",
              " 'wide': 394,\n",
              " 'littl': 201,\n",
              " 'web': 389,\n",
              " 'devic': 87,\n",
              " 'poor': 264,\n",
              " 'possibl': 265,\n",
              " 'tablet': 348}"
            ]
          },
          "metadata": {},
          "execution_count": 88
        }
      ]
    },
    {
      "cell_type": "code",
      "source": [
        "# to see number of unique vectors\n",
        "len(vect.vocabulary_)\n"
      ],
      "metadata": {
        "colab": {
          "base_uri": "https://localhost:8080/"
        },
        "id": "IWKCbOJGB4WH",
        "outputId": "a29d07fa-3738-45b7-c05b-9ed3f25b3774"
      },
      "execution_count": null,
      "outputs": [
        {
          "output_type": "execute_result",
          "data": {
            "text/plain": [
              "413"
            ]
          },
          "metadata": {},
          "execution_count": 89
        }
      ]
    },
    {
      "cell_type": "markdown",
      "source": [
        "**Convert this sparse matrix to array**"
      ],
      "metadata": {
        "id": "HUlxKHdGDklw"
      }
    },
    {
      "cell_type": "code",
      "source": [
        "type(X)\n"
      ],
      "metadata": {
        "colab": {
          "base_uri": "https://localhost:8080/",
          "height": 587
        },
        "id": "gd7iotoRDi6f",
        "outputId": "f9318d68-6dfe-417b-aaa1-01217847bca0"
      },
      "execution_count": null,
      "outputs": [
        {
          "output_type": "execute_result",
          "data": {
            "text/plain": [
              "scipy.sparse._csr.csr_matrix"
            ],
            "text/html": [
              "<div style=\"max-width:800px; border: 1px solid var(--colab-border-color);\"><style>\n",
              "      pre.function-repr-contents {\n",
              "        overflow-x: auto;\n",
              "        padding: 8px 12px;\n",
              "        max-height: 500px;\n",
              "      }\n",
              "\n",
              "      pre.function-repr-contents.function-repr-contents-collapsed {\n",
              "        cursor: pointer;\n",
              "        max-height: 100px;\n",
              "      }\n",
              "    </style>\n",
              "    <pre style=\"white-space: initial; background:\n",
              "         var(--colab-secondary-surface-color); padding: 8px 12px;\n",
              "         border-bottom: 1px solid var(--colab-border-color);\"><b>scipy.sparse._csr.csr_matrix</b><br/>def __init__(arg1, shape=None, dtype=None, copy=False)</pre><pre class=\"function-repr-contents function-repr-contents-collapsed\" style=\"\"><a class=\"filepath\" style=\"display:none\" href=\"#\">/usr/local/lib/python3.11/dist-packages/scipy/sparse/_csr.py</a>Compressed Sparse Row matrix.\n",
              "\n",
              "This can be instantiated in several ways:\n",
              "    csr_matrix(D)\n",
              "        where D is a 2-D ndarray\n",
              "\n",
              "    csr_matrix(S)\n",
              "        with another sparse array or matrix S (equivalent to S.tocsr())\n",
              "\n",
              "    csr_matrix((M, N), [dtype])\n",
              "        to construct an empty matrix with shape (M, N)\n",
              "        dtype is optional, defaulting to dtype=&#x27;d&#x27;.\n",
              "\n",
              "    csr_matrix((data, (row_ind, col_ind)), [shape=(M, N)])\n",
              "        where ``data``, ``row_ind`` and ``col_ind`` satisfy the\n",
              "        relationship ``a[row_ind[k], col_ind[k]] = data[k]``.\n",
              "\n",
              "    csr_matrix((data, indices, indptr), [shape=(M, N)])\n",
              "        is the standard CSR representation where the column indices for\n",
              "        row i are stored in ``indices[indptr[i]:indptr[i+1]]`` and their\n",
              "        corresponding values are stored in ``data[indptr[i]:indptr[i+1]]``.\n",
              "        If the shape parameter is not supplied, the matrix dimensions\n",
              "        are inferred from the index arrays.\n",
              "\n",
              "Attributes\n",
              "----------\n",
              "dtype : dtype\n",
              "    Data type of the matrix\n",
              "shape : 2-tuple\n",
              "    Shape of the matrix\n",
              "ndim : int\n",
              "    Number of dimensions (this is always 2)\n",
              "nnz\n",
              "size\n",
              "data\n",
              "    CSR format data array of the matrix\n",
              "indices\n",
              "    CSR format index array of the matrix\n",
              "indptr\n",
              "    CSR format index pointer array of the matrix\n",
              "has_sorted_indices\n",
              "has_canonical_format\n",
              "T\n",
              "\n",
              "Notes\n",
              "-----\n",
              "\n",
              "Sparse matrices can be used in arithmetic operations: they support\n",
              "addition, subtraction, multiplication, division, and matrix power.\n",
              "\n",
              "Advantages of the CSR format\n",
              "  - efficient arithmetic operations CSR + CSR, CSR * CSR, etc.\n",
              "  - efficient row slicing\n",
              "  - fast matrix vector products\n",
              "\n",
              "Disadvantages of the CSR format\n",
              "  - slow column slicing operations (consider CSC)\n",
              "  - changes to the sparsity structure are expensive (consider LIL or DOK)\n",
              "\n",
              "Canonical Format\n",
              "    - Within each row, indices are sorted by column.\n",
              "    - There are no duplicate entries.\n",
              "\n",
              "Examples\n",
              "--------\n",
              "\n",
              "&gt;&gt;&gt; import numpy as np\n",
              "&gt;&gt;&gt; from scipy.sparse import csr_matrix\n",
              "&gt;&gt;&gt; csr_matrix((3, 4), dtype=np.int8).toarray()\n",
              "array([[0, 0, 0, 0],\n",
              "       [0, 0, 0, 0],\n",
              "       [0, 0, 0, 0]], dtype=int8)\n",
              "\n",
              "&gt;&gt;&gt; row = np.array([0, 0, 1, 2, 2, 2])\n",
              "&gt;&gt;&gt; col = np.array([0, 2, 2, 0, 1, 2])\n",
              "&gt;&gt;&gt; data = np.array([1, 2, 3, 4, 5, 6])\n",
              "&gt;&gt;&gt; csr_matrix((data, (row, col)), shape=(3, 3)).toarray()\n",
              "array([[1, 0, 2],\n",
              "       [0, 0, 3],\n",
              "       [4, 5, 6]])\n",
              "\n",
              "&gt;&gt;&gt; indptr = np.array([0, 2, 3, 6])\n",
              "&gt;&gt;&gt; indices = np.array([0, 2, 2, 0, 1, 2])\n",
              "&gt;&gt;&gt; data = np.array([1, 2, 3, 4, 5, 6])\n",
              "&gt;&gt;&gt; csr_matrix((data, indices, indptr), shape=(3, 3)).toarray()\n",
              "array([[1, 0, 2],\n",
              "       [0, 0, 3],\n",
              "       [4, 5, 6]])\n",
              "\n",
              "Duplicate entries are summed together:\n",
              "\n",
              "&gt;&gt;&gt; row = np.array([0, 1, 2, 0])\n",
              "&gt;&gt;&gt; col = np.array([0, 1, 1, 0])\n",
              "&gt;&gt;&gt; data = np.array([1, 2, 4, 8])\n",
              "&gt;&gt;&gt; csr_matrix((data, (row, col)), shape=(3, 3)).toarray()\n",
              "array([[9, 0, 0],\n",
              "       [0, 2, 0],\n",
              "       [0, 4, 0]])\n",
              "\n",
              "As an example of how to construct a CSR matrix incrementally,\n",
              "the following snippet builds a term-document matrix from texts:\n",
              "\n",
              "&gt;&gt;&gt; docs = [[&quot;hello&quot;, &quot;world&quot;, &quot;hello&quot;], [&quot;goodbye&quot;, &quot;cruel&quot;, &quot;world&quot;]]\n",
              "&gt;&gt;&gt; indptr = [0]\n",
              "&gt;&gt;&gt; indices = []\n",
              "&gt;&gt;&gt; data = []\n",
              "&gt;&gt;&gt; vocabulary = {}\n",
              "&gt;&gt;&gt; for d in docs:\n",
              "...     for term in d:\n",
              "...         index = vocabulary.setdefault(term, len(vocabulary))\n",
              "...         indices.append(index)\n",
              "...         data.append(1)\n",
              "...     indptr.append(len(indices))\n",
              "...\n",
              "&gt;&gt;&gt; csr_matrix((data, indices, indptr), dtype=int).toarray()\n",
              "array([[2, 1, 0, 0],\n",
              "       [0, 1, 1, 1]])</pre>\n",
              "      <script>\n",
              "      if (google.colab.kernel.accessAllowed && google.colab.files && google.colab.files.view) {\n",
              "        for (const element of document.querySelectorAll('.filepath')) {\n",
              "          element.style.display = 'block'\n",
              "          element.onclick = (event) => {\n",
              "            event.preventDefault();\n",
              "            event.stopPropagation();\n",
              "            google.colab.files.view(element.textContent, 370);\n",
              "          };\n",
              "        }\n",
              "      }\n",
              "      for (const element of document.querySelectorAll('.function-repr-contents')) {\n",
              "        element.onclick = (event) => {\n",
              "          event.preventDefault();\n",
              "          event.stopPropagation();\n",
              "          element.classList.toggle('function-repr-contents-collapsed');\n",
              "        };\n",
              "      }\n",
              "      </script>\n",
              "      </div>"
            ]
          },
          "metadata": {},
          "execution_count": 90
        }
      ]
    },
    {
      "cell_type": "code",
      "source": [
        "X_a = X.toarray()\n",
        "X_a.shape"
      ],
      "metadata": {
        "colab": {
          "base_uri": "https://localhost:8080/"
        },
        "id": "jO50dFCGDnqm",
        "outputId": "e43fb338-583b-4a5e-f9bd-2fac31012382"
      },
      "execution_count": null,
      "outputs": [
        {
          "output_type": "execute_result",
          "data": {
            "text/plain": [
              "(1500, 413)"
            ]
          },
          "metadata": {},
          "execution_count": 91
        }
      ]
    },
    {
      "cell_type": "code",
      "source": [
        "X_a[13,:]\n"
      ],
      "metadata": {
        "colab": {
          "base_uri": "https://localhost:8080/"
        },
        "id": "LN9ZGsQHDqtf",
        "outputId": "40f2887b-3883-44a8-b61e-ec2b7a8f9683"
      },
      "execution_count": null,
      "outputs": [
        {
          "output_type": "execute_result",
          "data": {
            "text/plain": [
              "array([0, 0, 0, 0, 0, 0, 0, 0, 0, 0, 0, 0, 0, 0, 0, 0, 0, 0, 0, 0, 0, 0,\n",
              "       0, 0, 0, 0, 0, 0, 0, 0, 0, 0, 0, 0, 0, 0, 0, 0, 0, 0, 0, 0, 0, 0,\n",
              "       0, 0, 0, 0, 0, 0, 0, 0, 0, 0, 0, 0, 0, 0, 0, 0, 0, 0, 0, 0, 0, 0,\n",
              "       0, 0, 0, 0, 0, 0, 0, 0, 0, 0, 0, 0, 0, 0, 0, 0, 0, 0, 0, 0, 0, 0,\n",
              "       0, 0, 0, 0, 0, 0, 0, 0, 0, 0, 0, 0, 0, 0, 0, 0, 0, 0, 0, 0, 0, 0,\n",
              "       0, 0, 0, 0, 0, 0, 0, 0, 0, 0, 0, 0, 0, 0, 0, 0, 0, 0, 0, 0, 0, 0,\n",
              "       0, 0, 0, 0, 0, 0, 0, 0, 0, 0, 0, 0, 0, 0, 0, 0, 0, 0, 0, 0, 0, 0,\n",
              "       0, 0, 0, 0, 0, 0, 0, 0, 0, 0, 0, 0, 0, 0, 0, 0, 0, 0, 0, 0, 0, 0,\n",
              "       0, 0, 0, 0, 0, 0, 0, 0, 0, 0, 0, 0, 0, 0, 0, 0, 0, 0, 0, 0, 0, 0,\n",
              "       0, 0, 0, 0, 0, 0, 0, 0, 0, 0, 0, 0, 0, 0, 0, 0, 0, 0, 0, 0, 0, 0,\n",
              "       0, 0, 0, 0, 0, 0, 0, 0, 0, 0, 0, 0, 0, 1, 0, 0, 0, 0, 0, 0, 0, 0,\n",
              "       0, 0, 0, 0, 0, 0, 0, 0, 0, 0, 0, 0, 0, 0, 0, 0, 0, 0, 0, 0, 0, 0,\n",
              "       0, 0, 0, 0, 0, 0, 0, 0, 0, 0, 0, 0, 0, 0, 0, 0, 0, 0, 0, 0, 0, 0,\n",
              "       0, 0, 0, 0, 0, 0, 0, 0, 0, 0, 0, 0, 0, 0, 0, 0, 1, 0, 0, 0, 0, 0,\n",
              "       0, 0, 0, 0, 0, 0, 0, 0, 0, 0, 0, 0, 0, 0, 0, 0, 0, 0, 0, 0, 0, 0,\n",
              "       0, 0, 0, 0, 0, 0, 0, 0, 0, 0, 0, 0, 0, 0, 0, 0, 0, 0, 0, 0, 0, 0,\n",
              "       0, 0, 0, 0, 0, 0, 0, 0, 0, 0, 0, 0, 0, 0, 0, 0, 0, 0, 1, 0, 0, 0,\n",
              "       0, 0, 0, 0, 0, 0, 0, 0, 0, 0, 0, 0, 0, 0, 0, 0, 0, 0, 0, 0, 0, 0,\n",
              "       0, 0, 0, 0, 0, 1, 0, 0, 0, 0, 0, 0, 0, 0, 0, 0, 0])"
            ]
          },
          "metadata": {},
          "execution_count": 92
        }
      ]
    },
    {
      "cell_type": "code",
      "source": [
        "X_a[13,:].sum()"
      ],
      "metadata": {
        "colab": {
          "base_uri": "https://localhost:8080/"
        },
        "id": "T3q4BbS6DtLn",
        "outputId": "315a4de8-79aa-4154-d540-4bc6eb60ebd0"
      },
      "execution_count": null,
      "outputs": [
        {
          "output_type": "execute_result",
          "data": {
            "text/plain": [
              "4"
            ]
          },
          "metadata": {},
          "execution_count": 93
        }
      ]
    },
    {
      "cell_type": "code",
      "source": [
        "clean_reviews[13]"
      ],
      "metadata": {
        "colab": {
          "base_uri": "https://localhost:8080/",
          "height": 36
        },
        "id": "oYv1TCosDv-n",
        "outputId": "0c007939-ee50-4c90-fafe-0dfd7f413344"
      },
      "execution_count": null,
      "outputs": [
        {
          "output_type": "execute_result",
          "data": {
            "text/plain": [
              "'unabl save work noth work'"
            ],
            "application/vnd.google.colaboratory.intrinsic+json": {
              "type": "string"
            }
          },
          "metadata": {},
          "execution_count": 94
        }
      ]
    },
    {
      "cell_type": "code",
      "source": [
        "feature_names = vect.get_feature_names_out()\n",
        "token = \"unabl\"\n",
        "if token in feature_names:\n",
        " index = list(feature_names).index(token)\n",
        " print(f\"Index of '{token}': {index}\")\n",
        "else:\n",
        " print(f\"'{token}' not found in feature names.\")"
      ],
      "metadata": {
        "colab": {
          "base_uri": "https://localhost:8080/"
        },
        "id": "8zCfj-yeDyHf",
        "outputId": "9895a7ef-5295-43cf-f724-7732707b70e0"
      },
      "execution_count": null,
      "outputs": [
        {
          "output_type": "stream",
          "name": "stdout",
          "text": [
            "Index of 'unabl': 370\n"
          ]
        }
      ]
    },
    {
      "cell_type": "code",
      "source": [
        "token = \"work\"\n",
        "if token in feature_names:\n",
        " index = list(feature_names).index(token)\n",
        " print(f\"Index of '{token}': {index}\")\n",
        "else:\n",
        " print(f\"'{token}' not found in feature names.\")"
      ],
      "metadata": {
        "colab": {
          "base_uri": "https://localhost:8080/"
        },
        "id": "1Q4jia7yD1gf",
        "outputId": "afd08d89-2496-4dd6-ad4d-1785a3f23ba0"
      },
      "execution_count": null,
      "outputs": [
        {
          "output_type": "stream",
          "name": "stdout",
          "text": [
            "Index of 'work': 401\n"
          ]
        }
      ]
    },
    {
      "cell_type": "code",
      "source": [
        "X_a[13,401]"
      ],
      "metadata": {
        "colab": {
          "base_uri": "https://localhost:8080/"
        },
        "id": "RUaTmM6dD4zK",
        "outputId": "1b5bd7f6-5bec-499a-922a-866d9c61f0b0"
      },
      "execution_count": null,
      "outputs": [
        {
          "output_type": "execute_result",
          "data": {
            "text/plain": [
              "1"
            ]
          },
          "metadata": {},
          "execution_count": 97
        }
      ]
    },
    {
      "cell_type": "code",
      "source": [
        "data.head()"
      ],
      "metadata": {
        "colab": {
          "base_uri": "https://localhost:8080/",
          "height": 206
        },
        "id": "EqkCuaB5D7Cr",
        "outputId": "1c57c561-b200-49b3-e1e0-2a3800f6a8fc"
      },
      "execution_count": null,
      "outputs": [
        {
          "output_type": "execute_result",
          "data": {
            "text/plain": [
              "                                              review Sentiment\n",
              "0  Overall it's really an amazing app. I've been ...  Negative\n",
              "1  Hey! Yes I gave a 5 star rating... coz I belie...  Positive\n",
              "2  Canva used to be a good app! But recently I've...  Negative\n",
              "3  It's a brilliant app, but I have just one prob...  Negative\n",
              "4  This was such a great app. I used to make BTS ...  Negative"
            ],
            "text/html": [
              "\n",
              "  <div id=\"df-fd21378c-17d3-4bff-816f-c30329973538\" class=\"colab-df-container\">\n",
              "    <div>\n",
              "<style scoped>\n",
              "    .dataframe tbody tr th:only-of-type {\n",
              "        vertical-align: middle;\n",
              "    }\n",
              "\n",
              "    .dataframe tbody tr th {\n",
              "        vertical-align: top;\n",
              "    }\n",
              "\n",
              "    .dataframe thead th {\n",
              "        text-align: right;\n",
              "    }\n",
              "</style>\n",
              "<table border=\"1\" class=\"dataframe\">\n",
              "  <thead>\n",
              "    <tr style=\"text-align: right;\">\n",
              "      <th></th>\n",
              "      <th>review</th>\n",
              "      <th>Sentiment</th>\n",
              "    </tr>\n",
              "  </thead>\n",
              "  <tbody>\n",
              "    <tr>\n",
              "      <th>0</th>\n",
              "      <td>Overall it's really an amazing app. I've been ...</td>\n",
              "      <td>Negative</td>\n",
              "    </tr>\n",
              "    <tr>\n",
              "      <th>1</th>\n",
              "      <td>Hey! Yes I gave a 5 star rating... coz I belie...</td>\n",
              "      <td>Positive</td>\n",
              "    </tr>\n",
              "    <tr>\n",
              "      <th>2</th>\n",
              "      <td>Canva used to be a good app! But recently I've...</td>\n",
              "      <td>Negative</td>\n",
              "    </tr>\n",
              "    <tr>\n",
              "      <th>3</th>\n",
              "      <td>It's a brilliant app, but I have just one prob...</td>\n",
              "      <td>Negative</td>\n",
              "    </tr>\n",
              "    <tr>\n",
              "      <th>4</th>\n",
              "      <td>This was such a great app. I used to make BTS ...</td>\n",
              "      <td>Negative</td>\n",
              "    </tr>\n",
              "  </tbody>\n",
              "</table>\n",
              "</div>\n",
              "    <div class=\"colab-df-buttons\">\n",
              "\n",
              "  <div class=\"colab-df-container\">\n",
              "    <button class=\"colab-df-convert\" onclick=\"convertToInteractive('df-fd21378c-17d3-4bff-816f-c30329973538')\"\n",
              "            title=\"Convert this dataframe to an interactive table.\"\n",
              "            style=\"display:none;\">\n",
              "\n",
              "  <svg xmlns=\"http://www.w3.org/2000/svg\" height=\"24px\" viewBox=\"0 -960 960 960\">\n",
              "    <path d=\"M120-120v-720h720v720H120Zm60-500h600v-160H180v160Zm220 220h160v-160H400v160Zm0 220h160v-160H400v160ZM180-400h160v-160H180v160Zm440 0h160v-160H620v160ZM180-180h160v-160H180v160Zm440 0h160v-160H620v160Z\"/>\n",
              "  </svg>\n",
              "    </button>\n",
              "\n",
              "  <style>\n",
              "    .colab-df-container {\n",
              "      display:flex;\n",
              "      gap: 12px;\n",
              "    }\n",
              "\n",
              "    .colab-df-convert {\n",
              "      background-color: #E8F0FE;\n",
              "      border: none;\n",
              "      border-radius: 50%;\n",
              "      cursor: pointer;\n",
              "      display: none;\n",
              "      fill: #1967D2;\n",
              "      height: 32px;\n",
              "      padding: 0 0 0 0;\n",
              "      width: 32px;\n",
              "    }\n",
              "\n",
              "    .colab-df-convert:hover {\n",
              "      background-color: #E2EBFA;\n",
              "      box-shadow: 0px 1px 2px rgba(60, 64, 67, 0.3), 0px 1px 3px 1px rgba(60, 64, 67, 0.15);\n",
              "      fill: #174EA6;\n",
              "    }\n",
              "\n",
              "    .colab-df-buttons div {\n",
              "      margin-bottom: 4px;\n",
              "    }\n",
              "\n",
              "    [theme=dark] .colab-df-convert {\n",
              "      background-color: #3B4455;\n",
              "      fill: #D2E3FC;\n",
              "    }\n",
              "\n",
              "    [theme=dark] .colab-df-convert:hover {\n",
              "      background-color: #434B5C;\n",
              "      box-shadow: 0px 1px 3px 1px rgba(0, 0, 0, 0.15);\n",
              "      filter: drop-shadow(0px 1px 2px rgba(0, 0, 0, 0.3));\n",
              "      fill: #FFFFFF;\n",
              "    }\n",
              "  </style>\n",
              "\n",
              "    <script>\n",
              "      const buttonEl =\n",
              "        document.querySelector('#df-fd21378c-17d3-4bff-816f-c30329973538 button.colab-df-convert');\n",
              "      buttonEl.style.display =\n",
              "        google.colab.kernel.accessAllowed ? 'block' : 'none';\n",
              "\n",
              "      async function convertToInteractive(key) {\n",
              "        const element = document.querySelector('#df-fd21378c-17d3-4bff-816f-c30329973538');\n",
              "        const dataTable =\n",
              "          await google.colab.kernel.invokeFunction('convertToInteractive',\n",
              "                                                    [key], {});\n",
              "        if (!dataTable) return;\n",
              "\n",
              "        const docLinkHtml = 'Like what you see? Visit the ' +\n",
              "          '<a target=\"_blank\" href=https://colab.research.google.com/notebooks/data_table.ipynb>data table notebook</a>'\n",
              "          + ' to learn more about interactive tables.';\n",
              "        element.innerHTML = '';\n",
              "        dataTable['output_type'] = 'display_data';\n",
              "        await google.colab.output.renderOutput(dataTable, element);\n",
              "        const docLink = document.createElement('div');\n",
              "        docLink.innerHTML = docLinkHtml;\n",
              "        element.appendChild(docLink);\n",
              "      }\n",
              "    </script>\n",
              "  </div>\n",
              "\n",
              "\n",
              "<div id=\"df-96877881-cbc6-43bd-bfc2-067918bf61bf\">\n",
              "  <button class=\"colab-df-quickchart\" onclick=\"quickchart('df-96877881-cbc6-43bd-bfc2-067918bf61bf')\"\n",
              "            title=\"Suggest charts\"\n",
              "            style=\"display:none;\">\n",
              "\n",
              "<svg xmlns=\"http://www.w3.org/2000/svg\" height=\"24px\"viewBox=\"0 0 24 24\"\n",
              "     width=\"24px\">\n",
              "    <g>\n",
              "        <path d=\"M19 3H5c-1.1 0-2 .9-2 2v14c0 1.1.9 2 2 2h14c1.1 0 2-.9 2-2V5c0-1.1-.9-2-2-2zM9 17H7v-7h2v7zm4 0h-2V7h2v10zm4 0h-2v-4h2v4z\"/>\n",
              "    </g>\n",
              "</svg>\n",
              "  </button>\n",
              "\n",
              "<style>\n",
              "  .colab-df-quickchart {\n",
              "      --bg-color: #E8F0FE;\n",
              "      --fill-color: #1967D2;\n",
              "      --hover-bg-color: #E2EBFA;\n",
              "      --hover-fill-color: #174EA6;\n",
              "      --disabled-fill-color: #AAA;\n",
              "      --disabled-bg-color: #DDD;\n",
              "  }\n",
              "\n",
              "  [theme=dark] .colab-df-quickchart {\n",
              "      --bg-color: #3B4455;\n",
              "      --fill-color: #D2E3FC;\n",
              "      --hover-bg-color: #434B5C;\n",
              "      --hover-fill-color: #FFFFFF;\n",
              "      --disabled-bg-color: #3B4455;\n",
              "      --disabled-fill-color: #666;\n",
              "  }\n",
              "\n",
              "  .colab-df-quickchart {\n",
              "    background-color: var(--bg-color);\n",
              "    border: none;\n",
              "    border-radius: 50%;\n",
              "    cursor: pointer;\n",
              "    display: none;\n",
              "    fill: var(--fill-color);\n",
              "    height: 32px;\n",
              "    padding: 0;\n",
              "    width: 32px;\n",
              "  }\n",
              "\n",
              "  .colab-df-quickchart:hover {\n",
              "    background-color: var(--hover-bg-color);\n",
              "    box-shadow: 0 1px 2px rgba(60, 64, 67, 0.3), 0 1px 3px 1px rgba(60, 64, 67, 0.15);\n",
              "    fill: var(--button-hover-fill-color);\n",
              "  }\n",
              "\n",
              "  .colab-df-quickchart-complete:disabled,\n",
              "  .colab-df-quickchart-complete:disabled:hover {\n",
              "    background-color: var(--disabled-bg-color);\n",
              "    fill: var(--disabled-fill-color);\n",
              "    box-shadow: none;\n",
              "  }\n",
              "\n",
              "  .colab-df-spinner {\n",
              "    border: 2px solid var(--fill-color);\n",
              "    border-color: transparent;\n",
              "    border-bottom-color: var(--fill-color);\n",
              "    animation:\n",
              "      spin 1s steps(1) infinite;\n",
              "  }\n",
              "\n",
              "  @keyframes spin {\n",
              "    0% {\n",
              "      border-color: transparent;\n",
              "      border-bottom-color: var(--fill-color);\n",
              "      border-left-color: var(--fill-color);\n",
              "    }\n",
              "    20% {\n",
              "      border-color: transparent;\n",
              "      border-left-color: var(--fill-color);\n",
              "      border-top-color: var(--fill-color);\n",
              "    }\n",
              "    30% {\n",
              "      border-color: transparent;\n",
              "      border-left-color: var(--fill-color);\n",
              "      border-top-color: var(--fill-color);\n",
              "      border-right-color: var(--fill-color);\n",
              "    }\n",
              "    40% {\n",
              "      border-color: transparent;\n",
              "      border-right-color: var(--fill-color);\n",
              "      border-top-color: var(--fill-color);\n",
              "    }\n",
              "    60% {\n",
              "      border-color: transparent;\n",
              "      border-right-color: var(--fill-color);\n",
              "    }\n",
              "    80% {\n",
              "      border-color: transparent;\n",
              "      border-right-color: var(--fill-color);\n",
              "      border-bottom-color: var(--fill-color);\n",
              "    }\n",
              "    90% {\n",
              "      border-color: transparent;\n",
              "      border-bottom-color: var(--fill-color);\n",
              "    }\n",
              "  }\n",
              "</style>\n",
              "\n",
              "  <script>\n",
              "    async function quickchart(key) {\n",
              "      const quickchartButtonEl =\n",
              "        document.querySelector('#' + key + ' button');\n",
              "      quickchartButtonEl.disabled = true;  // To prevent multiple clicks.\n",
              "      quickchartButtonEl.classList.add('colab-df-spinner');\n",
              "      try {\n",
              "        const charts = await google.colab.kernel.invokeFunction(\n",
              "            'suggestCharts', [key], {});\n",
              "      } catch (error) {\n",
              "        console.error('Error during call to suggestCharts:', error);\n",
              "      }\n",
              "      quickchartButtonEl.classList.remove('colab-df-spinner');\n",
              "      quickchartButtonEl.classList.add('colab-df-quickchart-complete');\n",
              "    }\n",
              "    (() => {\n",
              "      let quickchartButtonEl =\n",
              "        document.querySelector('#df-96877881-cbc6-43bd-bfc2-067918bf61bf button');\n",
              "      quickchartButtonEl.style.display =\n",
              "        google.colab.kernel.accessAllowed ? 'block' : 'none';\n",
              "    })();\n",
              "  </script>\n",
              "</div>\n",
              "\n",
              "    </div>\n",
              "  </div>\n"
            ],
            "application/vnd.google.colaboratory.intrinsic+json": {
              "type": "dataframe",
              "variable_name": "data",
              "summary": "{\n  \"name\": \"data\",\n  \"rows\": 1500,\n  \"fields\": [\n    {\n      \"column\": \"review\",\n      \"properties\": {\n        \"dtype\": \"string\",\n        \"num_unique_values\": 1500,\n        \"samples\": [\n          \"Superb app lost of features just one problems is there that it is a bit expensive for students like us.\",\n          \"Loving how easy it is to get great ideas and turn them into something amazing! Thank you to the developers of this app!\",\n          \"Just what I've been looking for, very convenient for me.\"\n        ],\n        \"semantic_type\": \"\",\n        \"description\": \"\"\n      }\n    },\n    {\n      \"column\": \"Sentiment\",\n      \"properties\": {\n        \"dtype\": \"category\",\n        \"num_unique_values\": 2,\n        \"samples\": [\n          \"Positive\",\n          \"Negative\"\n        ],\n        \"semantic_type\": \"\",\n        \"description\": \"\"\n      }\n    }\n  ]\n}"
            }
          },
          "metadata": {},
          "execution_count": 98
        }
      ]
    },
    {
      "cell_type": "code",
      "source": [
        "# encode\n",
        "data[\"Sentiment\"] = data[\"Sentiment\"].apply(lambda x: 1 if x==\"Positive\" else 0)"
      ],
      "metadata": {
        "id": "yjK0yR5dD9dv"
      },
      "execution_count": null,
      "outputs": []
    },
    {
      "cell_type": "code",
      "source": [
        "# encode - another, easy version\n",
        "# Encode 'Sentiment' column\n",
        "#data['Sentiment_Encoded'] = data['Sentiment'].map({'Negative': 0, 'Positive': 1})"
      ],
      "metadata": {
        "id": "5vjtoxZpEA4f"
      },
      "execution_count": null,
      "outputs": []
    },
    {
      "cell_type": "code",
      "source": [
        "y = data[\"Sentiment\"]"
      ],
      "metadata": {
        "id": "379jwAYfEENu"
      },
      "execution_count": null,
      "outputs": []
    },
    {
      "cell_type": "markdown",
      "source": [
        "**Section 4.1. Model Building using Binary Bag of Words**\n"
      ],
      "metadata": {
        "id": "0ZhhmIiPEL3_"
      }
    },
    {
      "cell_type": "code",
      "source": [
        "X_train, X_test, y_train, y_test = train_test_split(X, y, test_size=0.2,\n",
        " stratify=y, random_state=42)"
      ],
      "metadata": {
        "id": "dRG1zuK4EI9n"
      },
      "execution_count": null,
      "outputs": []
    },
    {
      "cell_type": "code",
      "source": [
        "model = LogisticRegression()\n",
        "model.fit(X_train, y_train)"
      ],
      "metadata": {
        "colab": {
          "base_uri": "https://localhost:8080/",
          "height": 80
        },
        "id": "Aim3mLufETjv",
        "outputId": "0b040e08-a673-48f9-cecd-442ffcc39158"
      },
      "execution_count": null,
      "outputs": [
        {
          "output_type": "execute_result",
          "data": {
            "text/plain": [
              "LogisticRegression()"
            ],
            "text/html": [
              "<style>#sk-container-id-1 {\n",
              "  /* Definition of color scheme common for light and dark mode */\n",
              "  --sklearn-color-text: #000;\n",
              "  --sklearn-color-text-muted: #666;\n",
              "  --sklearn-color-line: gray;\n",
              "  /* Definition of color scheme for unfitted estimators */\n",
              "  --sklearn-color-unfitted-level-0: #fff5e6;\n",
              "  --sklearn-color-unfitted-level-1: #f6e4d2;\n",
              "  --sklearn-color-unfitted-level-2: #ffe0b3;\n",
              "  --sklearn-color-unfitted-level-3: chocolate;\n",
              "  /* Definition of color scheme for fitted estimators */\n",
              "  --sklearn-color-fitted-level-0: #f0f8ff;\n",
              "  --sklearn-color-fitted-level-1: #d4ebff;\n",
              "  --sklearn-color-fitted-level-2: #b3dbfd;\n",
              "  --sklearn-color-fitted-level-3: cornflowerblue;\n",
              "\n",
              "  /* Specific color for light theme */\n",
              "  --sklearn-color-text-on-default-background: var(--sg-text-color, var(--theme-code-foreground, var(--jp-content-font-color1, black)));\n",
              "  --sklearn-color-background: var(--sg-background-color, var(--theme-background, var(--jp-layout-color0, white)));\n",
              "  --sklearn-color-border-box: var(--sg-text-color, var(--theme-code-foreground, var(--jp-content-font-color1, black)));\n",
              "  --sklearn-color-icon: #696969;\n",
              "\n",
              "  @media (prefers-color-scheme: dark) {\n",
              "    /* Redefinition of color scheme for dark theme */\n",
              "    --sklearn-color-text-on-default-background: var(--sg-text-color, var(--theme-code-foreground, var(--jp-content-font-color1, white)));\n",
              "    --sklearn-color-background: var(--sg-background-color, var(--theme-background, var(--jp-layout-color0, #111)));\n",
              "    --sklearn-color-border-box: var(--sg-text-color, var(--theme-code-foreground, var(--jp-content-font-color1, white)));\n",
              "    --sklearn-color-icon: #878787;\n",
              "  }\n",
              "}\n",
              "\n",
              "#sk-container-id-1 {\n",
              "  color: var(--sklearn-color-text);\n",
              "}\n",
              "\n",
              "#sk-container-id-1 pre {\n",
              "  padding: 0;\n",
              "}\n",
              "\n",
              "#sk-container-id-1 input.sk-hidden--visually {\n",
              "  border: 0;\n",
              "  clip: rect(1px 1px 1px 1px);\n",
              "  clip: rect(1px, 1px, 1px, 1px);\n",
              "  height: 1px;\n",
              "  margin: -1px;\n",
              "  overflow: hidden;\n",
              "  padding: 0;\n",
              "  position: absolute;\n",
              "  width: 1px;\n",
              "}\n",
              "\n",
              "#sk-container-id-1 div.sk-dashed-wrapped {\n",
              "  border: 1px dashed var(--sklearn-color-line);\n",
              "  margin: 0 0.4em 0.5em 0.4em;\n",
              "  box-sizing: border-box;\n",
              "  padding-bottom: 0.4em;\n",
              "  background-color: var(--sklearn-color-background);\n",
              "}\n",
              "\n",
              "#sk-container-id-1 div.sk-container {\n",
              "  /* jupyter's `normalize.less` sets `[hidden] { display: none; }`\n",
              "     but bootstrap.min.css set `[hidden] { display: none !important; }`\n",
              "     so we also need the `!important` here to be able to override the\n",
              "     default hidden behavior on the sphinx rendered scikit-learn.org.\n",
              "     See: https://github.com/scikit-learn/scikit-learn/issues/21755 */\n",
              "  display: inline-block !important;\n",
              "  position: relative;\n",
              "}\n",
              "\n",
              "#sk-container-id-1 div.sk-text-repr-fallback {\n",
              "  display: none;\n",
              "}\n",
              "\n",
              "div.sk-parallel-item,\n",
              "div.sk-serial,\n",
              "div.sk-item {\n",
              "  /* draw centered vertical line to link estimators */\n",
              "  background-image: linear-gradient(var(--sklearn-color-text-on-default-background), var(--sklearn-color-text-on-default-background));\n",
              "  background-size: 2px 100%;\n",
              "  background-repeat: no-repeat;\n",
              "  background-position: center center;\n",
              "}\n",
              "\n",
              "/* Parallel-specific style estimator block */\n",
              "\n",
              "#sk-container-id-1 div.sk-parallel-item::after {\n",
              "  content: \"\";\n",
              "  width: 100%;\n",
              "  border-bottom: 2px solid var(--sklearn-color-text-on-default-background);\n",
              "  flex-grow: 1;\n",
              "}\n",
              "\n",
              "#sk-container-id-1 div.sk-parallel {\n",
              "  display: flex;\n",
              "  align-items: stretch;\n",
              "  justify-content: center;\n",
              "  background-color: var(--sklearn-color-background);\n",
              "  position: relative;\n",
              "}\n",
              "\n",
              "#sk-container-id-1 div.sk-parallel-item {\n",
              "  display: flex;\n",
              "  flex-direction: column;\n",
              "}\n",
              "\n",
              "#sk-container-id-1 div.sk-parallel-item:first-child::after {\n",
              "  align-self: flex-end;\n",
              "  width: 50%;\n",
              "}\n",
              "\n",
              "#sk-container-id-1 div.sk-parallel-item:last-child::after {\n",
              "  align-self: flex-start;\n",
              "  width: 50%;\n",
              "}\n",
              "\n",
              "#sk-container-id-1 div.sk-parallel-item:only-child::after {\n",
              "  width: 0;\n",
              "}\n",
              "\n",
              "/* Serial-specific style estimator block */\n",
              "\n",
              "#sk-container-id-1 div.sk-serial {\n",
              "  display: flex;\n",
              "  flex-direction: column;\n",
              "  align-items: center;\n",
              "  background-color: var(--sklearn-color-background);\n",
              "  padding-right: 1em;\n",
              "  padding-left: 1em;\n",
              "}\n",
              "\n",
              "\n",
              "/* Toggleable style: style used for estimator/Pipeline/ColumnTransformer box that is\n",
              "clickable and can be expanded/collapsed.\n",
              "- Pipeline and ColumnTransformer use this feature and define the default style\n",
              "- Estimators will overwrite some part of the style using the `sk-estimator` class\n",
              "*/\n",
              "\n",
              "/* Pipeline and ColumnTransformer style (default) */\n",
              "\n",
              "#sk-container-id-1 div.sk-toggleable {\n",
              "  /* Default theme specific background. It is overwritten whether we have a\n",
              "  specific estimator or a Pipeline/ColumnTransformer */\n",
              "  background-color: var(--sklearn-color-background);\n",
              "}\n",
              "\n",
              "/* Toggleable label */\n",
              "#sk-container-id-1 label.sk-toggleable__label {\n",
              "  cursor: pointer;\n",
              "  display: flex;\n",
              "  width: 100%;\n",
              "  margin-bottom: 0;\n",
              "  padding: 0.5em;\n",
              "  box-sizing: border-box;\n",
              "  text-align: center;\n",
              "  align-items: start;\n",
              "  justify-content: space-between;\n",
              "  gap: 0.5em;\n",
              "}\n",
              "\n",
              "#sk-container-id-1 label.sk-toggleable__label .caption {\n",
              "  font-size: 0.6rem;\n",
              "  font-weight: lighter;\n",
              "  color: var(--sklearn-color-text-muted);\n",
              "}\n",
              "\n",
              "#sk-container-id-1 label.sk-toggleable__label-arrow:before {\n",
              "  /* Arrow on the left of the label */\n",
              "  content: \"▸\";\n",
              "  float: left;\n",
              "  margin-right: 0.25em;\n",
              "  color: var(--sklearn-color-icon);\n",
              "}\n",
              "\n",
              "#sk-container-id-1 label.sk-toggleable__label-arrow:hover:before {\n",
              "  color: var(--sklearn-color-text);\n",
              "}\n",
              "\n",
              "/* Toggleable content - dropdown */\n",
              "\n",
              "#sk-container-id-1 div.sk-toggleable__content {\n",
              "  max-height: 0;\n",
              "  max-width: 0;\n",
              "  overflow: hidden;\n",
              "  text-align: left;\n",
              "  /* unfitted */\n",
              "  background-color: var(--sklearn-color-unfitted-level-0);\n",
              "}\n",
              "\n",
              "#sk-container-id-1 div.sk-toggleable__content.fitted {\n",
              "  /* fitted */\n",
              "  background-color: var(--sklearn-color-fitted-level-0);\n",
              "}\n",
              "\n",
              "#sk-container-id-1 div.sk-toggleable__content pre {\n",
              "  margin: 0.2em;\n",
              "  border-radius: 0.25em;\n",
              "  color: var(--sklearn-color-text);\n",
              "  /* unfitted */\n",
              "  background-color: var(--sklearn-color-unfitted-level-0);\n",
              "}\n",
              "\n",
              "#sk-container-id-1 div.sk-toggleable__content.fitted pre {\n",
              "  /* unfitted */\n",
              "  background-color: var(--sklearn-color-fitted-level-0);\n",
              "}\n",
              "\n",
              "#sk-container-id-1 input.sk-toggleable__control:checked~div.sk-toggleable__content {\n",
              "  /* Expand drop-down */\n",
              "  max-height: 200px;\n",
              "  max-width: 100%;\n",
              "  overflow: auto;\n",
              "}\n",
              "\n",
              "#sk-container-id-1 input.sk-toggleable__control:checked~label.sk-toggleable__label-arrow:before {\n",
              "  content: \"▾\";\n",
              "}\n",
              "\n",
              "/* Pipeline/ColumnTransformer-specific style */\n",
              "\n",
              "#sk-container-id-1 div.sk-label input.sk-toggleable__control:checked~label.sk-toggleable__label {\n",
              "  color: var(--sklearn-color-text);\n",
              "  background-color: var(--sklearn-color-unfitted-level-2);\n",
              "}\n",
              "\n",
              "#sk-container-id-1 div.sk-label.fitted input.sk-toggleable__control:checked~label.sk-toggleable__label {\n",
              "  background-color: var(--sklearn-color-fitted-level-2);\n",
              "}\n",
              "\n",
              "/* Estimator-specific style */\n",
              "\n",
              "/* Colorize estimator box */\n",
              "#sk-container-id-1 div.sk-estimator input.sk-toggleable__control:checked~label.sk-toggleable__label {\n",
              "  /* unfitted */\n",
              "  background-color: var(--sklearn-color-unfitted-level-2);\n",
              "}\n",
              "\n",
              "#sk-container-id-1 div.sk-estimator.fitted input.sk-toggleable__control:checked~label.sk-toggleable__label {\n",
              "  /* fitted */\n",
              "  background-color: var(--sklearn-color-fitted-level-2);\n",
              "}\n",
              "\n",
              "#sk-container-id-1 div.sk-label label.sk-toggleable__label,\n",
              "#sk-container-id-1 div.sk-label label {\n",
              "  /* The background is the default theme color */\n",
              "  color: var(--sklearn-color-text-on-default-background);\n",
              "}\n",
              "\n",
              "/* On hover, darken the color of the background */\n",
              "#sk-container-id-1 div.sk-label:hover label.sk-toggleable__label {\n",
              "  color: var(--sklearn-color-text);\n",
              "  background-color: var(--sklearn-color-unfitted-level-2);\n",
              "}\n",
              "\n",
              "/* Label box, darken color on hover, fitted */\n",
              "#sk-container-id-1 div.sk-label.fitted:hover label.sk-toggleable__label.fitted {\n",
              "  color: var(--sklearn-color-text);\n",
              "  background-color: var(--sklearn-color-fitted-level-2);\n",
              "}\n",
              "\n",
              "/* Estimator label */\n",
              "\n",
              "#sk-container-id-1 div.sk-label label {\n",
              "  font-family: monospace;\n",
              "  font-weight: bold;\n",
              "  display: inline-block;\n",
              "  line-height: 1.2em;\n",
              "}\n",
              "\n",
              "#sk-container-id-1 div.sk-label-container {\n",
              "  text-align: center;\n",
              "}\n",
              "\n",
              "/* Estimator-specific */\n",
              "#sk-container-id-1 div.sk-estimator {\n",
              "  font-family: monospace;\n",
              "  border: 1px dotted var(--sklearn-color-border-box);\n",
              "  border-radius: 0.25em;\n",
              "  box-sizing: border-box;\n",
              "  margin-bottom: 0.5em;\n",
              "  /* unfitted */\n",
              "  background-color: var(--sklearn-color-unfitted-level-0);\n",
              "}\n",
              "\n",
              "#sk-container-id-1 div.sk-estimator.fitted {\n",
              "  /* fitted */\n",
              "  background-color: var(--sklearn-color-fitted-level-0);\n",
              "}\n",
              "\n",
              "/* on hover */\n",
              "#sk-container-id-1 div.sk-estimator:hover {\n",
              "  /* unfitted */\n",
              "  background-color: var(--sklearn-color-unfitted-level-2);\n",
              "}\n",
              "\n",
              "#sk-container-id-1 div.sk-estimator.fitted:hover {\n",
              "  /* fitted */\n",
              "  background-color: var(--sklearn-color-fitted-level-2);\n",
              "}\n",
              "\n",
              "/* Specification for estimator info (e.g. \"i\" and \"?\") */\n",
              "\n",
              "/* Common style for \"i\" and \"?\" */\n",
              "\n",
              ".sk-estimator-doc-link,\n",
              "a:link.sk-estimator-doc-link,\n",
              "a:visited.sk-estimator-doc-link {\n",
              "  float: right;\n",
              "  font-size: smaller;\n",
              "  line-height: 1em;\n",
              "  font-family: monospace;\n",
              "  background-color: var(--sklearn-color-background);\n",
              "  border-radius: 1em;\n",
              "  height: 1em;\n",
              "  width: 1em;\n",
              "  text-decoration: none !important;\n",
              "  margin-left: 0.5em;\n",
              "  text-align: center;\n",
              "  /* unfitted */\n",
              "  border: var(--sklearn-color-unfitted-level-1) 1pt solid;\n",
              "  color: var(--sklearn-color-unfitted-level-1);\n",
              "}\n",
              "\n",
              ".sk-estimator-doc-link.fitted,\n",
              "a:link.sk-estimator-doc-link.fitted,\n",
              "a:visited.sk-estimator-doc-link.fitted {\n",
              "  /* fitted */\n",
              "  border: var(--sklearn-color-fitted-level-1) 1pt solid;\n",
              "  color: var(--sklearn-color-fitted-level-1);\n",
              "}\n",
              "\n",
              "/* On hover */\n",
              "div.sk-estimator:hover .sk-estimator-doc-link:hover,\n",
              ".sk-estimator-doc-link:hover,\n",
              "div.sk-label-container:hover .sk-estimator-doc-link:hover,\n",
              ".sk-estimator-doc-link:hover {\n",
              "  /* unfitted */\n",
              "  background-color: var(--sklearn-color-unfitted-level-3);\n",
              "  color: var(--sklearn-color-background);\n",
              "  text-decoration: none;\n",
              "}\n",
              "\n",
              "div.sk-estimator.fitted:hover .sk-estimator-doc-link.fitted:hover,\n",
              ".sk-estimator-doc-link.fitted:hover,\n",
              "div.sk-label-container:hover .sk-estimator-doc-link.fitted:hover,\n",
              ".sk-estimator-doc-link.fitted:hover {\n",
              "  /* fitted */\n",
              "  background-color: var(--sklearn-color-fitted-level-3);\n",
              "  color: var(--sklearn-color-background);\n",
              "  text-decoration: none;\n",
              "}\n",
              "\n",
              "/* Span, style for the box shown on hovering the info icon */\n",
              ".sk-estimator-doc-link span {\n",
              "  display: none;\n",
              "  z-index: 9999;\n",
              "  position: relative;\n",
              "  font-weight: normal;\n",
              "  right: .2ex;\n",
              "  padding: .5ex;\n",
              "  margin: .5ex;\n",
              "  width: min-content;\n",
              "  min-width: 20ex;\n",
              "  max-width: 50ex;\n",
              "  color: var(--sklearn-color-text);\n",
              "  box-shadow: 2pt 2pt 4pt #999;\n",
              "  /* unfitted */\n",
              "  background: var(--sklearn-color-unfitted-level-0);\n",
              "  border: .5pt solid var(--sklearn-color-unfitted-level-3);\n",
              "}\n",
              "\n",
              ".sk-estimator-doc-link.fitted span {\n",
              "  /* fitted */\n",
              "  background: var(--sklearn-color-fitted-level-0);\n",
              "  border: var(--sklearn-color-fitted-level-3);\n",
              "}\n",
              "\n",
              ".sk-estimator-doc-link:hover span {\n",
              "  display: block;\n",
              "}\n",
              "\n",
              "/* \"?\"-specific style due to the `<a>` HTML tag */\n",
              "\n",
              "#sk-container-id-1 a.estimator_doc_link {\n",
              "  float: right;\n",
              "  font-size: 1rem;\n",
              "  line-height: 1em;\n",
              "  font-family: monospace;\n",
              "  background-color: var(--sklearn-color-background);\n",
              "  border-radius: 1rem;\n",
              "  height: 1rem;\n",
              "  width: 1rem;\n",
              "  text-decoration: none;\n",
              "  /* unfitted */\n",
              "  color: var(--sklearn-color-unfitted-level-1);\n",
              "  border: var(--sklearn-color-unfitted-level-1) 1pt solid;\n",
              "}\n",
              "\n",
              "#sk-container-id-1 a.estimator_doc_link.fitted {\n",
              "  /* fitted */\n",
              "  border: var(--sklearn-color-fitted-level-1) 1pt solid;\n",
              "  color: var(--sklearn-color-fitted-level-1);\n",
              "}\n",
              "\n",
              "/* On hover */\n",
              "#sk-container-id-1 a.estimator_doc_link:hover {\n",
              "  /* unfitted */\n",
              "  background-color: var(--sklearn-color-unfitted-level-3);\n",
              "  color: var(--sklearn-color-background);\n",
              "  text-decoration: none;\n",
              "}\n",
              "\n",
              "#sk-container-id-1 a.estimator_doc_link.fitted:hover {\n",
              "  /* fitted */\n",
              "  background-color: var(--sklearn-color-fitted-level-3);\n",
              "}\n",
              "</style><div id=\"sk-container-id-1\" class=\"sk-top-container\"><div class=\"sk-text-repr-fallback\"><pre>LogisticRegression()</pre><b>In a Jupyter environment, please rerun this cell to show the HTML representation or trust the notebook. <br />On GitHub, the HTML representation is unable to render, please try loading this page with nbviewer.org.</b></div><div class=\"sk-container\" hidden><div class=\"sk-item\"><div class=\"sk-estimator fitted sk-toggleable\"><input class=\"sk-toggleable__control sk-hidden--visually\" id=\"sk-estimator-id-1\" type=\"checkbox\" checked><label for=\"sk-estimator-id-1\" class=\"sk-toggleable__label fitted sk-toggleable__label-arrow\"><div><div>LogisticRegression</div></div><div><a class=\"sk-estimator-doc-link fitted\" rel=\"noreferrer\" target=\"_blank\" href=\"https://scikit-learn.org/1.6/modules/generated/sklearn.linear_model.LogisticRegression.html\">?<span>Documentation for LogisticRegression</span></a><span class=\"sk-estimator-doc-link fitted\">i<span>Fitted</span></span></div></label><div class=\"sk-toggleable__content fitted\"><pre>LogisticRegression()</pre></div> </div></div></div></div>"
            ]
          },
          "metadata": {},
          "execution_count": 103
        }
      ]
    },
    {
      "cell_type": "code",
      "source": [
        "train_pred = model.predict(X_train)\n"
      ],
      "metadata": {
        "id": "jHNAIfnXEXE_"
      },
      "execution_count": null,
      "outputs": []
    },
    {
      "cell_type": "code",
      "source": [
        "accuracy_score(y_train, train_pred)"
      ],
      "metadata": {
        "colab": {
          "base_uri": "https://localhost:8080/"
        },
        "id": "iW1EbQUdEZ1O",
        "outputId": "1f75e85e-4148-4573-da88-2de4496846df"
      },
      "execution_count": null,
      "outputs": [
        {
          "output_type": "execute_result",
          "data": {
            "text/plain": [
              "0.9608333333333333"
            ]
          },
          "metadata": {},
          "execution_count": 105
        }
      ]
    },
    {
      "cell_type": "code",
      "source": [
        "test_pred = model.predict(X_test)\n",
        "accuracy_score(y_test, test_pred)"
      ],
      "metadata": {
        "colab": {
          "base_uri": "https://localhost:8080/"
        },
        "id": "xQk4F0aJEbu3",
        "outputId": "309b16d4-a05e-4b64-b960-33ba19802ec3"
      },
      "execution_count": null,
      "outputs": [
        {
          "output_type": "execute_result",
          "data": {
            "text/plain": [
              "0.8933333333333333"
            ]
          },
          "metadata": {},
          "execution_count": 106
        }
      ]
    },
    {
      "cell_type": "code",
      "source": [
        "import os\n",
        "import pickle\n",
        "\n",
        "# Create the output directory\n",
        "os.makedirs(\"Output\", exist_ok=True)\n",
        "\n",
        "# Save the vectorizer and the model\n",
        "with open(\"Output/binary_count_vect.pkl\", \"wb\") as f:\n",
        "    pickle.dump(vect, f)\n",
        "with open(\"Output/binary_count_vect_lr.pkl\", \"wb\") as f:\n",
        "    pickle.dump(model, f)"
      ],
      "metadata": {
        "id": "7w1nxBezEerF"
      },
      "execution_count": null,
      "outputs": []
    },
    {
      "cell_type": "markdown",
      "source": [
        "**Section 5. Count Bag of Words and Model with it**"
      ],
      "metadata": {
        "id": "bvqVeSDrIKKG"
      }
    },
    {
      "cell_type": "code",
      "source": [
        "vect = CountVectorizer(min_df=5)\n",
        "X = vect.fit_transform(clean_reviews)"
      ],
      "metadata": {
        "id": "kBzGALFfEiUG"
      },
      "execution_count": null,
      "outputs": []
    },
    {
      "cell_type": "code",
      "source": [
        "X_a = X.toarray()"
      ],
      "metadata": {
        "id": "0s-tcUPYINIt"
      },
      "execution_count": null,
      "outputs": []
    },
    {
      "cell_type": "code",
      "source": [
        "clean_reviews[13]"
      ],
      "metadata": {
        "colab": {
          "base_uri": "https://localhost:8080/",
          "height": 36
        },
        "id": "8YhP6vV6IPJO",
        "outputId": "a6da6b82-bd68-470c-e28f-d972531f8d07"
      },
      "execution_count": null,
      "outputs": [
        {
          "output_type": "execute_result",
          "data": {
            "text/plain": [
              "'unabl save work noth work'"
            ],
            "application/vnd.google.colaboratory.intrinsic+json": {
              "type": "string"
            }
          },
          "metadata": {},
          "execution_count": 116
        }
      ]
    },
    {
      "cell_type": "code",
      "source": [
        "feature_names = vect.get_feature_names_out()\n",
        "token = \"work\"\n",
        "if token in feature_names:\n",
        " index = list(feature_names).index(token)\n",
        " print(f\"Index of '{token}': {index}\")\n",
        "else:\n",
        " print(f\"'{token}' not found in feature names.\")\n"
      ],
      "metadata": {
        "colab": {
          "base_uri": "https://localhost:8080/"
        },
        "id": "QCUDK7hiIRYR",
        "outputId": "4a0bbae2-b954-43e9-adea-e70c1918baa6"
      },
      "execution_count": null,
      "outputs": [
        {
          "output_type": "stream",
          "name": "stdout",
          "text": [
            "Index of 'work': 401\n"
          ]
        }
      ]
    },
    {
      "cell_type": "code",
      "source": [
        "X_a[13,:]"
      ],
      "metadata": {
        "colab": {
          "base_uri": "https://localhost:8080/"
        },
        "id": "xJDSsBCaIUON",
        "outputId": "9367e878-7f4a-49c0-f73a-c2d9ab88df70"
      },
      "execution_count": null,
      "outputs": [
        {
          "output_type": "execute_result",
          "data": {
            "text/plain": [
              "array([0, 0, 0, 0, 0, 0, 0, 0, 0, 0, 0, 0, 0, 0, 0, 0, 0, 0, 0, 0, 0, 0,\n",
              "       0, 0, 0, 0, 0, 0, 0, 0, 0, 0, 0, 0, 0, 0, 0, 0, 0, 0, 0, 0, 0, 0,\n",
              "       0, 0, 0, 0, 0, 0, 0, 0, 0, 0, 0, 0, 0, 0, 0, 0, 0, 0, 0, 0, 0, 0,\n",
              "       0, 0, 0, 0, 0, 0, 0, 0, 0, 0, 0, 0, 0, 0, 0, 0, 0, 0, 0, 0, 0, 0,\n",
              "       0, 0, 0, 0, 0, 0, 0, 0, 0, 0, 0, 0, 0, 0, 0, 0, 0, 0, 0, 0, 0, 0,\n",
              "       0, 0, 0, 0, 0, 0, 0, 0, 0, 0, 0, 0, 0, 0, 0, 0, 0, 0, 0, 0, 0, 0,\n",
              "       0, 0, 0, 0, 0, 0, 0, 0, 0, 0, 0, 0, 0, 0, 0, 0, 0, 0, 0, 0, 0, 0,\n",
              "       0, 0, 0, 0, 0, 0, 0, 0, 0, 0, 0, 0, 0, 0, 0, 0, 0, 0, 0, 0, 0, 0,\n",
              "       0, 0, 0, 0, 0, 0, 0, 0, 0, 0, 0, 0, 0, 0, 0, 0, 0, 0, 0, 0, 0, 0,\n",
              "       0, 0, 0, 0, 0, 0, 0, 0, 0, 0, 0, 0, 0, 0, 0, 0, 0, 0, 0, 0, 0, 0,\n",
              "       0, 0, 0, 0, 0, 0, 0, 0, 0, 0, 0, 0, 0, 1, 0, 0, 0, 0, 0, 0, 0, 0,\n",
              "       0, 0, 0, 0, 0, 0, 0, 0, 0, 0, 0, 0, 0, 0, 0, 0, 0, 0, 0, 0, 0, 0,\n",
              "       0, 0, 0, 0, 0, 0, 0, 0, 0, 0, 0, 0, 0, 0, 0, 0, 0, 0, 0, 0, 0, 0,\n",
              "       0, 0, 0, 0, 0, 0, 0, 0, 0, 0, 0, 0, 0, 0, 0, 0, 1, 0, 0, 0, 0, 0,\n",
              "       0, 0, 0, 0, 0, 0, 0, 0, 0, 0, 0, 0, 0, 0, 0, 0, 0, 0, 0, 0, 0, 0,\n",
              "       0, 0, 0, 0, 0, 0, 0, 0, 0, 0, 0, 0, 0, 0, 0, 0, 0, 0, 0, 0, 0, 0,\n",
              "       0, 0, 0, 0, 0, 0, 0, 0, 0, 0, 0, 0, 0, 0, 0, 0, 0, 0, 1, 0, 0, 0,\n",
              "       0, 0, 0, 0, 0, 0, 0, 0, 0, 0, 0, 0, 0, 0, 0, 0, 0, 0, 0, 0, 0, 0,\n",
              "       0, 0, 0, 0, 0, 2, 0, 0, 0, 0, 0, 0, 0, 0, 0, 0, 0])"
            ]
          },
          "metadata": {},
          "execution_count": 118
        }
      ]
    },
    {
      "cell_type": "code",
      "source": [
        "X_a[13,401]"
      ],
      "metadata": {
        "colab": {
          "base_uri": "https://localhost:8080/"
        },
        "id": "wsnPNRbcIW2-",
        "outputId": "f2590c5f-8b5f-438b-965f-160a5c185b5f"
      },
      "execution_count": null,
      "outputs": [
        {
          "output_type": "execute_result",
          "data": {
            "text/plain": [
              "2"
            ]
          },
          "metadata": {},
          "execution_count": 119
        }
      ]
    },
    {
      "cell_type": "code",
      "source": [
        "X_train, X_test, y_train, y_test = train_test_split(X, y, test_size=0.2,\n",
        " stratify=y, random_state=42)"
      ],
      "metadata": {
        "id": "DtQk7yhaIZxl"
      },
      "execution_count": null,
      "outputs": []
    },
    {
      "cell_type": "code",
      "source": [
        "model = LogisticRegression()\n",
        "model.fit(X_train, y_train)"
      ],
      "metadata": {
        "colab": {
          "base_uri": "https://localhost:8080/",
          "height": 80
        },
        "id": "6NxVcpXzIbul",
        "outputId": "451093c0-b48b-4ee1-d64a-d70800cc23ee"
      },
      "execution_count": null,
      "outputs": [
        {
          "output_type": "execute_result",
          "data": {
            "text/plain": [
              "LogisticRegression()"
            ],
            "text/html": [
              "<style>#sk-container-id-2 {\n",
              "  /* Definition of color scheme common for light and dark mode */\n",
              "  --sklearn-color-text: #000;\n",
              "  --sklearn-color-text-muted: #666;\n",
              "  --sklearn-color-line: gray;\n",
              "  /* Definition of color scheme for unfitted estimators */\n",
              "  --sklearn-color-unfitted-level-0: #fff5e6;\n",
              "  --sklearn-color-unfitted-level-1: #f6e4d2;\n",
              "  --sklearn-color-unfitted-level-2: #ffe0b3;\n",
              "  --sklearn-color-unfitted-level-3: chocolate;\n",
              "  /* Definition of color scheme for fitted estimators */\n",
              "  --sklearn-color-fitted-level-0: #f0f8ff;\n",
              "  --sklearn-color-fitted-level-1: #d4ebff;\n",
              "  --sklearn-color-fitted-level-2: #b3dbfd;\n",
              "  --sklearn-color-fitted-level-3: cornflowerblue;\n",
              "\n",
              "  /* Specific color for light theme */\n",
              "  --sklearn-color-text-on-default-background: var(--sg-text-color, var(--theme-code-foreground, var(--jp-content-font-color1, black)));\n",
              "  --sklearn-color-background: var(--sg-background-color, var(--theme-background, var(--jp-layout-color0, white)));\n",
              "  --sklearn-color-border-box: var(--sg-text-color, var(--theme-code-foreground, var(--jp-content-font-color1, black)));\n",
              "  --sklearn-color-icon: #696969;\n",
              "\n",
              "  @media (prefers-color-scheme: dark) {\n",
              "    /* Redefinition of color scheme for dark theme */\n",
              "    --sklearn-color-text-on-default-background: var(--sg-text-color, var(--theme-code-foreground, var(--jp-content-font-color1, white)));\n",
              "    --sklearn-color-background: var(--sg-background-color, var(--theme-background, var(--jp-layout-color0, #111)));\n",
              "    --sklearn-color-border-box: var(--sg-text-color, var(--theme-code-foreground, var(--jp-content-font-color1, white)));\n",
              "    --sklearn-color-icon: #878787;\n",
              "  }\n",
              "}\n",
              "\n",
              "#sk-container-id-2 {\n",
              "  color: var(--sklearn-color-text);\n",
              "}\n",
              "\n",
              "#sk-container-id-2 pre {\n",
              "  padding: 0;\n",
              "}\n",
              "\n",
              "#sk-container-id-2 input.sk-hidden--visually {\n",
              "  border: 0;\n",
              "  clip: rect(1px 1px 1px 1px);\n",
              "  clip: rect(1px, 1px, 1px, 1px);\n",
              "  height: 1px;\n",
              "  margin: -1px;\n",
              "  overflow: hidden;\n",
              "  padding: 0;\n",
              "  position: absolute;\n",
              "  width: 1px;\n",
              "}\n",
              "\n",
              "#sk-container-id-2 div.sk-dashed-wrapped {\n",
              "  border: 1px dashed var(--sklearn-color-line);\n",
              "  margin: 0 0.4em 0.5em 0.4em;\n",
              "  box-sizing: border-box;\n",
              "  padding-bottom: 0.4em;\n",
              "  background-color: var(--sklearn-color-background);\n",
              "}\n",
              "\n",
              "#sk-container-id-2 div.sk-container {\n",
              "  /* jupyter's `normalize.less` sets `[hidden] { display: none; }`\n",
              "     but bootstrap.min.css set `[hidden] { display: none !important; }`\n",
              "     so we also need the `!important` here to be able to override the\n",
              "     default hidden behavior on the sphinx rendered scikit-learn.org.\n",
              "     See: https://github.com/scikit-learn/scikit-learn/issues/21755 */\n",
              "  display: inline-block !important;\n",
              "  position: relative;\n",
              "}\n",
              "\n",
              "#sk-container-id-2 div.sk-text-repr-fallback {\n",
              "  display: none;\n",
              "}\n",
              "\n",
              "div.sk-parallel-item,\n",
              "div.sk-serial,\n",
              "div.sk-item {\n",
              "  /* draw centered vertical line to link estimators */\n",
              "  background-image: linear-gradient(var(--sklearn-color-text-on-default-background), var(--sklearn-color-text-on-default-background));\n",
              "  background-size: 2px 100%;\n",
              "  background-repeat: no-repeat;\n",
              "  background-position: center center;\n",
              "}\n",
              "\n",
              "/* Parallel-specific style estimator block */\n",
              "\n",
              "#sk-container-id-2 div.sk-parallel-item::after {\n",
              "  content: \"\";\n",
              "  width: 100%;\n",
              "  border-bottom: 2px solid var(--sklearn-color-text-on-default-background);\n",
              "  flex-grow: 1;\n",
              "}\n",
              "\n",
              "#sk-container-id-2 div.sk-parallel {\n",
              "  display: flex;\n",
              "  align-items: stretch;\n",
              "  justify-content: center;\n",
              "  background-color: var(--sklearn-color-background);\n",
              "  position: relative;\n",
              "}\n",
              "\n",
              "#sk-container-id-2 div.sk-parallel-item {\n",
              "  display: flex;\n",
              "  flex-direction: column;\n",
              "}\n",
              "\n",
              "#sk-container-id-2 div.sk-parallel-item:first-child::after {\n",
              "  align-self: flex-end;\n",
              "  width: 50%;\n",
              "}\n",
              "\n",
              "#sk-container-id-2 div.sk-parallel-item:last-child::after {\n",
              "  align-self: flex-start;\n",
              "  width: 50%;\n",
              "}\n",
              "\n",
              "#sk-container-id-2 div.sk-parallel-item:only-child::after {\n",
              "  width: 0;\n",
              "}\n",
              "\n",
              "/* Serial-specific style estimator block */\n",
              "\n",
              "#sk-container-id-2 div.sk-serial {\n",
              "  display: flex;\n",
              "  flex-direction: column;\n",
              "  align-items: center;\n",
              "  background-color: var(--sklearn-color-background);\n",
              "  padding-right: 1em;\n",
              "  padding-left: 1em;\n",
              "}\n",
              "\n",
              "\n",
              "/* Toggleable style: style used for estimator/Pipeline/ColumnTransformer box that is\n",
              "clickable and can be expanded/collapsed.\n",
              "- Pipeline and ColumnTransformer use this feature and define the default style\n",
              "- Estimators will overwrite some part of the style using the `sk-estimator` class\n",
              "*/\n",
              "\n",
              "/* Pipeline and ColumnTransformer style (default) */\n",
              "\n",
              "#sk-container-id-2 div.sk-toggleable {\n",
              "  /* Default theme specific background. It is overwritten whether we have a\n",
              "  specific estimator or a Pipeline/ColumnTransformer */\n",
              "  background-color: var(--sklearn-color-background);\n",
              "}\n",
              "\n",
              "/* Toggleable label */\n",
              "#sk-container-id-2 label.sk-toggleable__label {\n",
              "  cursor: pointer;\n",
              "  display: flex;\n",
              "  width: 100%;\n",
              "  margin-bottom: 0;\n",
              "  padding: 0.5em;\n",
              "  box-sizing: border-box;\n",
              "  text-align: center;\n",
              "  align-items: start;\n",
              "  justify-content: space-between;\n",
              "  gap: 0.5em;\n",
              "}\n",
              "\n",
              "#sk-container-id-2 label.sk-toggleable__label .caption {\n",
              "  font-size: 0.6rem;\n",
              "  font-weight: lighter;\n",
              "  color: var(--sklearn-color-text-muted);\n",
              "}\n",
              "\n",
              "#sk-container-id-2 label.sk-toggleable__label-arrow:before {\n",
              "  /* Arrow on the left of the label */\n",
              "  content: \"▸\";\n",
              "  float: left;\n",
              "  margin-right: 0.25em;\n",
              "  color: var(--sklearn-color-icon);\n",
              "}\n",
              "\n",
              "#sk-container-id-2 label.sk-toggleable__label-arrow:hover:before {\n",
              "  color: var(--sklearn-color-text);\n",
              "}\n",
              "\n",
              "/* Toggleable content - dropdown */\n",
              "\n",
              "#sk-container-id-2 div.sk-toggleable__content {\n",
              "  max-height: 0;\n",
              "  max-width: 0;\n",
              "  overflow: hidden;\n",
              "  text-align: left;\n",
              "  /* unfitted */\n",
              "  background-color: var(--sklearn-color-unfitted-level-0);\n",
              "}\n",
              "\n",
              "#sk-container-id-2 div.sk-toggleable__content.fitted {\n",
              "  /* fitted */\n",
              "  background-color: var(--sklearn-color-fitted-level-0);\n",
              "}\n",
              "\n",
              "#sk-container-id-2 div.sk-toggleable__content pre {\n",
              "  margin: 0.2em;\n",
              "  border-radius: 0.25em;\n",
              "  color: var(--sklearn-color-text);\n",
              "  /* unfitted */\n",
              "  background-color: var(--sklearn-color-unfitted-level-0);\n",
              "}\n",
              "\n",
              "#sk-container-id-2 div.sk-toggleable__content.fitted pre {\n",
              "  /* unfitted */\n",
              "  background-color: var(--sklearn-color-fitted-level-0);\n",
              "}\n",
              "\n",
              "#sk-container-id-2 input.sk-toggleable__control:checked~div.sk-toggleable__content {\n",
              "  /* Expand drop-down */\n",
              "  max-height: 200px;\n",
              "  max-width: 100%;\n",
              "  overflow: auto;\n",
              "}\n",
              "\n",
              "#sk-container-id-2 input.sk-toggleable__control:checked~label.sk-toggleable__label-arrow:before {\n",
              "  content: \"▾\";\n",
              "}\n",
              "\n",
              "/* Pipeline/ColumnTransformer-specific style */\n",
              "\n",
              "#sk-container-id-2 div.sk-label input.sk-toggleable__control:checked~label.sk-toggleable__label {\n",
              "  color: var(--sklearn-color-text);\n",
              "  background-color: var(--sklearn-color-unfitted-level-2);\n",
              "}\n",
              "\n",
              "#sk-container-id-2 div.sk-label.fitted input.sk-toggleable__control:checked~label.sk-toggleable__label {\n",
              "  background-color: var(--sklearn-color-fitted-level-2);\n",
              "}\n",
              "\n",
              "/* Estimator-specific style */\n",
              "\n",
              "/* Colorize estimator box */\n",
              "#sk-container-id-2 div.sk-estimator input.sk-toggleable__control:checked~label.sk-toggleable__label {\n",
              "  /* unfitted */\n",
              "  background-color: var(--sklearn-color-unfitted-level-2);\n",
              "}\n",
              "\n",
              "#sk-container-id-2 div.sk-estimator.fitted input.sk-toggleable__control:checked~label.sk-toggleable__label {\n",
              "  /* fitted */\n",
              "  background-color: var(--sklearn-color-fitted-level-2);\n",
              "}\n",
              "\n",
              "#sk-container-id-2 div.sk-label label.sk-toggleable__label,\n",
              "#sk-container-id-2 div.sk-label label {\n",
              "  /* The background is the default theme color */\n",
              "  color: var(--sklearn-color-text-on-default-background);\n",
              "}\n",
              "\n",
              "/* On hover, darken the color of the background */\n",
              "#sk-container-id-2 div.sk-label:hover label.sk-toggleable__label {\n",
              "  color: var(--sklearn-color-text);\n",
              "  background-color: var(--sklearn-color-unfitted-level-2);\n",
              "}\n",
              "\n",
              "/* Label box, darken color on hover, fitted */\n",
              "#sk-container-id-2 div.sk-label.fitted:hover label.sk-toggleable__label.fitted {\n",
              "  color: var(--sklearn-color-text);\n",
              "  background-color: var(--sklearn-color-fitted-level-2);\n",
              "}\n",
              "\n",
              "/* Estimator label */\n",
              "\n",
              "#sk-container-id-2 div.sk-label label {\n",
              "  font-family: monospace;\n",
              "  font-weight: bold;\n",
              "  display: inline-block;\n",
              "  line-height: 1.2em;\n",
              "}\n",
              "\n",
              "#sk-container-id-2 div.sk-label-container {\n",
              "  text-align: center;\n",
              "}\n",
              "\n",
              "/* Estimator-specific */\n",
              "#sk-container-id-2 div.sk-estimator {\n",
              "  font-family: monospace;\n",
              "  border: 1px dotted var(--sklearn-color-border-box);\n",
              "  border-radius: 0.25em;\n",
              "  box-sizing: border-box;\n",
              "  margin-bottom: 0.5em;\n",
              "  /* unfitted */\n",
              "  background-color: var(--sklearn-color-unfitted-level-0);\n",
              "}\n",
              "\n",
              "#sk-container-id-2 div.sk-estimator.fitted {\n",
              "  /* fitted */\n",
              "  background-color: var(--sklearn-color-fitted-level-0);\n",
              "}\n",
              "\n",
              "/* on hover */\n",
              "#sk-container-id-2 div.sk-estimator:hover {\n",
              "  /* unfitted */\n",
              "  background-color: var(--sklearn-color-unfitted-level-2);\n",
              "}\n",
              "\n",
              "#sk-container-id-2 div.sk-estimator.fitted:hover {\n",
              "  /* fitted */\n",
              "  background-color: var(--sklearn-color-fitted-level-2);\n",
              "}\n",
              "\n",
              "/* Specification for estimator info (e.g. \"i\" and \"?\") */\n",
              "\n",
              "/* Common style for \"i\" and \"?\" */\n",
              "\n",
              ".sk-estimator-doc-link,\n",
              "a:link.sk-estimator-doc-link,\n",
              "a:visited.sk-estimator-doc-link {\n",
              "  float: right;\n",
              "  font-size: smaller;\n",
              "  line-height: 1em;\n",
              "  font-family: monospace;\n",
              "  background-color: var(--sklearn-color-background);\n",
              "  border-radius: 1em;\n",
              "  height: 1em;\n",
              "  width: 1em;\n",
              "  text-decoration: none !important;\n",
              "  margin-left: 0.5em;\n",
              "  text-align: center;\n",
              "  /* unfitted */\n",
              "  border: var(--sklearn-color-unfitted-level-1) 1pt solid;\n",
              "  color: var(--sklearn-color-unfitted-level-1);\n",
              "}\n",
              "\n",
              ".sk-estimator-doc-link.fitted,\n",
              "a:link.sk-estimator-doc-link.fitted,\n",
              "a:visited.sk-estimator-doc-link.fitted {\n",
              "  /* fitted */\n",
              "  border: var(--sklearn-color-fitted-level-1) 1pt solid;\n",
              "  color: var(--sklearn-color-fitted-level-1);\n",
              "}\n",
              "\n",
              "/* On hover */\n",
              "div.sk-estimator:hover .sk-estimator-doc-link:hover,\n",
              ".sk-estimator-doc-link:hover,\n",
              "div.sk-label-container:hover .sk-estimator-doc-link:hover,\n",
              ".sk-estimator-doc-link:hover {\n",
              "  /* unfitted */\n",
              "  background-color: var(--sklearn-color-unfitted-level-3);\n",
              "  color: var(--sklearn-color-background);\n",
              "  text-decoration: none;\n",
              "}\n",
              "\n",
              "div.sk-estimator.fitted:hover .sk-estimator-doc-link.fitted:hover,\n",
              ".sk-estimator-doc-link.fitted:hover,\n",
              "div.sk-label-container:hover .sk-estimator-doc-link.fitted:hover,\n",
              ".sk-estimator-doc-link.fitted:hover {\n",
              "  /* fitted */\n",
              "  background-color: var(--sklearn-color-fitted-level-3);\n",
              "  color: var(--sklearn-color-background);\n",
              "  text-decoration: none;\n",
              "}\n",
              "\n",
              "/* Span, style for the box shown on hovering the info icon */\n",
              ".sk-estimator-doc-link span {\n",
              "  display: none;\n",
              "  z-index: 9999;\n",
              "  position: relative;\n",
              "  font-weight: normal;\n",
              "  right: .2ex;\n",
              "  padding: .5ex;\n",
              "  margin: .5ex;\n",
              "  width: min-content;\n",
              "  min-width: 20ex;\n",
              "  max-width: 50ex;\n",
              "  color: var(--sklearn-color-text);\n",
              "  box-shadow: 2pt 2pt 4pt #999;\n",
              "  /* unfitted */\n",
              "  background: var(--sklearn-color-unfitted-level-0);\n",
              "  border: .5pt solid var(--sklearn-color-unfitted-level-3);\n",
              "}\n",
              "\n",
              ".sk-estimator-doc-link.fitted span {\n",
              "  /* fitted */\n",
              "  background: var(--sklearn-color-fitted-level-0);\n",
              "  border: var(--sklearn-color-fitted-level-3);\n",
              "}\n",
              "\n",
              ".sk-estimator-doc-link:hover span {\n",
              "  display: block;\n",
              "}\n",
              "\n",
              "/* \"?\"-specific style due to the `<a>` HTML tag */\n",
              "\n",
              "#sk-container-id-2 a.estimator_doc_link {\n",
              "  float: right;\n",
              "  font-size: 1rem;\n",
              "  line-height: 1em;\n",
              "  font-family: monospace;\n",
              "  background-color: var(--sklearn-color-background);\n",
              "  border-radius: 1rem;\n",
              "  height: 1rem;\n",
              "  width: 1rem;\n",
              "  text-decoration: none;\n",
              "  /* unfitted */\n",
              "  color: var(--sklearn-color-unfitted-level-1);\n",
              "  border: var(--sklearn-color-unfitted-level-1) 1pt solid;\n",
              "}\n",
              "\n",
              "#sk-container-id-2 a.estimator_doc_link.fitted {\n",
              "  /* fitted */\n",
              "  border: var(--sklearn-color-fitted-level-1) 1pt solid;\n",
              "  color: var(--sklearn-color-fitted-level-1);\n",
              "}\n",
              "\n",
              "/* On hover */\n",
              "#sk-container-id-2 a.estimator_doc_link:hover {\n",
              "  /* unfitted */\n",
              "  background-color: var(--sklearn-color-unfitted-level-3);\n",
              "  color: var(--sklearn-color-background);\n",
              "  text-decoration: none;\n",
              "}\n",
              "\n",
              "#sk-container-id-2 a.estimator_doc_link.fitted:hover {\n",
              "  /* fitted */\n",
              "  background-color: var(--sklearn-color-fitted-level-3);\n",
              "}\n",
              "</style><div id=\"sk-container-id-2\" class=\"sk-top-container\"><div class=\"sk-text-repr-fallback\"><pre>LogisticRegression()</pre><b>In a Jupyter environment, please rerun this cell to show the HTML representation or trust the notebook. <br />On GitHub, the HTML representation is unable to render, please try loading this page with nbviewer.org.</b></div><div class=\"sk-container\" hidden><div class=\"sk-item\"><div class=\"sk-estimator fitted sk-toggleable\"><input class=\"sk-toggleable__control sk-hidden--visually\" id=\"sk-estimator-id-2\" type=\"checkbox\" checked><label for=\"sk-estimator-id-2\" class=\"sk-toggleable__label fitted sk-toggleable__label-arrow\"><div><div>LogisticRegression</div></div><div><a class=\"sk-estimator-doc-link fitted\" rel=\"noreferrer\" target=\"_blank\" href=\"https://scikit-learn.org/1.6/modules/generated/sklearn.linear_model.LogisticRegression.html\">?<span>Documentation for LogisticRegression</span></a><span class=\"sk-estimator-doc-link fitted\">i<span>Fitted</span></span></div></label><div class=\"sk-toggleable__content fitted\"><pre>LogisticRegression()</pre></div> </div></div></div></div>"
            ]
          },
          "metadata": {},
          "execution_count": 121
        }
      ]
    },
    {
      "cell_type": "code",
      "source": [
        "train_pred = model.predict(X_train)\n",
        "test_pred = model.predict(X_test)\n",
        "print(f\"Train Accuracy:{accuracy_score(y_train, train_pred)}\")\n",
        "print(f\"Test Accuracy:{accuracy_score(y_test, test_pred)}\")"
      ],
      "metadata": {
        "colab": {
          "base_uri": "https://localhost:8080/"
        },
        "id": "AJWwZzArIeVF",
        "outputId": "4a26bc0c-eece-4633-f71c-fee83c5b945d"
      },
      "execution_count": null,
      "outputs": [
        {
          "output_type": "stream",
          "name": "stdout",
          "text": [
            "Train Accuracy:0.9558333333333333\n",
            "Test Accuracy:0.8833333333333333\n"
          ]
        }
      ]
    },
    {
      "cell_type": "code",
      "source": [
        "with open(\"Output/count_vect.pkl\", \"wb\") as f:\n",
        " pickle.dump(vect, f)\n",
        "with open(\"Output/count_vect_lr.pkl\", \"wb\") as f:\n",
        " pickle.dump(model, f)"
      ],
      "metadata": {
        "id": "ZCb_PaUzIhnt"
      },
      "execution_count": null,
      "outputs": []
    },
    {
      "cell_type": "markdown",
      "source": [
        "**Section 6. N-grams Bag of Words and Model with it**\n"
      ],
      "metadata": {
        "id": "Bt40jgjjImKv"
      }
    },
    {
      "cell_type": "code",
      "source": [
        "vect = CountVectorizer(min_df=5, ngram_range=(1,3))\n",
        "X = vect.fit_transform(clean_reviews)"
      ],
      "metadata": {
        "id": "FgHGL5RiIkMd"
      },
      "execution_count": null,
      "outputs": []
    },
    {
      "cell_type": "code",
      "source": [
        "X.shape"
      ],
      "metadata": {
        "colab": {
          "base_uri": "https://localhost:8080/"
        },
        "id": "7XEDs92iIsf-",
        "outputId": "d120fe26-ae1c-4837-f4a4-bfefe4938fb0"
      },
      "execution_count": null,
      "outputs": [
        {
          "output_type": "execute_result",
          "data": {
            "text/plain": [
              "(1500, 666)"
            ]
          },
          "metadata": {},
          "execution_count": 125
        }
      ]
    },
    {
      "cell_type": "code",
      "source": [
        "vect.vocabulary_\n"
      ],
      "metadata": {
        "colab": {
          "base_uri": "https://localhost:8080/"
        },
        "id": "O-QLJIPGIuDN",
        "outputId": "20728de9-ad69-4d68-afde-ba75c409806a"
      },
      "execution_count": null,
      "outputs": [
        {
          "output_type": "execute_result",
          "data": {
            "text/plain": [
              "{'overal': 425,\n",
              " 'realli': 476,\n",
              " 'amaz': 19,\n",
              " 'app': 29,\n",
              " 've': 625,\n",
              " 'use': 602,\n",
              " 'past': 428,\n",
              " 'year': 661,\n",
              " 'howev': 298,\n",
              " 'one': 415,\n",
              " 'issu': 314,\n",
              " 'though': 579,\n",
              " 'want': 633,\n",
              " 'get': 257,\n",
              " 'sinc': 519,\n",
              " 'think': 578,\n",
              " 'last': 326,\n",
              " 'mani': 372,\n",
              " 'text': 573,\n",
              " 'zoom': 665,\n",
              " 'thought': 580,\n",
              " 'mobil': 385,\n",
              " 'also': 17,\n",
              " 'present': 455,\n",
              " 'websit': 638,\n",
              " 'pleas': 446,\n",
              " 'fix': 237,\n",
              " 'still': 539,\n",
              " 'time': 582,\n",
              " 'export': 219,\n",
              " 'high': 293,\n",
              " 'definit': 155,\n",
              " 'love': 350,\n",
              " 'experi': 217,\n",
              " 'thank': 574,\n",
              " 'realli amaz': 477,\n",
              " 'amaz app': 20,\n",
              " 'app ve': 66,\n",
              " 've use': 628,\n",
              " 'pleas fix': 447,\n",
              " 'gave': 255,\n",
              " 'star': 537,\n",
              " 'rate': 472,\n",
              " 'deserv': 156,\n",
              " 'desktop': 164,\n",
              " 'version': 629,\n",
              " 'satisfi': 499,\n",
              " 'android': 23,\n",
              " 'develop': 166,\n",
              " 'beauti': 86,\n",
              " 'liter': 335,\n",
              " 'find': 231,\n",
              " 'almost': 14,\n",
              " 'everyth': 212,\n",
              " 'need': 395,\n",
              " 'best': 89,\n",
              " 'even': 206,\n",
              " 'without': 645,\n",
              " 'premium': 453,\n",
              " 'featur': 227,\n",
              " 'provid': 466,\n",
              " 'us': 601,\n",
              " 'lot': 346,\n",
              " 'gave star': 256,\n",
              " 'desktop version': 165,\n",
              " 'canva': 117,\n",
              " 'good': 262,\n",
              " 'recent': 487,\n",
              " 'face': 220,\n",
              " 'save': 500,\n",
              " 'file': 230,\n",
              " 'stuck': 542,\n",
              " 'download': 174,\n",
              " 'call': 114,\n",
              " 'magic': 361,\n",
              " 'happen': 283,\n",
              " 'll': 337,\n",
              " 'hope': 297,\n",
              " 'soon': 535,\n",
              " 'good app': 263,\n",
              " 'brilliant': 104,\n",
              " 'problem': 461,\n",
              " 'edit': 191,\n",
              " 'post': 451,\n",
              " 'photo': 436,\n",
              " 'start': 538,\n",
              " '10': 0,\n",
              " 'crash': 143,\n",
              " 'restart': 492,\n",
              " 'sometim': 533,\n",
              " 'go': 261,\n",
              " 'resum': 494,\n",
              " 'back': 81,\n",
              " 'app one': 60,\n",
              " 'app crash': 35,\n",
              " 'great': 274,\n",
              " 'make': 362,\n",
              " 'updat': 598,\n",
              " 'abl': 2,\n",
              " 'chang': 124,\n",
              " 'font': 239,\n",
              " 'style': 546,\n",
              " 'option': 421,\n",
              " 'miss': 384,\n",
              " 'tri': 591,\n",
              " 'uninstal': 597,\n",
              " 'instal': 307,\n",
              " 'nt': 405,\n",
              " 'work': 651,\n",
              " 'far': 224,\n",
              " 'better': 101,\n",
              " 'could': 140,\n",
              " 'great app': 275,\n",
              " 'app use': 65,\n",
              " 'use make': 614,\n",
              " 'nt work': 412,\n",
              " 'first': 234,\n",
              " 'give': 258,\n",
              " 'review': 495,\n",
              " 'creat': 144,\n",
              " 'logo': 340,\n",
              " 'small': 524,\n",
              " 'compani': 133,\n",
              " 'busi': 106,\n",
              " 'data': 153,\n",
              " 'see': 508,\n",
              " 'job': 316,\n",
              " 'app realli': 61,\n",
              " 'realli great': 481,\n",
              " 'first time': 235,\n",
              " 'app great': 49,\n",
              " 'creat logo': 147,\n",
              " 'nt use': 411,\n",
              " 'use app': 603,\n",
              " 'great job': 280,\n",
              " 'basic': 85,\n",
              " 'design': 157,\n",
              " 'well': 639,\n",
              " 'keep': 317,\n",
              " 'take': 558,\n",
              " 'away': 78,\n",
              " 'free': 242,\n",
              " 'put': 468,\n",
              " 'subscript': 548,\n",
              " 'new': 398,\n",
              " 'ad': 9,\n",
              " 'graphic': 271,\n",
              " 'feel': 228,\n",
              " 'price': 457,\n",
              " 'pretti': 456,\n",
              " 'everi': 210,\n",
              " 'day': 154,\n",
              " 'rate star': 473,\n",
              " 'free version': 245,\n",
              " 'month': 388,\n",
              " 'thumbnail': 581,\n",
              " 'banner': 84,\n",
              " 'video': 630,\n",
              " 'watermark': 635,\n",
              " 'look': 345,\n",
              " 'much': 389,\n",
              " 'attract': 73,\n",
              " 'peopl': 431,\n",
              " 'come': 132,\n",
              " 'wonder': 648,\n",
              " 'make thumbnail': 371,\n",
              " 'app mani': 57,\n",
              " 'give star': 259,\n",
              " 'love app': 351,\n",
              " 'app thank': 64,\n",
              " 'wonder app': 649,\n",
              " 'superb': 554,\n",
              " 'user': 621,\n",
              " 'interfac': 309,\n",
              " 'finish': 233,\n",
              " 'awesom': 79,\n",
              " 'paid': 427,\n",
              " 'product': 462,\n",
              " 'like': 331,\n",
              " 'full': 249,\n",
              " 'function': 251,\n",
              " 'kind': 320,\n",
              " 'skill': 521,\n",
              " 'easi': 179,\n",
              " 'user interfac': 623,\n",
              " 'app make': 56,\n",
              " 'easi edit': 182,\n",
              " 'like app': 332,\n",
              " 'thank canva': 575,\n",
              " 'purchas': 467,\n",
              " 'never': 397,\n",
              " 'said': 498,\n",
              " 'check': 127,\n",
              " 'seen': 510,\n",
              " 'pictur': 441,\n",
              " 'wast': 634,\n",
              " 'solv': 531,\n",
              " 'video edit': 631,\n",
              " 'mani time': 378,\n",
              " 'use edit': 607,\n",
              " 'edit design': 193,\n",
              " 'easier': 189,\n",
              " 'tool': 588,\n",
              " 'etc': 205,\n",
              " 'slow': 523,\n",
              " 'load': 338,\n",
              " 'especi': 204,\n",
              " 'stress': 541,\n",
              " 'got': 270,\n",
              " 'wait': 632,\n",
              " 'stuff': 544,\n",
              " 'edit app': 192,\n",
              " 'edit make': 194,\n",
              " 'make edit': 367,\n",
              " 'page': 426,\n",
              " 'went': 640,\n",
              " 'improv': 303,\n",
              " 'disappoint': 170,\n",
              " 'wish': 644,\n",
              " 'close': 130,\n",
              " 'unabl': 594,\n",
              " 'noth': 404,\n",
              " 'unabl save': 595,\n",
              " 'save work': 505,\n",
              " 'help': 287,\n",
              " 'turn': 592,\n",
              " 'art': 71,\n",
              " 'money': 387,\n",
              " 'readi': 475,\n",
              " 'templat': 570,\n",
              " 'friendli': 247,\n",
              " 'poster': 452,\n",
              " 'conveni': 137,\n",
              " 'realli help': 482,\n",
              " 'use templat': 617,\n",
              " 'user friendli': 622,\n",
              " 'easi use': 184,\n",
              " 'slide': 522,\n",
              " 'select': 511,\n",
              " 'frustrat': 248,\n",
              " 'automat': 76,\n",
              " 'anoth': 26,\n",
              " 'ca': 109,\n",
              " 'may': 380,\n",
              " 'show': 514,\n",
              " 'imag': 301,\n",
              " 'done': 171,\n",
              " 'ca nt': 110,\n",
              " 'hate': 286,\n",
              " 'complet': 134,\n",
              " 'background': 82,\n",
              " 'bad': 83,\n",
              " 'far good': 225,\n",
              " 'could nt': 141,\n",
              " 'open': 419,\n",
              " 'let': 329,\n",
              " 'project': 464,\n",
              " 'social': 528,\n",
              " 'media': 381,\n",
              " 'site': 520,\n",
              " 'nt open': 409,\n",
              " 'social media': 529,\n",
              " 'ever': 207,\n",
              " 'anyth': 28,\n",
              " 'glitch': 260,\n",
              " 'it': 315,\n",
              " 'realli good': 479,\n",
              " 've ever': 626,\n",
              " 'ever use': 209,\n",
              " 'realli good app': 480,\n",
              " 've ever use': 627,\n",
              " 'nice': 400,\n",
              " 'add': 10,\n",
              " 'thing': 577,\n",
              " 'remov': 490,\n",
              " 'nice app': 401,\n",
              " 'long': 343,\n",
              " 'connect': 135,\n",
              " 'take long': 560,\n",
              " 'save imag': 502,\n",
              " 'worst': 654,\n",
              " 'lag': 323,\n",
              " 'becom': 87,\n",
              " 'auto': 74,\n",
              " 'team': 566,\n",
              " 'enough': 202,\n",
              " 'take much': 563,\n",
              " 'much time': 391,\n",
              " 'take much time': 564,\n",
              " 'say': 506,\n",
              " 'pro': 459,\n",
              " 'alot': 15,\n",
              " 'low': 359,\n",
              " 'app keep': 51,\n",
              " 'pro version': 460,\n",
              " 'take lot': 561,\n",
              " 'lot time': 349,\n",
              " 'time load': 583,\n",
              " 'take lot time': 562,\n",
              " 'fantast': 222,\n",
              " 'applic': 68,\n",
              " 'happi': 284,\n",
              " 'photo edit': 437,\n",
              " 'youtub': 663,\n",
              " 'app logo': 53,\n",
              " 'logo thumbnail': 342,\n",
              " 'app app': 31,\n",
              " 'app good': 46,\n",
              " 'someth': 532,\n",
              " 'perfect': 432,\n",
              " 'beginn': 88,\n",
              " 're': 474,\n",
              " 'right': 496,\n",
              " 'cool': 138,\n",
              " 'realli easi': 478,\n",
              " 'annoy': 25,\n",
              " 'share': 513,\n",
              " 'mode': 386,\n",
              " 'galleri': 253,\n",
              " 'log': 339,\n",
              " 'app save': 62,\n",
              " 'awesom app': 80,\n",
              " 'alway': 18,\n",
              " 'card': 123,\n",
              " 'advertis': 11,\n",
              " 'busi card': 107,\n",
              " 'interest': 308,\n",
              " 'differ': 168,\n",
              " 'help make': 292,\n",
              " 'creator': 150,\n",
              " 'one best': 416,\n",
              " 'best photo': 100,\n",
              " 'use get': 610,\n",
              " 'mani design': 373,\n",
              " 'design templat': 163,\n",
              " 'recommend': 488,\n",
              " 'everyon': 211,\n",
              " 'use use': 619,\n",
              " 'nt save': 410,\n",
              " 'save time': 504,\n",
              " 'total': 590,\n",
              " 'would': 657,\n",
              " 'plz': 448,\n",
              " 'small busi': 525,\n",
              " 'place': 443,\n",
              " 'creativ': 149,\n",
              " 'play': 445,\n",
              " 'mani templat': 376,\n",
              " 'life': 330,\n",
              " 'profession': 463,\n",
              " 'properli': 465,\n",
              " 'fantast app': 223,\n",
              " 'app love': 55,\n",
              " 'servic': 512,\n",
              " 'qualiti': 469,\n",
              " 'offer': 413,\n",
              " 'canva best': 119,\n",
              " 'best app': 90,\n",
              " 'high qualiti': 294,\n",
              " 'canva best app': 120,\n",
              " 'custom': 151,\n",
              " 'ca nt use': 113,\n",
              " 'incred': 304,\n",
              " 'phone': 435,\n",
              " 'impress': 302,\n",
              " 'easili': 190,\n",
              " 'intuit': 312,\n",
              " 'design app': 158,\n",
              " 'realli like': 483,\n",
              " 'free option': 243,\n",
              " 'use mani': 615,\n",
              " 'mani free': 374,\n",
              " 'easi use mani': 187,\n",
              " 'best edit': 97,\n",
              " 'afford': 12,\n",
              " 'use lot': 612,\n",
              " 'lot free': 348,\n",
              " 'absolut': 3,\n",
              " 'absolut love': 4,\n",
              " 'love canva': 354,\n",
              " 'make design': 365,\n",
              " 'choos': 128,\n",
              " 'person': 434,\n",
              " 'yet': 662,\n",
              " 'made': 360,\n",
              " 'know': 322,\n",
              " 'other': 423,\n",
              " 'use canva': 604,\n",
              " 'use free': 608,\n",
              " 'graphic design': 272,\n",
              " 'make app': 363,\n",
              " 'write': 659,\n",
              " 'app edit': 41,\n",
              " 'tell': 569,\n",
              " 'wrong': 660,\n",
              " 'less': 328,\n",
              " 'idea': 299,\n",
              " 'app easi': 39,\n",
              " 'app easi use': 40,\n",
              " 'canva app': 118,\n",
              " 'varieti': 624,\n",
              " 'love easi': 355,\n",
              " 'great app love': 277,\n",
              " 'love easi use': 356,\n",
              " 'im': 300,\n",
              " 'great app easi': 276,\n",
              " 'requir': 491,\n",
              " 'payment': 430,\n",
              " 'download design': 176,\n",
              " 'app lot': 54,\n",
              " 'free templat': 244,\n",
              " 'simpl': 516,\n",
              " 'lot featur': 347,\n",
              " 'laptop': 325,\n",
              " 'fun': 250,\n",
              " 'perfectli': 433,\n",
              " 'pl': 442,\n",
              " 'save design': 501,\n",
              " 'platform': 444,\n",
              " 'way': 636,\n",
              " 'app ever': 42,\n",
              " 'one best app': 417,\n",
              " 'best app ever': 93,\n",
              " 'app ever use': 43,\n",
              " 'super': 551,\n",
              " 'cover': 142,\n",
              " 'cool app': 139,\n",
              " 'edit photo': 195,\n",
              " 'love templat': 357,\n",
              " 'end': 200,\n",
              " 'result': 493,\n",
              " 'sure': 556,\n",
              " 'anyon': 27,\n",
              " 'app design': 37,\n",
              " 'make present': 370,\n",
              " 'creat design': 146,\n",
              " 'content': 136,\n",
              " 'great design': 278,\n",
              " 'easi use lot': 186,\n",
              " 'anim': 24,\n",
              " 'templat easi': 572,\n",
              " 'error': 203,\n",
              " 'technic': 567,\n",
              " 'technic issu': 568,\n",
              " 'instagram': 306,\n",
              " 'make easi': 366,\n",
              " 'absolut love app': 5,\n",
              " 'softwar': 530,\n",
              " 'youtub thumbnail': 664,\n",
              " 'easi creat': 180,\n",
              " 'time use': 585,\n",
              " 'first time use': 236,\n",
              " 'subscrib': 547,\n",
              " 'help lot': 291,\n",
              " 'auto save': 75,\n",
              " 'photo video': 438,\n",
              " 'fast': 226,\n",
              " 'internet': 310,\n",
              " 'pay': 429,\n",
              " 'allow': 13,\n",
              " 'best design': 95,\n",
              " 'editor': 197,\n",
              " 'feel like': 229,\n",
              " 'stori': 540,\n",
              " 'must': 393,\n",
              " 'best app edit': 92,\n",
              " 'world': 653,\n",
              " 'hang': 282,\n",
              " 'long time': 344,\n",
              " 'channel': 125,\n",
              " 'birthday': 102,\n",
              " 'facebook': 221,\n",
              " 'design best': 159,\n",
              " 'flyer': 238,\n",
              " 'use creat': 605,\n",
              " 'suck': 549,\n",
              " 'open app': 420,\n",
              " 'charg': 126,\n",
              " 'student': 543,\n",
              " 'simpl use': 517,\n",
              " 'app graphic': 47,\n",
              " 'design logo': 161,\n",
              " 'app graphic design': 48,\n",
              " 'learn': 327,\n",
              " 'seem': 509,\n",
              " 'use love': 613,\n",
              " 'school': 507,\n",
              " 'bit': 103,\n",
              " 'otherwis': 424,\n",
              " 'app creat': 36,\n",
              " 'excel': 214,\n",
              " 'smoothli': 527,\n",
              " 'download video': 177,\n",
              " 'top': 589,\n",
              " 'click': 129,\n",
              " 'bug': 105,\n",
              " 'cant': 116,\n",
              " 'save project': 503,\n",
              " 'nt even': 407,\n",
              " 'access': 6,\n",
              " 'onlin': 418,\n",
              " 'quick': 470,\n",
              " 'thank much': 576,\n",
              " 'difficult': 169,\n",
              " 'ton': 586,\n",
              " 'good app design': 264,\n",
              " 'app design logo': 38,\n",
              " 'use great': 611,\n",
              " 'love app easi': 352,\n",
              " 'easi use great': 185,\n",
              " 'smooth': 526,\n",
              " 'good work': 268,\n",
              " 'friend': 246,\n",
              " 'market': 379,\n",
              " 'app best': 34,\n",
              " 'logo design': 341,\n",
              " 'creat mani': 148,\n",
              " 'easi design': 181,\n",
              " 'design easi': 160,\n",
              " 'network': 396,\n",
              " 'cancel': 115,\n",
              " 'avail': 77,\n",
              " 'make banner': 364,\n",
              " 'help app': 288,\n",
              " 'game': 254,\n",
              " 'super easi': 552,\n",
              " 'use design': 606,\n",
              " 'super easi use': 553,\n",
              " 'best graphic': 98,\n",
              " 'best graphic design': 99,\n",
              " 'graphic design app': 273,\n",
              " 'offlin': 414,\n",
              " 'fine': 232,\n",
              " 'experienc': 218,\n",
              " 'nt download': 406,\n",
              " 'ca nt download': 111,\n",
              " 'photoshop': 439,\n",
              " 'wo': 646,\n",
              " 'googl': 269,\n",
              " 'account': 7,\n",
              " 'wo nt': 647,\n",
              " 'special': 536,\n",
              " 'app help': 50,\n",
              " 'realli like app': 484,\n",
              " 'design need': 162,\n",
              " 'use realli': 616,\n",
              " 'easi use realli': 188,\n",
              " 'aap': 1,\n",
              " 'print': 458,\n",
              " 'option edit': 422,\n",
              " 'navig': 394,\n",
              " 'invit': 313,\n",
              " 'recommend app': 489,\n",
              " 'enjoy': 201,\n",
              " 'suggest': 550,\n",
              " 'realli love': 485,\n",
              " 'realli love app': 486,\n",
              " 'understand': 596,\n",
              " 'ca nt save': 112,\n",
              " 'useless': 620,\n",
              " 'app take': 63,\n",
              " 'insta': 305,\n",
              " 'nice app edit': 402,\n",
              " 'love use': 358,\n",
              " 'app first': 45,\n",
              " 'edit pictur': 196,\n",
              " 'line': 334,\n",
              " 'type': 593,\n",
              " 'due': 178,\n",
              " 'whatev': 641,\n",
              " 'highli': 295,\n",
              " 'highli recommend': 296,\n",
              " 'collag': 131,\n",
              " 'good app make': 265,\n",
              " 'found': 241,\n",
              " 'doubt': 173,\n",
              " 'use full': 609,\n",
              " 'effect': 198,\n",
              " 'mani option': 375,\n",
              " 'help design': 290,\n",
              " 'good applic': 266,\n",
              " 'applic edit': 69,\n",
              " 'email': 199,\n",
              " 'quit': 471,\n",
              " 'app work': 67,\n",
              " 'hard': 285,\n",
              " 'wow': 658,\n",
              " 'new updat': 399,\n",
              " 'app beginn': 33,\n",
              " 'best design app': 96,\n",
              " 'time save': 584,\n",
              " 'much time save': 392,\n",
              " 'wifi': 643,\n",
              " 'app nt': 59,\n",
              " 'ask': 72,\n",
              " 'daili': 152,\n",
              " 'run': 497,\n",
              " 'limit': 333,\n",
              " 'guy': 281,\n",
              " 'amaz design': 22,\n",
              " 'soo': 534,\n",
              " 'app amaz': 30,\n",
              " 'everytim': 213,\n",
              " 'forev': 240,\n",
              " 'take forev': 559,\n",
              " 'make logo': 368,\n",
              " 'simpli': 518,\n",
              " 'word': 650,\n",
              " 'worth': 656,\n",
              " 'took': 587,\n",
              " 'prepar': 454,\n",
              " 'minut': 383,\n",
              " 'except': 216,\n",
              " 'app everyth': 44,\n",
              " 'canva pro': 121,\n",
              " 'nice easi': 403,\n",
              " 'work properli': 652,\n",
              " 'actual': 8,\n",
              " 'mind': 382,\n",
              " 'best app design': 91,\n",
              " 'upgrad': 599,\n",
              " 'amaz applic': 21,\n",
              " 'nt know': 408,\n",
              " 'kindli': 321,\n",
              " 'stun': 545,\n",
              " 'pic': 440,\n",
              " 'take time': 565,\n",
              " 'futur': 252,\n",
              " 'canva team': 122,\n",
              " 'excel app': 215,\n",
              " 'appreci': 70,\n",
              " 'easi make': 183,\n",
              " 'sign': 515,\n",
              " 'alreadi': 16,\n",
              " 'internet connect': 311,\n",
              " 'best app use': 94,\n",
              " 'use thank': 618,\n",
              " 'laggi': 324,\n",
              " 'buy': 108,\n",
              " 'creat canva': 145,\n",
              " 'good design': 267,\n",
              " 'love app help': 353,\n",
              " 'mani thing': 377,\n",
              " 'make poster': 369,\n",
              " 'ever seen': 208,\n",
              " 'app much': 58,\n",
              " 'much better': 390,\n",
              " 'download app': 175,\n",
              " 'upload': 600,\n",
              " 'dont': 172,\n",
              " 'templat design': 571,\n",
              " 'wide': 642,\n",
              " 'help creat': 289,\n",
              " 'app like': 52,\n",
              " 'littl': 336,\n",
              " 'web': 637,\n",
              " 'devic': 167,\n",
              " 'app awesom': 32,\n",
              " 'great easi': 279,\n",
              " 'poor': 449,\n",
              " 'superb app': 555,\n",
              " 'possibl': 450,\n",
              " 'tablet': 557,\n",
              " 'keep good': 318,\n",
              " 'keep good work': 319,\n",
              " 'worst app': 655}"
            ]
          },
          "metadata": {},
          "execution_count": 126
        }
      ]
    },
    {
      "cell_type": "code",
      "source": [
        "X_train, X_test, y_train, y_test = train_test_split(X, y, test_size=0.2,\n",
        " stratify=y, random_state=42)"
      ],
      "metadata": {
        "id": "N5CxQLu1Iwt9"
      },
      "execution_count": null,
      "outputs": []
    },
    {
      "cell_type": "code",
      "source": [
        "model = LogisticRegression()\n",
        "model.fit(X_train, y_train)"
      ],
      "metadata": {
        "colab": {
          "base_uri": "https://localhost:8080/",
          "height": 80
        },
        "id": "Ym1k3vCFI26N",
        "outputId": "e1cae298-ea73-429e-db60-52152b72e0c0"
      },
      "execution_count": null,
      "outputs": [
        {
          "output_type": "execute_result",
          "data": {
            "text/plain": [
              "LogisticRegression()"
            ],
            "text/html": [
              "<style>#sk-container-id-3 {\n",
              "  /* Definition of color scheme common for light and dark mode */\n",
              "  --sklearn-color-text: #000;\n",
              "  --sklearn-color-text-muted: #666;\n",
              "  --sklearn-color-line: gray;\n",
              "  /* Definition of color scheme for unfitted estimators */\n",
              "  --sklearn-color-unfitted-level-0: #fff5e6;\n",
              "  --sklearn-color-unfitted-level-1: #f6e4d2;\n",
              "  --sklearn-color-unfitted-level-2: #ffe0b3;\n",
              "  --sklearn-color-unfitted-level-3: chocolate;\n",
              "  /* Definition of color scheme for fitted estimators */\n",
              "  --sklearn-color-fitted-level-0: #f0f8ff;\n",
              "  --sklearn-color-fitted-level-1: #d4ebff;\n",
              "  --sklearn-color-fitted-level-2: #b3dbfd;\n",
              "  --sklearn-color-fitted-level-3: cornflowerblue;\n",
              "\n",
              "  /* Specific color for light theme */\n",
              "  --sklearn-color-text-on-default-background: var(--sg-text-color, var(--theme-code-foreground, var(--jp-content-font-color1, black)));\n",
              "  --sklearn-color-background: var(--sg-background-color, var(--theme-background, var(--jp-layout-color0, white)));\n",
              "  --sklearn-color-border-box: var(--sg-text-color, var(--theme-code-foreground, var(--jp-content-font-color1, black)));\n",
              "  --sklearn-color-icon: #696969;\n",
              "\n",
              "  @media (prefers-color-scheme: dark) {\n",
              "    /* Redefinition of color scheme for dark theme */\n",
              "    --sklearn-color-text-on-default-background: var(--sg-text-color, var(--theme-code-foreground, var(--jp-content-font-color1, white)));\n",
              "    --sklearn-color-background: var(--sg-background-color, var(--theme-background, var(--jp-layout-color0, #111)));\n",
              "    --sklearn-color-border-box: var(--sg-text-color, var(--theme-code-foreground, var(--jp-content-font-color1, white)));\n",
              "    --sklearn-color-icon: #878787;\n",
              "  }\n",
              "}\n",
              "\n",
              "#sk-container-id-3 {\n",
              "  color: var(--sklearn-color-text);\n",
              "}\n",
              "\n",
              "#sk-container-id-3 pre {\n",
              "  padding: 0;\n",
              "}\n",
              "\n",
              "#sk-container-id-3 input.sk-hidden--visually {\n",
              "  border: 0;\n",
              "  clip: rect(1px 1px 1px 1px);\n",
              "  clip: rect(1px, 1px, 1px, 1px);\n",
              "  height: 1px;\n",
              "  margin: -1px;\n",
              "  overflow: hidden;\n",
              "  padding: 0;\n",
              "  position: absolute;\n",
              "  width: 1px;\n",
              "}\n",
              "\n",
              "#sk-container-id-3 div.sk-dashed-wrapped {\n",
              "  border: 1px dashed var(--sklearn-color-line);\n",
              "  margin: 0 0.4em 0.5em 0.4em;\n",
              "  box-sizing: border-box;\n",
              "  padding-bottom: 0.4em;\n",
              "  background-color: var(--sklearn-color-background);\n",
              "}\n",
              "\n",
              "#sk-container-id-3 div.sk-container {\n",
              "  /* jupyter's `normalize.less` sets `[hidden] { display: none; }`\n",
              "     but bootstrap.min.css set `[hidden] { display: none !important; }`\n",
              "     so we also need the `!important` here to be able to override the\n",
              "     default hidden behavior on the sphinx rendered scikit-learn.org.\n",
              "     See: https://github.com/scikit-learn/scikit-learn/issues/21755 */\n",
              "  display: inline-block !important;\n",
              "  position: relative;\n",
              "}\n",
              "\n",
              "#sk-container-id-3 div.sk-text-repr-fallback {\n",
              "  display: none;\n",
              "}\n",
              "\n",
              "div.sk-parallel-item,\n",
              "div.sk-serial,\n",
              "div.sk-item {\n",
              "  /* draw centered vertical line to link estimators */\n",
              "  background-image: linear-gradient(var(--sklearn-color-text-on-default-background), var(--sklearn-color-text-on-default-background));\n",
              "  background-size: 2px 100%;\n",
              "  background-repeat: no-repeat;\n",
              "  background-position: center center;\n",
              "}\n",
              "\n",
              "/* Parallel-specific style estimator block */\n",
              "\n",
              "#sk-container-id-3 div.sk-parallel-item::after {\n",
              "  content: \"\";\n",
              "  width: 100%;\n",
              "  border-bottom: 2px solid var(--sklearn-color-text-on-default-background);\n",
              "  flex-grow: 1;\n",
              "}\n",
              "\n",
              "#sk-container-id-3 div.sk-parallel {\n",
              "  display: flex;\n",
              "  align-items: stretch;\n",
              "  justify-content: center;\n",
              "  background-color: var(--sklearn-color-background);\n",
              "  position: relative;\n",
              "}\n",
              "\n",
              "#sk-container-id-3 div.sk-parallel-item {\n",
              "  display: flex;\n",
              "  flex-direction: column;\n",
              "}\n",
              "\n",
              "#sk-container-id-3 div.sk-parallel-item:first-child::after {\n",
              "  align-self: flex-end;\n",
              "  width: 50%;\n",
              "}\n",
              "\n",
              "#sk-container-id-3 div.sk-parallel-item:last-child::after {\n",
              "  align-self: flex-start;\n",
              "  width: 50%;\n",
              "}\n",
              "\n",
              "#sk-container-id-3 div.sk-parallel-item:only-child::after {\n",
              "  width: 0;\n",
              "}\n",
              "\n",
              "/* Serial-specific style estimator block */\n",
              "\n",
              "#sk-container-id-3 div.sk-serial {\n",
              "  display: flex;\n",
              "  flex-direction: column;\n",
              "  align-items: center;\n",
              "  background-color: var(--sklearn-color-background);\n",
              "  padding-right: 1em;\n",
              "  padding-left: 1em;\n",
              "}\n",
              "\n",
              "\n",
              "/* Toggleable style: style used for estimator/Pipeline/ColumnTransformer box that is\n",
              "clickable and can be expanded/collapsed.\n",
              "- Pipeline and ColumnTransformer use this feature and define the default style\n",
              "- Estimators will overwrite some part of the style using the `sk-estimator` class\n",
              "*/\n",
              "\n",
              "/* Pipeline and ColumnTransformer style (default) */\n",
              "\n",
              "#sk-container-id-3 div.sk-toggleable {\n",
              "  /* Default theme specific background. It is overwritten whether we have a\n",
              "  specific estimator or a Pipeline/ColumnTransformer */\n",
              "  background-color: var(--sklearn-color-background);\n",
              "}\n",
              "\n",
              "/* Toggleable label */\n",
              "#sk-container-id-3 label.sk-toggleable__label {\n",
              "  cursor: pointer;\n",
              "  display: flex;\n",
              "  width: 100%;\n",
              "  margin-bottom: 0;\n",
              "  padding: 0.5em;\n",
              "  box-sizing: border-box;\n",
              "  text-align: center;\n",
              "  align-items: start;\n",
              "  justify-content: space-between;\n",
              "  gap: 0.5em;\n",
              "}\n",
              "\n",
              "#sk-container-id-3 label.sk-toggleable__label .caption {\n",
              "  font-size: 0.6rem;\n",
              "  font-weight: lighter;\n",
              "  color: var(--sklearn-color-text-muted);\n",
              "}\n",
              "\n",
              "#sk-container-id-3 label.sk-toggleable__label-arrow:before {\n",
              "  /* Arrow on the left of the label */\n",
              "  content: \"▸\";\n",
              "  float: left;\n",
              "  margin-right: 0.25em;\n",
              "  color: var(--sklearn-color-icon);\n",
              "}\n",
              "\n",
              "#sk-container-id-3 label.sk-toggleable__label-arrow:hover:before {\n",
              "  color: var(--sklearn-color-text);\n",
              "}\n",
              "\n",
              "/* Toggleable content - dropdown */\n",
              "\n",
              "#sk-container-id-3 div.sk-toggleable__content {\n",
              "  max-height: 0;\n",
              "  max-width: 0;\n",
              "  overflow: hidden;\n",
              "  text-align: left;\n",
              "  /* unfitted */\n",
              "  background-color: var(--sklearn-color-unfitted-level-0);\n",
              "}\n",
              "\n",
              "#sk-container-id-3 div.sk-toggleable__content.fitted {\n",
              "  /* fitted */\n",
              "  background-color: var(--sklearn-color-fitted-level-0);\n",
              "}\n",
              "\n",
              "#sk-container-id-3 div.sk-toggleable__content pre {\n",
              "  margin: 0.2em;\n",
              "  border-radius: 0.25em;\n",
              "  color: var(--sklearn-color-text);\n",
              "  /* unfitted */\n",
              "  background-color: var(--sklearn-color-unfitted-level-0);\n",
              "}\n",
              "\n",
              "#sk-container-id-3 div.sk-toggleable__content.fitted pre {\n",
              "  /* unfitted */\n",
              "  background-color: var(--sklearn-color-fitted-level-0);\n",
              "}\n",
              "\n",
              "#sk-container-id-3 input.sk-toggleable__control:checked~div.sk-toggleable__content {\n",
              "  /* Expand drop-down */\n",
              "  max-height: 200px;\n",
              "  max-width: 100%;\n",
              "  overflow: auto;\n",
              "}\n",
              "\n",
              "#sk-container-id-3 input.sk-toggleable__control:checked~label.sk-toggleable__label-arrow:before {\n",
              "  content: \"▾\";\n",
              "}\n",
              "\n",
              "/* Pipeline/ColumnTransformer-specific style */\n",
              "\n",
              "#sk-container-id-3 div.sk-label input.sk-toggleable__control:checked~label.sk-toggleable__label {\n",
              "  color: var(--sklearn-color-text);\n",
              "  background-color: var(--sklearn-color-unfitted-level-2);\n",
              "}\n",
              "\n",
              "#sk-container-id-3 div.sk-label.fitted input.sk-toggleable__control:checked~label.sk-toggleable__label {\n",
              "  background-color: var(--sklearn-color-fitted-level-2);\n",
              "}\n",
              "\n",
              "/* Estimator-specific style */\n",
              "\n",
              "/* Colorize estimator box */\n",
              "#sk-container-id-3 div.sk-estimator input.sk-toggleable__control:checked~label.sk-toggleable__label {\n",
              "  /* unfitted */\n",
              "  background-color: var(--sklearn-color-unfitted-level-2);\n",
              "}\n",
              "\n",
              "#sk-container-id-3 div.sk-estimator.fitted input.sk-toggleable__control:checked~label.sk-toggleable__label {\n",
              "  /* fitted */\n",
              "  background-color: var(--sklearn-color-fitted-level-2);\n",
              "}\n",
              "\n",
              "#sk-container-id-3 div.sk-label label.sk-toggleable__label,\n",
              "#sk-container-id-3 div.sk-label label {\n",
              "  /* The background is the default theme color */\n",
              "  color: var(--sklearn-color-text-on-default-background);\n",
              "}\n",
              "\n",
              "/* On hover, darken the color of the background */\n",
              "#sk-container-id-3 div.sk-label:hover label.sk-toggleable__label {\n",
              "  color: var(--sklearn-color-text);\n",
              "  background-color: var(--sklearn-color-unfitted-level-2);\n",
              "}\n",
              "\n",
              "/* Label box, darken color on hover, fitted */\n",
              "#sk-container-id-3 div.sk-label.fitted:hover label.sk-toggleable__label.fitted {\n",
              "  color: var(--sklearn-color-text);\n",
              "  background-color: var(--sklearn-color-fitted-level-2);\n",
              "}\n",
              "\n",
              "/* Estimator label */\n",
              "\n",
              "#sk-container-id-3 div.sk-label label {\n",
              "  font-family: monospace;\n",
              "  font-weight: bold;\n",
              "  display: inline-block;\n",
              "  line-height: 1.2em;\n",
              "}\n",
              "\n",
              "#sk-container-id-3 div.sk-label-container {\n",
              "  text-align: center;\n",
              "}\n",
              "\n",
              "/* Estimator-specific */\n",
              "#sk-container-id-3 div.sk-estimator {\n",
              "  font-family: monospace;\n",
              "  border: 1px dotted var(--sklearn-color-border-box);\n",
              "  border-radius: 0.25em;\n",
              "  box-sizing: border-box;\n",
              "  margin-bottom: 0.5em;\n",
              "  /* unfitted */\n",
              "  background-color: var(--sklearn-color-unfitted-level-0);\n",
              "}\n",
              "\n",
              "#sk-container-id-3 div.sk-estimator.fitted {\n",
              "  /* fitted */\n",
              "  background-color: var(--sklearn-color-fitted-level-0);\n",
              "}\n",
              "\n",
              "/* on hover */\n",
              "#sk-container-id-3 div.sk-estimator:hover {\n",
              "  /* unfitted */\n",
              "  background-color: var(--sklearn-color-unfitted-level-2);\n",
              "}\n",
              "\n",
              "#sk-container-id-3 div.sk-estimator.fitted:hover {\n",
              "  /* fitted */\n",
              "  background-color: var(--sklearn-color-fitted-level-2);\n",
              "}\n",
              "\n",
              "/* Specification for estimator info (e.g. \"i\" and \"?\") */\n",
              "\n",
              "/* Common style for \"i\" and \"?\" */\n",
              "\n",
              ".sk-estimator-doc-link,\n",
              "a:link.sk-estimator-doc-link,\n",
              "a:visited.sk-estimator-doc-link {\n",
              "  float: right;\n",
              "  font-size: smaller;\n",
              "  line-height: 1em;\n",
              "  font-family: monospace;\n",
              "  background-color: var(--sklearn-color-background);\n",
              "  border-radius: 1em;\n",
              "  height: 1em;\n",
              "  width: 1em;\n",
              "  text-decoration: none !important;\n",
              "  margin-left: 0.5em;\n",
              "  text-align: center;\n",
              "  /* unfitted */\n",
              "  border: var(--sklearn-color-unfitted-level-1) 1pt solid;\n",
              "  color: var(--sklearn-color-unfitted-level-1);\n",
              "}\n",
              "\n",
              ".sk-estimator-doc-link.fitted,\n",
              "a:link.sk-estimator-doc-link.fitted,\n",
              "a:visited.sk-estimator-doc-link.fitted {\n",
              "  /* fitted */\n",
              "  border: var(--sklearn-color-fitted-level-1) 1pt solid;\n",
              "  color: var(--sklearn-color-fitted-level-1);\n",
              "}\n",
              "\n",
              "/* On hover */\n",
              "div.sk-estimator:hover .sk-estimator-doc-link:hover,\n",
              ".sk-estimator-doc-link:hover,\n",
              "div.sk-label-container:hover .sk-estimator-doc-link:hover,\n",
              ".sk-estimator-doc-link:hover {\n",
              "  /* unfitted */\n",
              "  background-color: var(--sklearn-color-unfitted-level-3);\n",
              "  color: var(--sklearn-color-background);\n",
              "  text-decoration: none;\n",
              "}\n",
              "\n",
              "div.sk-estimator.fitted:hover .sk-estimator-doc-link.fitted:hover,\n",
              ".sk-estimator-doc-link.fitted:hover,\n",
              "div.sk-label-container:hover .sk-estimator-doc-link.fitted:hover,\n",
              ".sk-estimator-doc-link.fitted:hover {\n",
              "  /* fitted */\n",
              "  background-color: var(--sklearn-color-fitted-level-3);\n",
              "  color: var(--sklearn-color-background);\n",
              "  text-decoration: none;\n",
              "}\n",
              "\n",
              "/* Span, style for the box shown on hovering the info icon */\n",
              ".sk-estimator-doc-link span {\n",
              "  display: none;\n",
              "  z-index: 9999;\n",
              "  position: relative;\n",
              "  font-weight: normal;\n",
              "  right: .2ex;\n",
              "  padding: .5ex;\n",
              "  margin: .5ex;\n",
              "  width: min-content;\n",
              "  min-width: 20ex;\n",
              "  max-width: 50ex;\n",
              "  color: var(--sklearn-color-text);\n",
              "  box-shadow: 2pt 2pt 4pt #999;\n",
              "  /* unfitted */\n",
              "  background: var(--sklearn-color-unfitted-level-0);\n",
              "  border: .5pt solid var(--sklearn-color-unfitted-level-3);\n",
              "}\n",
              "\n",
              ".sk-estimator-doc-link.fitted span {\n",
              "  /* fitted */\n",
              "  background: var(--sklearn-color-fitted-level-0);\n",
              "  border: var(--sklearn-color-fitted-level-3);\n",
              "}\n",
              "\n",
              ".sk-estimator-doc-link:hover span {\n",
              "  display: block;\n",
              "}\n",
              "\n",
              "/* \"?\"-specific style due to the `<a>` HTML tag */\n",
              "\n",
              "#sk-container-id-3 a.estimator_doc_link {\n",
              "  float: right;\n",
              "  font-size: 1rem;\n",
              "  line-height: 1em;\n",
              "  font-family: monospace;\n",
              "  background-color: var(--sklearn-color-background);\n",
              "  border-radius: 1rem;\n",
              "  height: 1rem;\n",
              "  width: 1rem;\n",
              "  text-decoration: none;\n",
              "  /* unfitted */\n",
              "  color: var(--sklearn-color-unfitted-level-1);\n",
              "  border: var(--sklearn-color-unfitted-level-1) 1pt solid;\n",
              "}\n",
              "\n",
              "#sk-container-id-3 a.estimator_doc_link.fitted {\n",
              "  /* fitted */\n",
              "  border: var(--sklearn-color-fitted-level-1) 1pt solid;\n",
              "  color: var(--sklearn-color-fitted-level-1);\n",
              "}\n",
              "\n",
              "/* On hover */\n",
              "#sk-container-id-3 a.estimator_doc_link:hover {\n",
              "  /* unfitted */\n",
              "  background-color: var(--sklearn-color-unfitted-level-3);\n",
              "  color: var(--sklearn-color-background);\n",
              "  text-decoration: none;\n",
              "}\n",
              "\n",
              "#sk-container-id-3 a.estimator_doc_link.fitted:hover {\n",
              "  /* fitted */\n",
              "  background-color: var(--sklearn-color-fitted-level-3);\n",
              "}\n",
              "</style><div id=\"sk-container-id-3\" class=\"sk-top-container\"><div class=\"sk-text-repr-fallback\"><pre>LogisticRegression()</pre><b>In a Jupyter environment, please rerun this cell to show the HTML representation or trust the notebook. <br />On GitHub, the HTML representation is unable to render, please try loading this page with nbviewer.org.</b></div><div class=\"sk-container\" hidden><div class=\"sk-item\"><div class=\"sk-estimator fitted sk-toggleable\"><input class=\"sk-toggleable__control sk-hidden--visually\" id=\"sk-estimator-id-3\" type=\"checkbox\" checked><label for=\"sk-estimator-id-3\" class=\"sk-toggleable__label fitted sk-toggleable__label-arrow\"><div><div>LogisticRegression</div></div><div><a class=\"sk-estimator-doc-link fitted\" rel=\"noreferrer\" target=\"_blank\" href=\"https://scikit-learn.org/1.6/modules/generated/sklearn.linear_model.LogisticRegression.html\">?<span>Documentation for LogisticRegression</span></a><span class=\"sk-estimator-doc-link fitted\">i<span>Fitted</span></span></div></label><div class=\"sk-toggleable__content fitted\"><pre>LogisticRegression()</pre></div> </div></div></div></div>"
            ]
          },
          "metadata": {},
          "execution_count": 128
        }
      ]
    },
    {
      "cell_type": "code",
      "source": [
        "train_pred = model.predict(X_train)\n",
        "test_pred = model.predict(X_test)\n",
        "print(f\"Train Accuracy:{accuracy_score(y_train, train_pred)}\")\n",
        "print(f\"Test Accuracy:{accuracy_score(y_test, test_pred)}\")\n"
      ],
      "metadata": {
        "colab": {
          "base_uri": "https://localhost:8080/"
        },
        "id": "37VTzAMQI49t",
        "outputId": "fffc5794-a83c-4e44-ffdb-2044d761db41"
      },
      "execution_count": null,
      "outputs": [
        {
          "output_type": "stream",
          "name": "stdout",
          "text": [
            "Train Accuracy:0.9708333333333333\n",
            "Test Accuracy:0.8933333333333333\n"
          ]
        }
      ]
    },
    {
      "cell_type": "code",
      "source": [
        "with open(\"Output/n_gram.pkl\", \"wb\") as f:\n",
        " pickle.dump(vect, f)\n",
        "with open(\"Output/n_gram_lr.pkl\", \"wb\") as f:\n",
        " pickle.dump(model, f)"
      ],
      "metadata": {
        "id": "Ij1XpeNRI7Gt"
      },
      "execution_count": null,
      "outputs": []
    },
    {
      "cell_type": "markdown",
      "source": [
        "**Section 7. TF-IDF and Model with it**"
      ],
      "metadata": {
        "id": "k5stTibSI-6O"
      }
    },
    {
      "cell_type": "code",
      "source": [
        "vect = TfidfVectorizer(min_df=5)"
      ],
      "metadata": {
        "id": "kWlf0fryI8xt"
      },
      "execution_count": null,
      "outputs": []
    },
    {
      "cell_type": "code",
      "source": [
        "X = vect.fit_transform(clean_reviews)"
      ],
      "metadata": {
        "id": "HmMofHo_JB8l"
      },
      "execution_count": null,
      "outputs": []
    },
    {
      "cell_type": "code",
      "source": [
        "X.shape"
      ],
      "metadata": {
        "colab": {
          "base_uri": "https://localhost:8080/"
        },
        "id": "MbbyKOjDJEFV",
        "outputId": "a20f51c1-1d80-434c-b76e-e0ab86521cbe"
      },
      "execution_count": null,
      "outputs": [
        {
          "output_type": "execute_result",
          "data": {
            "text/plain": [
              "(1500, 413)"
            ]
          },
          "metadata": {},
          "execution_count": 133
        }
      ]
    },
    {
      "cell_type": "code",
      "source": [
        "X_train, X_test, y_train, y_test = train_test_split(X, y, test_size=0.2,\n",
        " stratify=y, random_state=42)"
      ],
      "metadata": {
        "id": "ehTyVBViJH6l"
      },
      "execution_count": null,
      "outputs": []
    },
    {
      "cell_type": "code",
      "source": [
        "model = LogisticRegression()\n",
        "model.fit(X_train, y_train)\n"
      ],
      "metadata": {
        "colab": {
          "base_uri": "https://localhost:8080/",
          "height": 80
        },
        "id": "J_2syhmyJKQ1",
        "outputId": "198a3bc1-1068-47e6-ecf8-67997ec35b70"
      },
      "execution_count": null,
      "outputs": [
        {
          "output_type": "execute_result",
          "data": {
            "text/plain": [
              "LogisticRegression()"
            ],
            "text/html": [
              "<style>#sk-container-id-4 {\n",
              "  /* Definition of color scheme common for light and dark mode */\n",
              "  --sklearn-color-text: #000;\n",
              "  --sklearn-color-text-muted: #666;\n",
              "  --sklearn-color-line: gray;\n",
              "  /* Definition of color scheme for unfitted estimators */\n",
              "  --sklearn-color-unfitted-level-0: #fff5e6;\n",
              "  --sklearn-color-unfitted-level-1: #f6e4d2;\n",
              "  --sklearn-color-unfitted-level-2: #ffe0b3;\n",
              "  --sklearn-color-unfitted-level-3: chocolate;\n",
              "  /* Definition of color scheme for fitted estimators */\n",
              "  --sklearn-color-fitted-level-0: #f0f8ff;\n",
              "  --sklearn-color-fitted-level-1: #d4ebff;\n",
              "  --sklearn-color-fitted-level-2: #b3dbfd;\n",
              "  --sklearn-color-fitted-level-3: cornflowerblue;\n",
              "\n",
              "  /* Specific color for light theme */\n",
              "  --sklearn-color-text-on-default-background: var(--sg-text-color, var(--theme-code-foreground, var(--jp-content-font-color1, black)));\n",
              "  --sklearn-color-background: var(--sg-background-color, var(--theme-background, var(--jp-layout-color0, white)));\n",
              "  --sklearn-color-border-box: var(--sg-text-color, var(--theme-code-foreground, var(--jp-content-font-color1, black)));\n",
              "  --sklearn-color-icon: #696969;\n",
              "\n",
              "  @media (prefers-color-scheme: dark) {\n",
              "    /* Redefinition of color scheme for dark theme */\n",
              "    --sklearn-color-text-on-default-background: var(--sg-text-color, var(--theme-code-foreground, var(--jp-content-font-color1, white)));\n",
              "    --sklearn-color-background: var(--sg-background-color, var(--theme-background, var(--jp-layout-color0, #111)));\n",
              "    --sklearn-color-border-box: var(--sg-text-color, var(--theme-code-foreground, var(--jp-content-font-color1, white)));\n",
              "    --sklearn-color-icon: #878787;\n",
              "  }\n",
              "}\n",
              "\n",
              "#sk-container-id-4 {\n",
              "  color: var(--sklearn-color-text);\n",
              "}\n",
              "\n",
              "#sk-container-id-4 pre {\n",
              "  padding: 0;\n",
              "}\n",
              "\n",
              "#sk-container-id-4 input.sk-hidden--visually {\n",
              "  border: 0;\n",
              "  clip: rect(1px 1px 1px 1px);\n",
              "  clip: rect(1px, 1px, 1px, 1px);\n",
              "  height: 1px;\n",
              "  margin: -1px;\n",
              "  overflow: hidden;\n",
              "  padding: 0;\n",
              "  position: absolute;\n",
              "  width: 1px;\n",
              "}\n",
              "\n",
              "#sk-container-id-4 div.sk-dashed-wrapped {\n",
              "  border: 1px dashed var(--sklearn-color-line);\n",
              "  margin: 0 0.4em 0.5em 0.4em;\n",
              "  box-sizing: border-box;\n",
              "  padding-bottom: 0.4em;\n",
              "  background-color: var(--sklearn-color-background);\n",
              "}\n",
              "\n",
              "#sk-container-id-4 div.sk-container {\n",
              "  /* jupyter's `normalize.less` sets `[hidden] { display: none; }`\n",
              "     but bootstrap.min.css set `[hidden] { display: none !important; }`\n",
              "     so we also need the `!important` here to be able to override the\n",
              "     default hidden behavior on the sphinx rendered scikit-learn.org.\n",
              "     See: https://github.com/scikit-learn/scikit-learn/issues/21755 */\n",
              "  display: inline-block !important;\n",
              "  position: relative;\n",
              "}\n",
              "\n",
              "#sk-container-id-4 div.sk-text-repr-fallback {\n",
              "  display: none;\n",
              "}\n",
              "\n",
              "div.sk-parallel-item,\n",
              "div.sk-serial,\n",
              "div.sk-item {\n",
              "  /* draw centered vertical line to link estimators */\n",
              "  background-image: linear-gradient(var(--sklearn-color-text-on-default-background), var(--sklearn-color-text-on-default-background));\n",
              "  background-size: 2px 100%;\n",
              "  background-repeat: no-repeat;\n",
              "  background-position: center center;\n",
              "}\n",
              "\n",
              "/* Parallel-specific style estimator block */\n",
              "\n",
              "#sk-container-id-4 div.sk-parallel-item::after {\n",
              "  content: \"\";\n",
              "  width: 100%;\n",
              "  border-bottom: 2px solid var(--sklearn-color-text-on-default-background);\n",
              "  flex-grow: 1;\n",
              "}\n",
              "\n",
              "#sk-container-id-4 div.sk-parallel {\n",
              "  display: flex;\n",
              "  align-items: stretch;\n",
              "  justify-content: center;\n",
              "  background-color: var(--sklearn-color-background);\n",
              "  position: relative;\n",
              "}\n",
              "\n",
              "#sk-container-id-4 div.sk-parallel-item {\n",
              "  display: flex;\n",
              "  flex-direction: column;\n",
              "}\n",
              "\n",
              "#sk-container-id-4 div.sk-parallel-item:first-child::after {\n",
              "  align-self: flex-end;\n",
              "  width: 50%;\n",
              "}\n",
              "\n",
              "#sk-container-id-4 div.sk-parallel-item:last-child::after {\n",
              "  align-self: flex-start;\n",
              "  width: 50%;\n",
              "}\n",
              "\n",
              "#sk-container-id-4 div.sk-parallel-item:only-child::after {\n",
              "  width: 0;\n",
              "}\n",
              "\n",
              "/* Serial-specific style estimator block */\n",
              "\n",
              "#sk-container-id-4 div.sk-serial {\n",
              "  display: flex;\n",
              "  flex-direction: column;\n",
              "  align-items: center;\n",
              "  background-color: var(--sklearn-color-background);\n",
              "  padding-right: 1em;\n",
              "  padding-left: 1em;\n",
              "}\n",
              "\n",
              "\n",
              "/* Toggleable style: style used for estimator/Pipeline/ColumnTransformer box that is\n",
              "clickable and can be expanded/collapsed.\n",
              "- Pipeline and ColumnTransformer use this feature and define the default style\n",
              "- Estimators will overwrite some part of the style using the `sk-estimator` class\n",
              "*/\n",
              "\n",
              "/* Pipeline and ColumnTransformer style (default) */\n",
              "\n",
              "#sk-container-id-4 div.sk-toggleable {\n",
              "  /* Default theme specific background. It is overwritten whether we have a\n",
              "  specific estimator or a Pipeline/ColumnTransformer */\n",
              "  background-color: var(--sklearn-color-background);\n",
              "}\n",
              "\n",
              "/* Toggleable label */\n",
              "#sk-container-id-4 label.sk-toggleable__label {\n",
              "  cursor: pointer;\n",
              "  display: flex;\n",
              "  width: 100%;\n",
              "  margin-bottom: 0;\n",
              "  padding: 0.5em;\n",
              "  box-sizing: border-box;\n",
              "  text-align: center;\n",
              "  align-items: start;\n",
              "  justify-content: space-between;\n",
              "  gap: 0.5em;\n",
              "}\n",
              "\n",
              "#sk-container-id-4 label.sk-toggleable__label .caption {\n",
              "  font-size: 0.6rem;\n",
              "  font-weight: lighter;\n",
              "  color: var(--sklearn-color-text-muted);\n",
              "}\n",
              "\n",
              "#sk-container-id-4 label.sk-toggleable__label-arrow:before {\n",
              "  /* Arrow on the left of the label */\n",
              "  content: \"▸\";\n",
              "  float: left;\n",
              "  margin-right: 0.25em;\n",
              "  color: var(--sklearn-color-icon);\n",
              "}\n",
              "\n",
              "#sk-container-id-4 label.sk-toggleable__label-arrow:hover:before {\n",
              "  color: var(--sklearn-color-text);\n",
              "}\n",
              "\n",
              "/* Toggleable content - dropdown */\n",
              "\n",
              "#sk-container-id-4 div.sk-toggleable__content {\n",
              "  max-height: 0;\n",
              "  max-width: 0;\n",
              "  overflow: hidden;\n",
              "  text-align: left;\n",
              "  /* unfitted */\n",
              "  background-color: var(--sklearn-color-unfitted-level-0);\n",
              "}\n",
              "\n",
              "#sk-container-id-4 div.sk-toggleable__content.fitted {\n",
              "  /* fitted */\n",
              "  background-color: var(--sklearn-color-fitted-level-0);\n",
              "}\n",
              "\n",
              "#sk-container-id-4 div.sk-toggleable__content pre {\n",
              "  margin: 0.2em;\n",
              "  border-radius: 0.25em;\n",
              "  color: var(--sklearn-color-text);\n",
              "  /* unfitted */\n",
              "  background-color: var(--sklearn-color-unfitted-level-0);\n",
              "}\n",
              "\n",
              "#sk-container-id-4 div.sk-toggleable__content.fitted pre {\n",
              "  /* unfitted */\n",
              "  background-color: var(--sklearn-color-fitted-level-0);\n",
              "}\n",
              "\n",
              "#sk-container-id-4 input.sk-toggleable__control:checked~div.sk-toggleable__content {\n",
              "  /* Expand drop-down */\n",
              "  max-height: 200px;\n",
              "  max-width: 100%;\n",
              "  overflow: auto;\n",
              "}\n",
              "\n",
              "#sk-container-id-4 input.sk-toggleable__control:checked~label.sk-toggleable__label-arrow:before {\n",
              "  content: \"▾\";\n",
              "}\n",
              "\n",
              "/* Pipeline/ColumnTransformer-specific style */\n",
              "\n",
              "#sk-container-id-4 div.sk-label input.sk-toggleable__control:checked~label.sk-toggleable__label {\n",
              "  color: var(--sklearn-color-text);\n",
              "  background-color: var(--sklearn-color-unfitted-level-2);\n",
              "}\n",
              "\n",
              "#sk-container-id-4 div.sk-label.fitted input.sk-toggleable__control:checked~label.sk-toggleable__label {\n",
              "  background-color: var(--sklearn-color-fitted-level-2);\n",
              "}\n",
              "\n",
              "/* Estimator-specific style */\n",
              "\n",
              "/* Colorize estimator box */\n",
              "#sk-container-id-4 div.sk-estimator input.sk-toggleable__control:checked~label.sk-toggleable__label {\n",
              "  /* unfitted */\n",
              "  background-color: var(--sklearn-color-unfitted-level-2);\n",
              "}\n",
              "\n",
              "#sk-container-id-4 div.sk-estimator.fitted input.sk-toggleable__control:checked~label.sk-toggleable__label {\n",
              "  /* fitted */\n",
              "  background-color: var(--sklearn-color-fitted-level-2);\n",
              "}\n",
              "\n",
              "#sk-container-id-4 div.sk-label label.sk-toggleable__label,\n",
              "#sk-container-id-4 div.sk-label label {\n",
              "  /* The background is the default theme color */\n",
              "  color: var(--sklearn-color-text-on-default-background);\n",
              "}\n",
              "\n",
              "/* On hover, darken the color of the background */\n",
              "#sk-container-id-4 div.sk-label:hover label.sk-toggleable__label {\n",
              "  color: var(--sklearn-color-text);\n",
              "  background-color: var(--sklearn-color-unfitted-level-2);\n",
              "}\n",
              "\n",
              "/* Label box, darken color on hover, fitted */\n",
              "#sk-container-id-4 div.sk-label.fitted:hover label.sk-toggleable__label.fitted {\n",
              "  color: var(--sklearn-color-text);\n",
              "  background-color: var(--sklearn-color-fitted-level-2);\n",
              "}\n",
              "\n",
              "/* Estimator label */\n",
              "\n",
              "#sk-container-id-4 div.sk-label label {\n",
              "  font-family: monospace;\n",
              "  font-weight: bold;\n",
              "  display: inline-block;\n",
              "  line-height: 1.2em;\n",
              "}\n",
              "\n",
              "#sk-container-id-4 div.sk-label-container {\n",
              "  text-align: center;\n",
              "}\n",
              "\n",
              "/* Estimator-specific */\n",
              "#sk-container-id-4 div.sk-estimator {\n",
              "  font-family: monospace;\n",
              "  border: 1px dotted var(--sklearn-color-border-box);\n",
              "  border-radius: 0.25em;\n",
              "  box-sizing: border-box;\n",
              "  margin-bottom: 0.5em;\n",
              "  /* unfitted */\n",
              "  background-color: var(--sklearn-color-unfitted-level-0);\n",
              "}\n",
              "\n",
              "#sk-container-id-4 div.sk-estimator.fitted {\n",
              "  /* fitted */\n",
              "  background-color: var(--sklearn-color-fitted-level-0);\n",
              "}\n",
              "\n",
              "/* on hover */\n",
              "#sk-container-id-4 div.sk-estimator:hover {\n",
              "  /* unfitted */\n",
              "  background-color: var(--sklearn-color-unfitted-level-2);\n",
              "}\n",
              "\n",
              "#sk-container-id-4 div.sk-estimator.fitted:hover {\n",
              "  /* fitted */\n",
              "  background-color: var(--sklearn-color-fitted-level-2);\n",
              "}\n",
              "\n",
              "/* Specification for estimator info (e.g. \"i\" and \"?\") */\n",
              "\n",
              "/* Common style for \"i\" and \"?\" */\n",
              "\n",
              ".sk-estimator-doc-link,\n",
              "a:link.sk-estimator-doc-link,\n",
              "a:visited.sk-estimator-doc-link {\n",
              "  float: right;\n",
              "  font-size: smaller;\n",
              "  line-height: 1em;\n",
              "  font-family: monospace;\n",
              "  background-color: var(--sklearn-color-background);\n",
              "  border-radius: 1em;\n",
              "  height: 1em;\n",
              "  width: 1em;\n",
              "  text-decoration: none !important;\n",
              "  margin-left: 0.5em;\n",
              "  text-align: center;\n",
              "  /* unfitted */\n",
              "  border: var(--sklearn-color-unfitted-level-1) 1pt solid;\n",
              "  color: var(--sklearn-color-unfitted-level-1);\n",
              "}\n",
              "\n",
              ".sk-estimator-doc-link.fitted,\n",
              "a:link.sk-estimator-doc-link.fitted,\n",
              "a:visited.sk-estimator-doc-link.fitted {\n",
              "  /* fitted */\n",
              "  border: var(--sklearn-color-fitted-level-1) 1pt solid;\n",
              "  color: var(--sklearn-color-fitted-level-1);\n",
              "}\n",
              "\n",
              "/* On hover */\n",
              "div.sk-estimator:hover .sk-estimator-doc-link:hover,\n",
              ".sk-estimator-doc-link:hover,\n",
              "div.sk-label-container:hover .sk-estimator-doc-link:hover,\n",
              ".sk-estimator-doc-link:hover {\n",
              "  /* unfitted */\n",
              "  background-color: var(--sklearn-color-unfitted-level-3);\n",
              "  color: var(--sklearn-color-background);\n",
              "  text-decoration: none;\n",
              "}\n",
              "\n",
              "div.sk-estimator.fitted:hover .sk-estimator-doc-link.fitted:hover,\n",
              ".sk-estimator-doc-link.fitted:hover,\n",
              "div.sk-label-container:hover .sk-estimator-doc-link.fitted:hover,\n",
              ".sk-estimator-doc-link.fitted:hover {\n",
              "  /* fitted */\n",
              "  background-color: var(--sklearn-color-fitted-level-3);\n",
              "  color: var(--sklearn-color-background);\n",
              "  text-decoration: none;\n",
              "}\n",
              "\n",
              "/* Span, style for the box shown on hovering the info icon */\n",
              ".sk-estimator-doc-link span {\n",
              "  display: none;\n",
              "  z-index: 9999;\n",
              "  position: relative;\n",
              "  font-weight: normal;\n",
              "  right: .2ex;\n",
              "  padding: .5ex;\n",
              "  margin: .5ex;\n",
              "  width: min-content;\n",
              "  min-width: 20ex;\n",
              "  max-width: 50ex;\n",
              "  color: var(--sklearn-color-text);\n",
              "  box-shadow: 2pt 2pt 4pt #999;\n",
              "  /* unfitted */\n",
              "  background: var(--sklearn-color-unfitted-level-0);\n",
              "  border: .5pt solid var(--sklearn-color-unfitted-level-3);\n",
              "}\n",
              "\n",
              ".sk-estimator-doc-link.fitted span {\n",
              "  /* fitted */\n",
              "  background: var(--sklearn-color-fitted-level-0);\n",
              "  border: var(--sklearn-color-fitted-level-3);\n",
              "}\n",
              "\n",
              ".sk-estimator-doc-link:hover span {\n",
              "  display: block;\n",
              "}\n",
              "\n",
              "/* \"?\"-specific style due to the `<a>` HTML tag */\n",
              "\n",
              "#sk-container-id-4 a.estimator_doc_link {\n",
              "  float: right;\n",
              "  font-size: 1rem;\n",
              "  line-height: 1em;\n",
              "  font-family: monospace;\n",
              "  background-color: var(--sklearn-color-background);\n",
              "  border-radius: 1rem;\n",
              "  height: 1rem;\n",
              "  width: 1rem;\n",
              "  text-decoration: none;\n",
              "  /* unfitted */\n",
              "  color: var(--sklearn-color-unfitted-level-1);\n",
              "  border: var(--sklearn-color-unfitted-level-1) 1pt solid;\n",
              "}\n",
              "\n",
              "#sk-container-id-4 a.estimator_doc_link.fitted {\n",
              "  /* fitted */\n",
              "  border: var(--sklearn-color-fitted-level-1) 1pt solid;\n",
              "  color: var(--sklearn-color-fitted-level-1);\n",
              "}\n",
              "\n",
              "/* On hover */\n",
              "#sk-container-id-4 a.estimator_doc_link:hover {\n",
              "  /* unfitted */\n",
              "  background-color: var(--sklearn-color-unfitted-level-3);\n",
              "  color: var(--sklearn-color-background);\n",
              "  text-decoration: none;\n",
              "}\n",
              "\n",
              "#sk-container-id-4 a.estimator_doc_link.fitted:hover {\n",
              "  /* fitted */\n",
              "  background-color: var(--sklearn-color-fitted-level-3);\n",
              "}\n",
              "</style><div id=\"sk-container-id-4\" class=\"sk-top-container\"><div class=\"sk-text-repr-fallback\"><pre>LogisticRegression()</pre><b>In a Jupyter environment, please rerun this cell to show the HTML representation or trust the notebook. <br />On GitHub, the HTML representation is unable to render, please try loading this page with nbviewer.org.</b></div><div class=\"sk-container\" hidden><div class=\"sk-item\"><div class=\"sk-estimator fitted sk-toggleable\"><input class=\"sk-toggleable__control sk-hidden--visually\" id=\"sk-estimator-id-4\" type=\"checkbox\" checked><label for=\"sk-estimator-id-4\" class=\"sk-toggleable__label fitted sk-toggleable__label-arrow\"><div><div>LogisticRegression</div></div><div><a class=\"sk-estimator-doc-link fitted\" rel=\"noreferrer\" target=\"_blank\" href=\"https://scikit-learn.org/1.6/modules/generated/sklearn.linear_model.LogisticRegression.html\">?<span>Documentation for LogisticRegression</span></a><span class=\"sk-estimator-doc-link fitted\">i<span>Fitted</span></span></div></label><div class=\"sk-toggleable__content fitted\"><pre>LogisticRegression()</pre></div> </div></div></div></div>"
            ]
          },
          "metadata": {},
          "execution_count": 135
        }
      ]
    },
    {
      "cell_type": "code",
      "source": [
        "train_pred = model.predict(X_train)\n",
        "test_pred = model.predict(X_test)\n",
        "print(f\"Train Accuracy:{accuracy_score(y_train, train_pred)}\")\n",
        "print(f\"Test Accuracy:{accuracy_score(y_test, test_pred)}\")"
      ],
      "metadata": {
        "colab": {
          "base_uri": "https://localhost:8080/"
        },
        "id": "iW7N_ukLJMIL",
        "outputId": "07a64421-7c02-46a8-fc2a-77f717650f34"
      },
      "execution_count": null,
      "outputs": [
        {
          "output_type": "stream",
          "name": "stdout",
          "text": [
            "Train Accuracy:0.9341666666666667\n",
            "Test Accuracy:0.8766666666666667\n"
          ]
        }
      ]
    },
    {
      "cell_type": "code",
      "source": [
        "with open(\"Output/tf-idf.pkl\", \"wb\") as f:\n",
        " pickle.dump(vect, f)\n",
        "with open(\"Output/tf-idf_lr.pkl\", \"wb\") as f:\n",
        " pickle.dump(model, f)"
      ],
      "metadata": {
        "id": "qpbot2wXJN_t"
      },
      "execution_count": null,
      "outputs": []
    },
    {
      "cell_type": "markdown",
      "source": [
        "**Section 8. Prediction on new data**"
      ],
      "metadata": {
        "id": "AJrKsgmUJUfW"
      }
    },
    {
      "cell_type": "code",
      "source": [
        "# Sample test reviews\n",
        "test_review_1 = '''this is a truly amazing app , best for those who havw\n",
        "content but don't know how to express it in a good and shareable manner.\n",
        "Thanks Team Canva for such a great app.'''\n",
        "test_review_2 = '''Its the worst app ever I save my design lts not save'''\n",
        "test_review_3 = 'Difficult to use. The interface is not user-friendly. No good for'"
      ],
      "metadata": {
        "id": "oP9tmX3iJSs9"
      },
      "execution_count": null,
      "outputs": []
    },
    {
      "cell_type": "code",
      "source": [
        "#Load the best model (n-gram) and its vectorizer\n",
        "vect = pickle.load(open(\"Output/n_gram.pkl\", \"rb\"))\n",
        "model = pickle.load(open(\"Output/n_gram_lr.pkl\", \"rb\"))\n"
      ],
      "metadata": {
        "id": "N01X6p_uJbVV"
      },
      "execution_count": null,
      "outputs": []
    },
    {
      "cell_type": "code",
      "source": [
        "# Convert the reviews to a batch of one record\n",
        "test_review_1 = [test_review_1]\n",
        "test_review_2 = [test_review_2]\n",
        "test_review_3 = [test_review_3]"
      ],
      "metadata": {
        "id": "FCGvjSEOJdxN"
      },
      "execution_count": null,
      "outputs": []
    },
    {
      "cell_type": "code",
      "source": [
        "type(test_review_1)\n",
        "print(test_review_1)"
      ],
      "metadata": {
        "colab": {
          "base_uri": "https://localhost:8080/"
        },
        "id": "NKwxN5imJfJk",
        "outputId": "da85cf0f-3b22-458f-dd33-0c2e161a1074"
      },
      "execution_count": null,
      "outputs": [
        {
          "output_type": "stream",
          "name": "stdout",
          "text": [
            "[\"this is a truly amazing app , best for those who havw\\ncontent but don't know how to express it in a good and shareable manner.\\nThanks Team Canva for such a great app.\"]\n"
          ]
        }
      ]
    },
    {
      "cell_type": "code",
      "source": [
        "test_review_1 = [r.lower() for r in test_review_1]\n",
        "test_review_2 = [r.lower() for r in test_review_2]\n",
        "test_review_3 = [r.lower() for r in test_review_3]"
      ],
      "metadata": {
        "id": "ZUwn3UyKJhKk"
      },
      "execution_count": null,
      "outputs": []
    },
    {
      "cell_type": "code",
      "source": [
        "tokens_1 = [word_tokenize(r) for r in test_review_1]\n",
        "tokens_2 = [word_tokenize(r) for r in test_review_2]\n",
        "tokens_3 = [word_tokenize(r) for r in test_review_3]"
      ],
      "metadata": {
        "id": "lisO7oB3Jks1"
      },
      "execution_count": null,
      "outputs": []
    },
    {
      "cell_type": "code",
      "source": [
        "tokens_1 = [[word for word in t if word not in sw] for t in tokens_1]\n",
        "tokens_2 = [[word for word in t if word not in sw] for t in tokens_2]\n",
        "tokens_3 = [[word for word in t if word not in sw] for t in tokens_3]"
      ],
      "metadata": {
        "id": "2O6NC7wQJmWl"
      },
      "execution_count": null,
      "outputs": []
    },
    {
      "cell_type": "code",
      "source": [
        "tokens_1 = [[\"\".join(tokenizer.tokenize(word)) for word in t\n",
        " if len(tokenizer.tokenize(word))>0] for t in tokens_1]\n",
        "tokens_2 = [[\"\".join(tokenizer.tokenize(word)) for word in t\n",
        " if len(tokenizer.tokenize(word))>0] for t in tokens_2]\n",
        "tokens_3 = [[\"\".join(tokenizer.tokenize(word)) for word in t\n",
        " if len(tokenizer.tokenize(word))>0] for t in tokens_3]"
      ],
      "metadata": {
        "id": "PYhNllxAJoAt"
      },
      "execution_count": null,
      "outputs": []
    },
    {
      "cell_type": "code",
      "source": [
        "tokens_1 = [[porter.stem(word) for word in t] for t in tokens_1]\n",
        "tokens_2 = [[porter.stem(word) for word in t] for t in tokens_2]\n",
        "tokens_3 = [[porter.stem(word) for word in t] for t in tokens_3]"
      ],
      "metadata": {
        "id": "zC12Ok6UJpbV"
      },
      "execution_count": null,
      "outputs": []
    },
    {
      "cell_type": "code",
      "source": [
        "clean_review_1 = [\" \".join(review) for review in tokens_1]\n",
        "clean_review_2 = [\" \".join(review) for review in tokens_2]\n",
        "clean_review_3 = [\" \".join(review) for review in tokens_3]"
      ],
      "metadata": {
        "id": "nx1mxrJ2JrHt"
      },
      "execution_count": null,
      "outputs": []
    },
    {
      "cell_type": "code",
      "source": [
        "X_test = vect.transform(clean_review_1)\n",
        "print(X_test.shape)\n",
        "print(model.predict_proba(X_test)) # probability for class 0 (negative) and class 1\n",
        "print(model.predict(X_test))\n"
      ],
      "metadata": {
        "colab": {
          "base_uri": "https://localhost:8080/"
        },
        "id": "PvqenGsXJspt",
        "outputId": "5c8a081a-fdae-46c6-980d-6f52f9d8bb2d"
      },
      "execution_count": null,
      "outputs": [
        {
          "output_type": "stream",
          "name": "stdout",
          "text": [
            "(1, 666)\n",
            "[[0.00443387 0.99556613]]\n",
            "[1]\n"
          ]
        }
      ]
    },
    {
      "cell_type": "code",
      "source": [
        "X_test = vect.transform(clean_review_2)\n",
        "print(X_test.shape)\n",
        "print(model.predict_proba(X_test)) # probability for class 0 (negative) and class 1\n",
        "print(model.predict(X_test))"
      ],
      "metadata": {
        "id": "aMlRBCKpJu5V",
        "outputId": "4fd4a44d-81a0-4212-e2af-fb017d0f5cd1",
        "colab": {
          "base_uri": "https://localhost:8080/"
        }
      },
      "execution_count": null,
      "outputs": [
        {
          "output_type": "stream",
          "name": "stdout",
          "text": [
            "(1, 666)\n",
            "[[0.87712216 0.12287784]]\n",
            "[0]\n"
          ]
        }
      ]
    },
    {
      "cell_type": "code",
      "source": [
        "X_test = vect.transform(clean_review_3)\n",
        "print(X_test.shape)\n",
        "print(model.predict_proba(X_test)) # probability for class 0 (negative) and class 1\n",
        "print(model.predict(X_test))"
      ],
      "metadata": {
        "id": "UaaLh0npJxPE",
        "outputId": "a0f9d636-84a2-4bcf-e8e5-fdc6671ba41e",
        "colab": {
          "base_uri": "https://localhost:8080/"
        }
      },
      "execution_count": null,
      "outputs": [
        {
          "output_type": "stream",
          "name": "stdout",
          "text": [
            "(1, 666)\n",
            "[[0.74332161 0.25667839]]\n",
            "[0]\n"
          ]
        }
      ]
    },
    {
      "cell_type": "code",
      "source": [],
      "metadata": {
        "id": "JfLaYCQtJz6s"
      },
      "execution_count": null,
      "outputs": []
    }
  ]
}